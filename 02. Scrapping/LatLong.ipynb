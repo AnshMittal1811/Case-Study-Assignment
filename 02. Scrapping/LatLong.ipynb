{
 "cells": [
  {
   "cell_type": "code",
   "execution_count": 153,
   "metadata": {},
   "outputs": [],
   "source": [
    "from bs4 import BeautifulSoup \n",
    "\n",
    "## automating web browser interaction\n",
    "from selenium import webdriver # module containing implementations of browser drivers\n",
    "from webdriver_manager.chrome import ChromeDriverManager # Chrome driver \n",
    "from selenium.webdriver.support import expected_conditions as EC # method for writing code that waits until conditions are met \n",
    "from selenium.webdriver.support.ui import WebDriverWait # method for writing code that implements implicit or explicit waits\n",
    "from selenium.webdriver.common.by import By # method for locating elements by their attributes\n",
    "from selenium.webdriver import ActionChains # module for implementing browser interactions \n",
    "from selenium.common.exceptions import TimeoutException\n",
    "\n",
    "\n",
    "## plotting\n",
    "import matplotlib.pyplot as plt\n",
    "\n",
    "## data manipulation\n",
    "import pandas as pd\n",
    "from datetime import datetime\n",
    "import numpy as np\n",
    "import csv"
   ]
  },
  {
   "cell_type": "code",
   "execution_count": 154,
   "metadata": {},
   "outputs": [],
   "source": [
    "df = pd.read_csv('../../Scrapping/Data/States&stationCodes.csv', header = 0)"
   ]
  },
  {
   "cell_type": "code",
   "execution_count": 155,
   "metadata": {},
   "outputs": [
    {
     "name": "stdout",
     "output_type": "stream",
     "text": [
      "<class 'pandas.core.frame.DataFrame'>\n",
      "RangeIndex: 226 entries, 0 to 225\n",
      "Data columns (total 7 columns):\n",
      "States       226 non-null object\n",
      "City         226 non-null object\n",
      "st_Code      226 non-null object\n",
      "st_Name      226 non-null object\n",
      "Board        226 non-null object\n",
      "Latitude     0 non-null float64\n",
      "Longitude    0 non-null float64\n",
      "dtypes: float64(2), object(5)\n",
      "memory usage: 12.4+ KB\n"
     ]
    }
   ],
   "source": [
    "df.info()"
   ]
  },
  {
   "cell_type": "code",
   "execution_count": 156,
   "metadata": {},
   "outputs": [
    {
     "data": {
      "text/html": [
       "<div>\n",
       "<style scoped>\n",
       "    .dataframe tbody tr th:only-of-type {\n",
       "        vertical-align: middle;\n",
       "    }\n",
       "\n",
       "    .dataframe tbody tr th {\n",
       "        vertical-align: top;\n",
       "    }\n",
       "\n",
       "    .dataframe thead th {\n",
       "        text-align: right;\n",
       "    }\n",
       "</style>\n",
       "<table border=\"1\" class=\"dataframe\">\n",
       "  <thead>\n",
       "    <tr style=\"text-align: right;\">\n",
       "      <th></th>\n",
       "      <th>Latitude</th>\n",
       "      <th>Longitude</th>\n",
       "    </tr>\n",
       "  </thead>\n",
       "  <tbody>\n",
       "    <tr>\n",
       "      <th>count</th>\n",
       "      <td>0.0</td>\n",
       "      <td>0.0</td>\n",
       "    </tr>\n",
       "    <tr>\n",
       "      <th>mean</th>\n",
       "      <td>NaN</td>\n",
       "      <td>NaN</td>\n",
       "    </tr>\n",
       "    <tr>\n",
       "      <th>std</th>\n",
       "      <td>NaN</td>\n",
       "      <td>NaN</td>\n",
       "    </tr>\n",
       "    <tr>\n",
       "      <th>min</th>\n",
       "      <td>NaN</td>\n",
       "      <td>NaN</td>\n",
       "    </tr>\n",
       "    <tr>\n",
       "      <th>25%</th>\n",
       "      <td>NaN</td>\n",
       "      <td>NaN</td>\n",
       "    </tr>\n",
       "    <tr>\n",
       "      <th>50%</th>\n",
       "      <td>NaN</td>\n",
       "      <td>NaN</td>\n",
       "    </tr>\n",
       "    <tr>\n",
       "      <th>75%</th>\n",
       "      <td>NaN</td>\n",
       "      <td>NaN</td>\n",
       "    </tr>\n",
       "    <tr>\n",
       "      <th>max</th>\n",
       "      <td>NaN</td>\n",
       "      <td>NaN</td>\n",
       "    </tr>\n",
       "  </tbody>\n",
       "</table>\n",
       "</div>"
      ],
      "text/plain": [
       "       Latitude  Longitude\n",
       "count       0.0        0.0\n",
       "mean        NaN        NaN\n",
       "std         NaN        NaN\n",
       "min         NaN        NaN\n",
       "25%         NaN        NaN\n",
       "50%         NaN        NaN\n",
       "75%         NaN        NaN\n",
       "max         NaN        NaN"
      ]
     },
     "execution_count": 156,
     "metadata": {},
     "output_type": "execute_result"
    }
   ],
   "source": [
    "df.describe()"
   ]
  },
  {
   "cell_type": "code",
   "execution_count": 157,
   "metadata": {},
   "outputs": [
    {
     "data": {
      "text/html": [
       "<div>\n",
       "<style scoped>\n",
       "    .dataframe tbody tr th:only-of-type {\n",
       "        vertical-align: middle;\n",
       "    }\n",
       "\n",
       "    .dataframe tbody tr th {\n",
       "        vertical-align: top;\n",
       "    }\n",
       "\n",
       "    .dataframe thead th {\n",
       "        text-align: right;\n",
       "    }\n",
       "</style>\n",
       "<table border=\"1\" class=\"dataframe\">\n",
       "  <thead>\n",
       "    <tr style=\"text-align: right;\">\n",
       "      <th></th>\n",
       "      <th>States</th>\n",
       "      <th>City</th>\n",
       "      <th>st_Code</th>\n",
       "      <th>st_Name</th>\n",
       "      <th>Board</th>\n",
       "      <th>Latitude</th>\n",
       "      <th>Longitude</th>\n",
       "    </tr>\n",
       "  </thead>\n",
       "  <tbody>\n",
       "    <tr>\n",
       "      <th>0</th>\n",
       "      <td>False</td>\n",
       "      <td>False</td>\n",
       "      <td>False</td>\n",
       "      <td>False</td>\n",
       "      <td>False</td>\n",
       "      <td>True</td>\n",
       "      <td>True</td>\n",
       "    </tr>\n",
       "    <tr>\n",
       "      <th>1</th>\n",
       "      <td>False</td>\n",
       "      <td>False</td>\n",
       "      <td>False</td>\n",
       "      <td>False</td>\n",
       "      <td>False</td>\n",
       "      <td>True</td>\n",
       "      <td>True</td>\n",
       "    </tr>\n",
       "    <tr>\n",
       "      <th>2</th>\n",
       "      <td>False</td>\n",
       "      <td>False</td>\n",
       "      <td>False</td>\n",
       "      <td>False</td>\n",
       "      <td>False</td>\n",
       "      <td>True</td>\n",
       "      <td>True</td>\n",
       "    </tr>\n",
       "    <tr>\n",
       "      <th>3</th>\n",
       "      <td>False</td>\n",
       "      <td>False</td>\n",
       "      <td>False</td>\n",
       "      <td>False</td>\n",
       "      <td>False</td>\n",
       "      <td>True</td>\n",
       "      <td>True</td>\n",
       "    </tr>\n",
       "    <tr>\n",
       "      <th>4</th>\n",
       "      <td>False</td>\n",
       "      <td>False</td>\n",
       "      <td>False</td>\n",
       "      <td>False</td>\n",
       "      <td>False</td>\n",
       "      <td>True</td>\n",
       "      <td>True</td>\n",
       "    </tr>\n",
       "    <tr>\n",
       "      <th>5</th>\n",
       "      <td>False</td>\n",
       "      <td>False</td>\n",
       "      <td>False</td>\n",
       "      <td>False</td>\n",
       "      <td>False</td>\n",
       "      <td>True</td>\n",
       "      <td>True</td>\n",
       "    </tr>\n",
       "    <tr>\n",
       "      <th>6</th>\n",
       "      <td>False</td>\n",
       "      <td>False</td>\n",
       "      <td>False</td>\n",
       "      <td>False</td>\n",
       "      <td>False</td>\n",
       "      <td>True</td>\n",
       "      <td>True</td>\n",
       "    </tr>\n",
       "    <tr>\n",
       "      <th>7</th>\n",
       "      <td>False</td>\n",
       "      <td>False</td>\n",
       "      <td>False</td>\n",
       "      <td>False</td>\n",
       "      <td>False</td>\n",
       "      <td>True</td>\n",
       "      <td>True</td>\n",
       "    </tr>\n",
       "    <tr>\n",
       "      <th>8</th>\n",
       "      <td>False</td>\n",
       "      <td>False</td>\n",
       "      <td>False</td>\n",
       "      <td>False</td>\n",
       "      <td>False</td>\n",
       "      <td>True</td>\n",
       "      <td>True</td>\n",
       "    </tr>\n",
       "    <tr>\n",
       "      <th>9</th>\n",
       "      <td>False</td>\n",
       "      <td>False</td>\n",
       "      <td>False</td>\n",
       "      <td>False</td>\n",
       "      <td>False</td>\n",
       "      <td>True</td>\n",
       "      <td>True</td>\n",
       "    </tr>\n",
       "    <tr>\n",
       "      <th>10</th>\n",
       "      <td>False</td>\n",
       "      <td>False</td>\n",
       "      <td>False</td>\n",
       "      <td>False</td>\n",
       "      <td>False</td>\n",
       "      <td>True</td>\n",
       "      <td>True</td>\n",
       "    </tr>\n",
       "    <tr>\n",
       "      <th>11</th>\n",
       "      <td>False</td>\n",
       "      <td>False</td>\n",
       "      <td>False</td>\n",
       "      <td>False</td>\n",
       "      <td>False</td>\n",
       "      <td>True</td>\n",
       "      <td>True</td>\n",
       "    </tr>\n",
       "    <tr>\n",
       "      <th>12</th>\n",
       "      <td>False</td>\n",
       "      <td>False</td>\n",
       "      <td>False</td>\n",
       "      <td>False</td>\n",
       "      <td>False</td>\n",
       "      <td>True</td>\n",
       "      <td>True</td>\n",
       "    </tr>\n",
       "    <tr>\n",
       "      <th>13</th>\n",
       "      <td>False</td>\n",
       "      <td>False</td>\n",
       "      <td>False</td>\n",
       "      <td>False</td>\n",
       "      <td>False</td>\n",
       "      <td>True</td>\n",
       "      <td>True</td>\n",
       "    </tr>\n",
       "    <tr>\n",
       "      <th>14</th>\n",
       "      <td>False</td>\n",
       "      <td>False</td>\n",
       "      <td>False</td>\n",
       "      <td>False</td>\n",
       "      <td>False</td>\n",
       "      <td>True</td>\n",
       "      <td>True</td>\n",
       "    </tr>\n",
       "    <tr>\n",
       "      <th>15</th>\n",
       "      <td>False</td>\n",
       "      <td>False</td>\n",
       "      <td>False</td>\n",
       "      <td>False</td>\n",
       "      <td>False</td>\n",
       "      <td>True</td>\n",
       "      <td>True</td>\n",
       "    </tr>\n",
       "    <tr>\n",
       "      <th>16</th>\n",
       "      <td>False</td>\n",
       "      <td>False</td>\n",
       "      <td>False</td>\n",
       "      <td>False</td>\n",
       "      <td>False</td>\n",
       "      <td>True</td>\n",
       "      <td>True</td>\n",
       "    </tr>\n",
       "    <tr>\n",
       "      <th>17</th>\n",
       "      <td>False</td>\n",
       "      <td>False</td>\n",
       "      <td>False</td>\n",
       "      <td>False</td>\n",
       "      <td>False</td>\n",
       "      <td>True</td>\n",
       "      <td>True</td>\n",
       "    </tr>\n",
       "    <tr>\n",
       "      <th>18</th>\n",
       "      <td>False</td>\n",
       "      <td>False</td>\n",
       "      <td>False</td>\n",
       "      <td>False</td>\n",
       "      <td>False</td>\n",
       "      <td>True</td>\n",
       "      <td>True</td>\n",
       "    </tr>\n",
       "    <tr>\n",
       "      <th>19</th>\n",
       "      <td>False</td>\n",
       "      <td>False</td>\n",
       "      <td>False</td>\n",
       "      <td>False</td>\n",
       "      <td>False</td>\n",
       "      <td>True</td>\n",
       "      <td>True</td>\n",
       "    </tr>\n",
       "    <tr>\n",
       "      <th>20</th>\n",
       "      <td>False</td>\n",
       "      <td>False</td>\n",
       "      <td>False</td>\n",
       "      <td>False</td>\n",
       "      <td>False</td>\n",
       "      <td>True</td>\n",
       "      <td>True</td>\n",
       "    </tr>\n",
       "    <tr>\n",
       "      <th>21</th>\n",
       "      <td>False</td>\n",
       "      <td>False</td>\n",
       "      <td>False</td>\n",
       "      <td>False</td>\n",
       "      <td>False</td>\n",
       "      <td>True</td>\n",
       "      <td>True</td>\n",
       "    </tr>\n",
       "    <tr>\n",
       "      <th>22</th>\n",
       "      <td>False</td>\n",
       "      <td>False</td>\n",
       "      <td>False</td>\n",
       "      <td>False</td>\n",
       "      <td>False</td>\n",
       "      <td>True</td>\n",
       "      <td>True</td>\n",
       "    </tr>\n",
       "    <tr>\n",
       "      <th>23</th>\n",
       "      <td>False</td>\n",
       "      <td>False</td>\n",
       "      <td>False</td>\n",
       "      <td>False</td>\n",
       "      <td>False</td>\n",
       "      <td>True</td>\n",
       "      <td>True</td>\n",
       "    </tr>\n",
       "    <tr>\n",
       "      <th>24</th>\n",
       "      <td>False</td>\n",
       "      <td>False</td>\n",
       "      <td>False</td>\n",
       "      <td>False</td>\n",
       "      <td>False</td>\n",
       "      <td>True</td>\n",
       "      <td>True</td>\n",
       "    </tr>\n",
       "    <tr>\n",
       "      <th>25</th>\n",
       "      <td>False</td>\n",
       "      <td>False</td>\n",
       "      <td>False</td>\n",
       "      <td>False</td>\n",
       "      <td>False</td>\n",
       "      <td>True</td>\n",
       "      <td>True</td>\n",
       "    </tr>\n",
       "    <tr>\n",
       "      <th>26</th>\n",
       "      <td>False</td>\n",
       "      <td>False</td>\n",
       "      <td>False</td>\n",
       "      <td>False</td>\n",
       "      <td>False</td>\n",
       "      <td>True</td>\n",
       "      <td>True</td>\n",
       "    </tr>\n",
       "    <tr>\n",
       "      <th>27</th>\n",
       "      <td>False</td>\n",
       "      <td>False</td>\n",
       "      <td>False</td>\n",
       "      <td>False</td>\n",
       "      <td>False</td>\n",
       "      <td>True</td>\n",
       "      <td>True</td>\n",
       "    </tr>\n",
       "    <tr>\n",
       "      <th>28</th>\n",
       "      <td>False</td>\n",
       "      <td>False</td>\n",
       "      <td>False</td>\n",
       "      <td>False</td>\n",
       "      <td>False</td>\n",
       "      <td>True</td>\n",
       "      <td>True</td>\n",
       "    </tr>\n",
       "    <tr>\n",
       "      <th>29</th>\n",
       "      <td>False</td>\n",
       "      <td>False</td>\n",
       "      <td>False</td>\n",
       "      <td>False</td>\n",
       "      <td>False</td>\n",
       "      <td>True</td>\n",
       "      <td>True</td>\n",
       "    </tr>\n",
       "    <tr>\n",
       "      <th>...</th>\n",
       "      <td>...</td>\n",
       "      <td>...</td>\n",
       "      <td>...</td>\n",
       "      <td>...</td>\n",
       "      <td>...</td>\n",
       "      <td>...</td>\n",
       "      <td>...</td>\n",
       "    </tr>\n",
       "    <tr>\n",
       "      <th>196</th>\n",
       "      <td>False</td>\n",
       "      <td>False</td>\n",
       "      <td>False</td>\n",
       "      <td>False</td>\n",
       "      <td>False</td>\n",
       "      <td>True</td>\n",
       "      <td>True</td>\n",
       "    </tr>\n",
       "    <tr>\n",
       "      <th>197</th>\n",
       "      <td>False</td>\n",
       "      <td>False</td>\n",
       "      <td>False</td>\n",
       "      <td>False</td>\n",
       "      <td>False</td>\n",
       "      <td>True</td>\n",
       "      <td>True</td>\n",
       "    </tr>\n",
       "    <tr>\n",
       "      <th>198</th>\n",
       "      <td>False</td>\n",
       "      <td>False</td>\n",
       "      <td>False</td>\n",
       "      <td>False</td>\n",
       "      <td>False</td>\n",
       "      <td>True</td>\n",
       "      <td>True</td>\n",
       "    </tr>\n",
       "    <tr>\n",
       "      <th>199</th>\n",
       "      <td>False</td>\n",
       "      <td>False</td>\n",
       "      <td>False</td>\n",
       "      <td>False</td>\n",
       "      <td>False</td>\n",
       "      <td>True</td>\n",
       "      <td>True</td>\n",
       "    </tr>\n",
       "    <tr>\n",
       "      <th>200</th>\n",
       "      <td>False</td>\n",
       "      <td>False</td>\n",
       "      <td>False</td>\n",
       "      <td>False</td>\n",
       "      <td>False</td>\n",
       "      <td>True</td>\n",
       "      <td>True</td>\n",
       "    </tr>\n",
       "    <tr>\n",
       "      <th>201</th>\n",
       "      <td>False</td>\n",
       "      <td>False</td>\n",
       "      <td>False</td>\n",
       "      <td>False</td>\n",
       "      <td>False</td>\n",
       "      <td>True</td>\n",
       "      <td>True</td>\n",
       "    </tr>\n",
       "    <tr>\n",
       "      <th>202</th>\n",
       "      <td>False</td>\n",
       "      <td>False</td>\n",
       "      <td>False</td>\n",
       "      <td>False</td>\n",
       "      <td>False</td>\n",
       "      <td>True</td>\n",
       "      <td>True</td>\n",
       "    </tr>\n",
       "    <tr>\n",
       "      <th>203</th>\n",
       "      <td>False</td>\n",
       "      <td>False</td>\n",
       "      <td>False</td>\n",
       "      <td>False</td>\n",
       "      <td>False</td>\n",
       "      <td>True</td>\n",
       "      <td>True</td>\n",
       "    </tr>\n",
       "    <tr>\n",
       "      <th>204</th>\n",
       "      <td>False</td>\n",
       "      <td>False</td>\n",
       "      <td>False</td>\n",
       "      <td>False</td>\n",
       "      <td>False</td>\n",
       "      <td>True</td>\n",
       "      <td>True</td>\n",
       "    </tr>\n",
       "    <tr>\n",
       "      <th>205</th>\n",
       "      <td>False</td>\n",
       "      <td>False</td>\n",
       "      <td>False</td>\n",
       "      <td>False</td>\n",
       "      <td>False</td>\n",
       "      <td>True</td>\n",
       "      <td>True</td>\n",
       "    </tr>\n",
       "    <tr>\n",
       "      <th>206</th>\n",
       "      <td>False</td>\n",
       "      <td>False</td>\n",
       "      <td>False</td>\n",
       "      <td>False</td>\n",
       "      <td>False</td>\n",
       "      <td>True</td>\n",
       "      <td>True</td>\n",
       "    </tr>\n",
       "    <tr>\n",
       "      <th>207</th>\n",
       "      <td>False</td>\n",
       "      <td>False</td>\n",
       "      <td>False</td>\n",
       "      <td>False</td>\n",
       "      <td>False</td>\n",
       "      <td>True</td>\n",
       "      <td>True</td>\n",
       "    </tr>\n",
       "    <tr>\n",
       "      <th>208</th>\n",
       "      <td>False</td>\n",
       "      <td>False</td>\n",
       "      <td>False</td>\n",
       "      <td>False</td>\n",
       "      <td>False</td>\n",
       "      <td>True</td>\n",
       "      <td>True</td>\n",
       "    </tr>\n",
       "    <tr>\n",
       "      <th>209</th>\n",
       "      <td>False</td>\n",
       "      <td>False</td>\n",
       "      <td>False</td>\n",
       "      <td>False</td>\n",
       "      <td>False</td>\n",
       "      <td>True</td>\n",
       "      <td>True</td>\n",
       "    </tr>\n",
       "    <tr>\n",
       "      <th>210</th>\n",
       "      <td>False</td>\n",
       "      <td>False</td>\n",
       "      <td>False</td>\n",
       "      <td>False</td>\n",
       "      <td>False</td>\n",
       "      <td>True</td>\n",
       "      <td>True</td>\n",
       "    </tr>\n",
       "    <tr>\n",
       "      <th>211</th>\n",
       "      <td>False</td>\n",
       "      <td>False</td>\n",
       "      <td>False</td>\n",
       "      <td>False</td>\n",
       "      <td>False</td>\n",
       "      <td>True</td>\n",
       "      <td>True</td>\n",
       "    </tr>\n",
       "    <tr>\n",
       "      <th>212</th>\n",
       "      <td>False</td>\n",
       "      <td>False</td>\n",
       "      <td>False</td>\n",
       "      <td>False</td>\n",
       "      <td>False</td>\n",
       "      <td>True</td>\n",
       "      <td>True</td>\n",
       "    </tr>\n",
       "    <tr>\n",
       "      <th>213</th>\n",
       "      <td>False</td>\n",
       "      <td>False</td>\n",
       "      <td>False</td>\n",
       "      <td>False</td>\n",
       "      <td>False</td>\n",
       "      <td>True</td>\n",
       "      <td>True</td>\n",
       "    </tr>\n",
       "    <tr>\n",
       "      <th>214</th>\n",
       "      <td>False</td>\n",
       "      <td>False</td>\n",
       "      <td>False</td>\n",
       "      <td>False</td>\n",
       "      <td>False</td>\n",
       "      <td>True</td>\n",
       "      <td>True</td>\n",
       "    </tr>\n",
       "    <tr>\n",
       "      <th>215</th>\n",
       "      <td>False</td>\n",
       "      <td>False</td>\n",
       "      <td>False</td>\n",
       "      <td>False</td>\n",
       "      <td>False</td>\n",
       "      <td>True</td>\n",
       "      <td>True</td>\n",
       "    </tr>\n",
       "    <tr>\n",
       "      <th>216</th>\n",
       "      <td>False</td>\n",
       "      <td>False</td>\n",
       "      <td>False</td>\n",
       "      <td>False</td>\n",
       "      <td>False</td>\n",
       "      <td>True</td>\n",
       "      <td>True</td>\n",
       "    </tr>\n",
       "    <tr>\n",
       "      <th>217</th>\n",
       "      <td>False</td>\n",
       "      <td>False</td>\n",
       "      <td>False</td>\n",
       "      <td>False</td>\n",
       "      <td>False</td>\n",
       "      <td>True</td>\n",
       "      <td>True</td>\n",
       "    </tr>\n",
       "    <tr>\n",
       "      <th>218</th>\n",
       "      <td>False</td>\n",
       "      <td>False</td>\n",
       "      <td>False</td>\n",
       "      <td>False</td>\n",
       "      <td>False</td>\n",
       "      <td>True</td>\n",
       "      <td>True</td>\n",
       "    </tr>\n",
       "    <tr>\n",
       "      <th>219</th>\n",
       "      <td>False</td>\n",
       "      <td>False</td>\n",
       "      <td>False</td>\n",
       "      <td>False</td>\n",
       "      <td>False</td>\n",
       "      <td>True</td>\n",
       "      <td>True</td>\n",
       "    </tr>\n",
       "    <tr>\n",
       "      <th>220</th>\n",
       "      <td>False</td>\n",
       "      <td>False</td>\n",
       "      <td>False</td>\n",
       "      <td>False</td>\n",
       "      <td>False</td>\n",
       "      <td>True</td>\n",
       "      <td>True</td>\n",
       "    </tr>\n",
       "    <tr>\n",
       "      <th>221</th>\n",
       "      <td>False</td>\n",
       "      <td>False</td>\n",
       "      <td>False</td>\n",
       "      <td>False</td>\n",
       "      <td>False</td>\n",
       "      <td>True</td>\n",
       "      <td>True</td>\n",
       "    </tr>\n",
       "    <tr>\n",
       "      <th>222</th>\n",
       "      <td>False</td>\n",
       "      <td>False</td>\n",
       "      <td>False</td>\n",
       "      <td>False</td>\n",
       "      <td>False</td>\n",
       "      <td>True</td>\n",
       "      <td>True</td>\n",
       "    </tr>\n",
       "    <tr>\n",
       "      <th>223</th>\n",
       "      <td>False</td>\n",
       "      <td>False</td>\n",
       "      <td>False</td>\n",
       "      <td>False</td>\n",
       "      <td>False</td>\n",
       "      <td>True</td>\n",
       "      <td>True</td>\n",
       "    </tr>\n",
       "    <tr>\n",
       "      <th>224</th>\n",
       "      <td>False</td>\n",
       "      <td>False</td>\n",
       "      <td>False</td>\n",
       "      <td>False</td>\n",
       "      <td>False</td>\n",
       "      <td>True</td>\n",
       "      <td>True</td>\n",
       "    </tr>\n",
       "    <tr>\n",
       "      <th>225</th>\n",
       "      <td>False</td>\n",
       "      <td>False</td>\n",
       "      <td>False</td>\n",
       "      <td>False</td>\n",
       "      <td>False</td>\n",
       "      <td>True</td>\n",
       "      <td>True</td>\n",
       "    </tr>\n",
       "  </tbody>\n",
       "</table>\n",
       "<p>226 rows × 7 columns</p>\n",
       "</div>"
      ],
      "text/plain": [
       "     States   City  st_Code  st_Name  Board  Latitude  Longitude\n",
       "0     False  False    False    False  False      True       True\n",
       "1     False  False    False    False  False      True       True\n",
       "2     False  False    False    False  False      True       True\n",
       "3     False  False    False    False  False      True       True\n",
       "4     False  False    False    False  False      True       True\n",
       "5     False  False    False    False  False      True       True\n",
       "6     False  False    False    False  False      True       True\n",
       "7     False  False    False    False  False      True       True\n",
       "8     False  False    False    False  False      True       True\n",
       "9     False  False    False    False  False      True       True\n",
       "10    False  False    False    False  False      True       True\n",
       "11    False  False    False    False  False      True       True\n",
       "12    False  False    False    False  False      True       True\n",
       "13    False  False    False    False  False      True       True\n",
       "14    False  False    False    False  False      True       True\n",
       "15    False  False    False    False  False      True       True\n",
       "16    False  False    False    False  False      True       True\n",
       "17    False  False    False    False  False      True       True\n",
       "18    False  False    False    False  False      True       True\n",
       "19    False  False    False    False  False      True       True\n",
       "20    False  False    False    False  False      True       True\n",
       "21    False  False    False    False  False      True       True\n",
       "22    False  False    False    False  False      True       True\n",
       "23    False  False    False    False  False      True       True\n",
       "24    False  False    False    False  False      True       True\n",
       "25    False  False    False    False  False      True       True\n",
       "26    False  False    False    False  False      True       True\n",
       "27    False  False    False    False  False      True       True\n",
       "28    False  False    False    False  False      True       True\n",
       "29    False  False    False    False  False      True       True\n",
       "..      ...    ...      ...      ...    ...       ...        ...\n",
       "196   False  False    False    False  False      True       True\n",
       "197   False  False    False    False  False      True       True\n",
       "198   False  False    False    False  False      True       True\n",
       "199   False  False    False    False  False      True       True\n",
       "200   False  False    False    False  False      True       True\n",
       "201   False  False    False    False  False      True       True\n",
       "202   False  False    False    False  False      True       True\n",
       "203   False  False    False    False  False      True       True\n",
       "204   False  False    False    False  False      True       True\n",
       "205   False  False    False    False  False      True       True\n",
       "206   False  False    False    False  False      True       True\n",
       "207   False  False    False    False  False      True       True\n",
       "208   False  False    False    False  False      True       True\n",
       "209   False  False    False    False  False      True       True\n",
       "210   False  False    False    False  False      True       True\n",
       "211   False  False    False    False  False      True       True\n",
       "212   False  False    False    False  False      True       True\n",
       "213   False  False    False    False  False      True       True\n",
       "214   False  False    False    False  False      True       True\n",
       "215   False  False    False    False  False      True       True\n",
       "216   False  False    False    False  False      True       True\n",
       "217   False  False    False    False  False      True       True\n",
       "218   False  False    False    False  False      True       True\n",
       "219   False  False    False    False  False      True       True\n",
       "220   False  False    False    False  False      True       True\n",
       "221   False  False    False    False  False      True       True\n",
       "222   False  False    False    False  False      True       True\n",
       "223   False  False    False    False  False      True       True\n",
       "224   False  False    False    False  False      True       True\n",
       "225   False  False    False    False  False      True       True\n",
       "\n",
       "[226 rows x 7 columns]"
      ]
     },
     "execution_count": 157,
     "metadata": {},
     "output_type": "execute_result"
    }
   ],
   "source": [
    "df.isnull()"
   ]
  },
  {
   "cell_type": "code",
   "execution_count": 158,
   "metadata": {},
   "outputs": [
    {
     "name": "stdout",
     "output_type": "stream",
     "text": [
      "[['Andhra Pradesh', 'Amaravati', 'site_1406', 'Secretariat, Amaravati', 'APPCB', nan, nan], ['Andhra Pradesh', 'Rajamahendravaram', 'site_1399', 'Anand Kala Kshetram, Rajamahendravaram', 'APPCB', nan, nan], ['Andhra Pradesh', 'Tirupati', 'site_258', 'Tirumala, Tirupati', 'APPCB', nan, nan], ['Andhra Pradesh', 'Visakhapatnam', 'site_260', 'GVM Corporation, Visakhapatnam', 'APPCB', nan, nan], ['Assam', 'Guwahati', 'site_5073', 'Railway Colony, Guwahati', 'APCB', nan, nan], ['Bihar', 'Gaya', 'site_159', 'Collectorate, Gaya', 'BSPCB', nan, nan], ['Bihar', 'Gaya', 'site_5338', 'SFTI Kusdihra, Gaya', 'BSPCB', nan, nan], ['Bihar', 'Hajipur', 'site_5337', 'Industrial Area, Hajipur', 'BSPCB', nan, nan], ['Bihar', 'Muzaffarpur', 'site_5370', 'Buddha Colony, Muzaffarpur', 'BSPCB', nan, nan], ['Bihar', 'Muzaffarpur', 'site_158', 'Muzaffarpur Collectorate, Muzaffarpur', 'BSPCB', nan, nan], ['Bihar', 'Patna', 'site_5336', 'DRM Office Danapur, Patna', 'BSPCB', nan, nan], ['Bihar', 'Patna', 'site_5335', 'Govt. High School Shikarpur, Patna', 'BSPCB', nan, nan], ['Bihar', 'Patna', 'site_157', 'IGSC Planetarium Complex, Patna', 'BSPCB', nan, nan], ['Bihar', 'Patna', 'site_5261', 'Muradpur, Patna', 'BSPCB', nan, nan], ['Bihar', 'Patna', 'site_5262', 'Rajbansi Nagar, Patna', 'BSPCB', nan, nan], ['Bihar', 'Patna', 'site_5263', 'Samanpura, Patna', 'BSPCB', nan, nan], ['Chandigarh', 'Chandigarh', 'site_5127', 'Sector-25, Chandigarh', 'CPCC', nan, nan], ['Delhi', 'Delhi', 'site_5024', 'Alipur, Delhi', 'DPCC', nan, nan], ['Delhi', 'Delhi', 'site_301', 'Anand Vihar, Delhi', 'DPCC', nan, nan], ['Delhi', 'Delhi', 'site_1420', 'Ashok Vihar, Delhi', 'DPCC', nan, nan], ['Delhi', 'Delhi', 'site_108', 'Aya Nagar, Delhi', 'IMD', nan, nan], ['Delhi', 'Delhi', 'site_1560', 'Bawana, Delhi', 'DPCC', nan, nan], ['Delhi', 'Delhi', 'site_103', 'CRRI Mathura Road, Delhi', 'IMD', nan, nan], ['Delhi', 'Delhi', 'site_118', 'DTU, Delhi', 'CPCB', nan, nan], ['Delhi', 'Delhi', 'site_1421', 'Dr. Karni Singh Shooting Range, Delhi', 'DPCC', nan, nan], ['Delhi', 'Delhi', 'site_1422', 'Dwarka-Sector 8, Delhi', 'DPCC', nan, nan], ['Delhi', 'Delhi', 'site_106', 'IGI Airport (T3), Delhi', 'IMD', nan, nan], ['Delhi', 'Delhi', 'site_114', 'IHBAS, Dilshad Garden, Delhi', 'CPCB', nan, nan], ['Delhi', 'Delhi', 'site_117', 'ITO, Delhi', 'CPCB', nan, nan], ['Delhi', 'Delhi', 'site_1423', 'Jahangirpuri, Delhi', 'DPCC', nan, nan], ['Delhi', 'Delhi', 'site_1424', 'Jawaharlal Nehru Stadium', 'DPCC', nan, nan], ['Delhi', 'Delhi', 'site_109', 'Lodhi Road, Delhi', 'IMD', nan, nan], ['Delhi', 'Delhi', 'site_1425', 'Major Dhyan Chand National Stadium, Delhi', 'DPCC', nan, nan], ['Delhi', 'Delhi', 'site_122', 'Mandir Marg, Delhi', 'DPCC', nan, nan], ['Delhi', 'Delhi', 'site_1561', 'Mundka, Delhi - DPCC', 'DPCC', nan, nan], ['Delhi', 'Delhi', 'site_115', 'NSIT Dwarka, Delhi', 'CPCB', nan, nan], ['Delhi', 'Delhi', 'site_1427', 'Najafgarh, Delhi', 'DPCC', nan, nan], ['Delhi', 'Delhi', 'site_1426', 'Narela, Delhi', 'DPCC', nan, nan], ['Delhi', 'Delhi', 'site_1429', 'Nehru Nagar, Delhi', 'DPCC', nan, nan], ['Delhi', 'Delhi', 'site_105', 'North Campus, DU, Delhi', 'IMD', nan, nan], ['Delhi', 'Delhi', 'site_1428', 'Okhla Phase-2, Delhi', 'DPCC', nan, nan], ['Delhi', 'Delhi', 'site_1431', 'Patparganj, Delhi ', 'DPCC', nan, nan], ['Delhi', 'Delhi', 'site_125', 'Punjabi Bagh, Delhi', 'DPCC', nan, nan], ['Delhi', 'Delhi', 'site_1563', 'Pusa, Delhi', 'DPCC', nan, nan], ['Delhi', 'Delhi', 'site_107', 'Pusa, Delhi', 'IMD', nan, nan], ['Delhi', 'Delhi', 'site_124', 'R K Puram, Delhi', 'DPCC', nan, nan], ['Delhi', 'Delhi', 'site_1430', 'Rohini, Delhi', 'DPCC', nan, nan], ['Delhi', 'Delhi', 'site_113', \"Shadipur, Delhi - CPCB',\", 'CPCB', nan, nan], ['Delhi', 'Delhi', 'site_119', 'Sirifort, Delhi', 'CPCB', nan, nan], ['Delhi', 'Delhi', 'site_1432', 'Sonia Vihar, Delhi', 'DPCC', nan, nan], ['Delhi', 'Delhi', 'site_1562', 'Sri Aurobindo Marg, Delhi', 'DPCC', nan, nan], ['Delhi', 'Delhi', 'site_1435', 'Vivek Vihar, Delhi', 'DPCC', nan, nan], ['Delhi', 'Delhi', 'site_1434', 'Wazirpur, Delhi', 'DPCC', nan, nan], ['Gujarat', 'Ahmedabad', 'site_308', 'Maninagar, Ahmedabad', 'GPCB', nan, nan], ['Gujarat', 'Ankleshwar', 'site_5065', 'GIDC, Ankleshwar', 'GPCB', nan, nan], ['Gujarat', 'Gandhinagar', 'site_5066', 'Sector-10, Gandhinagar', 'GPCB', nan, nan], ['Gujarat', 'Nandesari', 'site_5274', 'GIDC, Nandesari', 'Nandesari Ind. Association', nan, nan], ['Gujarat', 'Vapi', 'site_5071', 'Phase-1 GIDC, Vapi', 'GPCB', nan, nan], ['Gujarat', 'Vatva', 'site_5067', 'Phase-4 GIDC, Vatva', 'GPCB', nan, nan], ['Haryana', 'Ambala  ', 'site_5052', 'Patti Mehar, Ambala', 'HSPCB', nan, nan], ['Haryana', 'Bahadurgarh ', 'site_5045', 'Arya Nagar, Bahadurgarh', 'HSPCB', nan, nan], ['Haryana', 'Ballabgarh', 'site_5060', 'Nathu Colony, Ballabgarh', 'HSPCB', nan, nan], ['Haryana', 'Bhiwani', 'site_5047', 'H.B. Colony, Bhiwani', 'HSPCB', nan, nan], ['Haryana', 'Charkhi Dadri', 'site_5339', 'Mini Secretariat, Charkhi Dadri', 'HSPCB', nan, nan], ['Haryana', 'Dharuhera', 'site_5044', 'Municipal Corporation Office, Dharuhera', 'HSPCB', nan, nan], ['Haryana', 'Faridabad', 'site_5340', 'New Industrial Town, Faridabad', 'HSPCB', nan, nan], ['Haryana', 'Faridabad', 'site_5342', 'Sector 11, Faridabad', 'HSPCB', nan, nan], ['Haryana', 'Faridabad', 'site_5341', 'Sector 30, Faridabad', 'HSPCB', nan, nan], ['Haryana', 'Faridabad', 'site_263', 'Sector- 16A, Faridabad', 'HSPCB', nan, nan], ['Haryana', 'Fatehabad ', 'site_5054', 'Huda Sector, Fatehabad', 'HSPCB', nan, nan], ['Haryana', 'Gurugram', 'site_5025', 'NISE Gwal Pahari, Gurugram', 'HSPCB', nan, nan], ['Haryana', 'Gurugram', 'site_5345', 'Sector-51, Gurugram', 'HSPCB', nan, nan], ['Haryana', 'Gurugram', 'site_5344', 'Teri Gram, Gurugram', 'HSPCB', nan, nan], ['Haryana', 'Gurugram', 'site_146', 'Vikas Sadan, Gurugram', 'HSPCB', nan, nan], ['Haryana', 'Hisar', 'site_5057', 'Urban Estate-II, Hisar', 'HSPCB', nan, nan], ['Haryana', 'Jind', 'site_5056', 'Police Lines, Jind', 'HSPCB', nan, nan], ['Haryana', 'Kaithal', 'site_5072', 'Rishi Nagar, Kaithal', 'HSPCB', nan, nan], ['Haryana', 'Karnal', 'site_5049', 'Sector-12, Karnal', 'HSPCB', nan, nan], ['Haryana', 'Kurukshetra ', 'site_5043', 'Sector-7, Kurukshetra', 'HSPCB', nan, nan], ['Haryana', 'Mandikhera', 'site_5055', 'General Hospital, Mandikhera', 'HSPCB', nan, nan], ['Haryana', 'Manesar ', 'site_5039', 'Sector-2 IMT, Manesar', 'HSPCB', nan, nan], ['Haryana', 'Narnaul', 'site_5053', 'Shastri Nagar, Narnaul', 'HSPCB', nan, nan], ['Haryana', 'Palwal ', 'site_5050', 'Shyam Nagar, Palwal', 'HSPCB', nan, nan], ['Haryana', 'Panchkula', 'site_161', 'Sector-6, Panchkula', 'HSPCB', nan, nan], ['Haryana', 'Panipat', 'site_5048', 'Sector-18, Panipat', 'HSPCB', nan, nan], ['Haryana', 'Rohtak', 'site_147', 'MD University, Rohtak', 'HSPCB', nan, nan], ['Haryana', 'Sirsa ', 'site_5051', 'F-Block, Sirsa', 'HSPCB', nan, nan], ['Haryana', 'Sonipat', 'site_5041', 'Murthal, Sonipat', 'HSPCB', nan, nan], ['Haryana', 'Yamunanagar', 'site_5046', 'Gobind Pura, Yamuna Nagar', 'HSPCB', nan, nan], ['Jharkhand', 'Jorapokhar', 'site_254', 'Tata Stadium, Jorapokhar', 'JSPCB', nan, nan], ['Karnataka', 'Bagalkot', 'site_5264', 'Vidayagiri, Bagalkot', 'KSPCB', nan, nan], ['Karnataka', 'Bengaluru', 'site_162', 'BTM Layout, Bengaluru', 'CPCB', nan, nan], ['Karnataka', 'Bengaluru', 'site_164', 'BWSSB Kadabesanahalli, Bengaluru', 'CPCB', nan, nan], ['Karnataka', 'Bengaluru', 'site_1553', 'Bapuji Nagar, Bengaluru', 'KSPCB', nan, nan], ['Karnataka', 'Bengaluru', 'site_165', 'City Railway Station, Bengaluru', 'KSPCB', nan, nan], ['Karnataka', 'Bengaluru', 'site_1554', 'Hebbal, Bengaluru', 'KSPCB', nan, nan], ['Karnataka', 'Bengaluru', 'site_1555', 'Hombegowda Nagar, Bengaluru', 'KSPCB', nan, nan], ['Karnataka', 'Bengaluru', 'site_1556', 'Jayanagar 5th Block, Bengaluru', 'KSPCB', nan, nan], ['Karnataka', 'Bengaluru', 'site_163', 'Peenya, Bengaluru', 'CPCB', nan, nan], ['Karnataka', 'Bengaluru', 'site_166', 'Sanegurava Halli, Bengaluru', 'KSPCB', nan, nan], ['Karnataka', 'Bengaluru', 'site_1558', 'Silk Board, Bengaluru', 'KSPCB', nan, nan], ['Karnataka', 'Chikkaballapur', 'site_1557', 'Chikkaballapur Rural, Chikkaballapur', 'KSPCB', nan, nan], ['Karnataka', 'Chikkamagaluru', 'site_5265', 'Kalyana Nagara, Chikkamagaluru', 'KSPCB', nan, nan], ['Karnataka', 'Hubballi', 'site_1447', 'Deshpande Nagar, Hubballi', 'KSPCB', nan, nan], ['Karnataka', 'Kalaburagi', 'site_1565', 'Lal Bahadur Shastri Nagar, Kalaburagi', 'KSPCB', nan, nan], ['Karnataka', 'Mysuru', 'site_5125', 'Hebbal 1st Stage, Mysuru', 'KSPCB', nan, nan], ['Karnataka', 'Ramanagara', 'site_5255', 'Vijay Nagar, Ramanagara', 'KSPCB', nan, nan], ['Karnataka', 'Vijayapura', 'site_5267', 'Ibrahimpur, Vijayapura', 'KSPCB', nan, nan], ['Karnataka', 'Yadgir', 'site_5254', 'Collector Office, Yadgir', 'KSPCB', nan, nan], ['Kerala', 'Eloor', 'site_5105', 'Udyogamandal, Eloor', 'Kerala PCB', nan, nan], ['Kerala', 'Ernakulam', 'site_5272', 'Kacheripady, Ernakulam', 'Kerala PCB', nan, nan], ['Kerala', 'Kannur', 'site_5276', 'Thavakkara, Kannur', 'Kerala PCB', nan, nan], ['Kerala', 'Kochi', 'site_5270', 'Vyttila, Kochi', 'Kerala PCB', nan, nan], ['Kerala', 'Kollam', 'site_5334', 'Polayathode, Kollam', 'Kerala PCB', nan, nan], ['Kerala', 'Kozhikode', 'site_5271', 'Palayam, Kozhikode', 'Kerala PCB', nan, nan], ['Kerala', 'Thiruvananthapuram', 'site_5331', 'Kariavattom, Thiruvananthapuram', 'Kerala PCB', nan, nan], ['Kerala', 'Thiruvananthapuram', 'site_252', 'Plammoodu, Thiruvananthapuram', 'Kerala PCB', nan, nan], ['Madhya Pradesh', 'Bhopal', 'site_5247', 'T T Nagar, Bhopal', 'MPPCB', nan, nan], ['Madhya Pradesh', 'Damoh', 'site_5040', 'Shrivastav Colony, Damoh', 'MPPCB', nan, nan], ['Madhya Pradesh', 'Dewas', 'site_1404', 'Bhopal Chauraha, Dewas', 'MPPCB', nan, nan], ['Madhya Pradesh', 'Gwalior', 'site_5273', 'City Center, Gwalior', 'MPPCB', nan, nan], ['Madhya Pradesh', 'Gwalior', 'site_5275', 'Phool Bagh, Gwalior', 'Mondelez Ind. Food', nan, nan], ['Madhya Pradesh', 'Indore', 'site_5248', 'Chhoti Gwaltoli, Indore', 'MPPCB', nan, nan], ['Madhya Pradesh', 'Jabalpur', 'site_5249', 'Marhatal, Jabalpur', 'MPPCB', nan, nan], ['Madhya Pradesh', 'Katni', 'site_5250', 'Gole Bazar, Katni', 'MPPCB', nan, nan], ['Madhya Pradesh', 'Maihar', 'site_5068', 'Sahilara, Maihar', 'KJS Cements', nan, nan], ['Madhya Pradesh', 'Mandideep', 'site_1403', 'Sector-D Industrial Area, Mandideep', 'MPPCB', nan, nan], ['Madhya Pradesh', 'Pithampur', 'site_1402', 'Sector-2 Industrial Area, Pithampur', 'MPPCB', nan, nan], ['Madhya Pradesh', 'Ratlam', 'site_5042', 'Shasthri Nagar, Ratlam', 'IPCA Lab', nan, nan], ['Madhya Pradesh', 'Sagar', 'site_5269', 'Deen Dayal Nagar, Sagar', 'MPPCB', nan, nan], ['Madhya Pradesh', 'Satna', 'site_1433', 'Bandhavgar Colony, Satna', 'Birla Cement', nan, nan], ['Madhya Pradesh', 'Singrauli', 'site_1401', 'Vindhyachal STPS, Singrauli', 'MPPCB', nan, nan], ['Madhya Pradesh', 'Ujjain', 'site_1400', 'Mahakaleshwar Temple, Ujjain', 'MPPCB', nan, nan], ['Maharashtra', 'Aurangabad', 'site_198', 'More Chowk Waluj, Aurangabad', 'MPCB', nan, nan], ['Maharashtra', 'Chandrapur', 'site_271', 'Chandrapur, Chandrapur', 'MPCB', nan, nan], ['Maharashtra', 'Chandrapur', 'site_295', 'MIDC Khutala, Chandrapur', 'MPCB', nan, nan], ['Maharashtra', 'Kalyan', 'site_5118', 'Khadakpada, Kalyan', 'MPCB', nan, nan], ['Maharashtra', 'Mumbai', 'site_168', 'Bandra, Mumbai', 'MPCB', nan, nan], ['Maharashtra', 'Mumbai', 'site_5113', 'Borivali East, Mumbai', 'MPCB', nan, nan], ['Maharashtra', 'Mumbai', 'site_5107', 'Chhatrapati Shivaji Intl. Airport (T2), Mumbai', 'MPCB', nan, nan], ['Maharashtra', 'Mumbai', 'site_5120', 'Colaba, Mumbai', 'MPCB', nan, nan], ['Maharashtra', 'Mumbai', 'site_5104', 'Kurla, Mumbai', 'MPCB', nan, nan], ['Maharashtra', 'Mumbai', 'site_5112', 'Powai, Mumbai', 'MPCB', nan, nan], ['Maharashtra', 'Mumbai', 'site_5119', 'Sion, Mumbai', 'MPCB', nan, nan], ['Maharashtra', 'Mumbai', 'site_5102', 'Vasai West, Mumbai', 'MPCB', nan, nan], ['Maharashtra', 'Mumbai', 'site_5106', 'Vile Parle West, Mumbai', 'MPCB', nan, nan], ['Maharashtra', 'Mumbai', 'site_5115', 'Worli, Mumbai', 'MPCB', nan, nan], ['Maharashtra', 'Nagpur', 'site_303', 'Opp GPO Civil Lines, Nagpur', 'MPCB', nan, nan], ['Maharashtra', 'Nashik', 'site_304', 'Gangapur Road, Nashik', 'MPCB', nan, nan], ['Maharashtra', 'Navi Mumbai', 'site_261', 'Airoli, Navi Mumbai', 'MPCB', nan, nan], ['Maharashtra', 'Navi Mumbai', 'site_5114', 'Mahape, Navi Mumbai', 'MPCB', nan, nan], ['Maharashtra', 'Navi Mumbai', 'site_5103', 'Nerul, Navi Mumbai', 'MPCB', nan, nan], ['Maharashtra', 'Pune', 'site_292', 'Karve Road, Pune', 'MPCB', nan, nan], ['Maharashtra', 'Solapur', 'site_302', 'Solapur, Solapur', 'MPCB', nan, nan], ['Maharashtra', 'Thane', 'site_305', 'Pimpleshwar Mandir, Thane', 'MPCB', nan, nan], ['Meghalaya ', 'Shillong', 'site_5131', 'Lumpyngngad, Shillong', 'Meghalaya PCB', nan, nan], ['Mizoram', 'Aizawl', 'site_5346', 'Sikulpuikawn, Aizawl', 'Mizoram PCB', nan, nan], ['Nagaland', 'Kohima', 'site_5375', 'PWD Juction, Kohima', 'NPCB', nan, nan], ['Odisha', 'Brajrajnagar', 'site_1410', 'GM Office, Brajrajnagar', 'OSPCB', nan, nan], ['Odisha', 'Talcher', 'site_1408', 'Talcher Coalfields,Talcher', 'OSPCB', nan, nan], ['Punjab', 'Amritsar', 'site_256', 'Golden Temple, Amritsar', 'PPCB', nan, nan], ['Punjab', 'Bathinda', 'site_1549', 'Hardev Nagar, Bathinda', 'PPCB', nan, nan], ['Punjab', 'Jalandhar', 'site_1438', 'Civil Line, Jalandhar', 'PPCB', nan, nan], ['Punjab', 'Khanna', 'site_1450', 'Kalal Majra, Khanna', 'PPCB', nan, nan], ['Punjab', 'Ludhiana', 'site_253', 'Punjab Agricultural University, Ludhiana', 'PPCB', nan, nan], ['Punjab', 'Mandi Gobindgarh', 'site_255', 'RIMT University, Mandi Gobindgarh', 'PPCB', nan, nan], ['Punjab', 'Patiala', 'site_1437', 'Model Town, Patiala', 'PPCB', nan, nan], ['Punjab', 'Rupnagar', 'site_1538', 'Ratanpura, Rupnagar', 'Ambuja Cements', nan, nan], ['Rajasthan', 'Alwar', 'site_1390', 'Moti Doongri, Alwar', 'RSPCB', nan, nan], ['Rajasthan', 'Ajmer', 'site_1392', 'Civil Lines, Ajmer', 'RSPCB', nan, nan], ['Rajasthan', 'Bhiwadi', 'site_1391', 'RIICO Ind. Area III, Bhiwadi', 'RSPCB', nan, nan], ['Rajasthan', 'Jaipur', 'site_1393', 'Adarsh Nagar, Jaipur', 'RSPCB', nan, nan], ['Rajasthan', 'Jaipur', 'site_134', 'Police Commissionerate, Jaipur', 'RSPCB', nan, nan], ['Rajasthan', 'Jaipur', 'site_1396', 'Shastri Nagar, Jaipur', 'RSPCB', nan, nan], ['Rajasthan', 'Jodhpur', 'site_136', 'Collectorate, Jodhpur', 'RSPCB', nan, nan], ['Rajasthan', 'Kota', 'site_1394', 'Shrinath Puram, Kota', 'RSPCB', nan, nan], ['Rajasthan', 'Pali', 'site_1395', 'Indira Colony Vistar, Pali', 'RSPCB', nan, nan], ['Rajasthan', 'Udaipur', 'site_1397', 'Ashok Nagar, Udaipur', 'RSPCB', nan, nan], ['Tamil Nadu', 'Chennai', 'site_293', 'Alandur Bus Depot, Chennai', 'CPCB', nan, nan], ['Tamil Nadu', 'Chennai', 'site_5092', 'Manali Village, Chennai', 'TNPCB', nan, nan], ['Tamil Nadu', 'Chennai', 'site_306', 'Manali, Chennai', 'CPCB', nan, nan], ['Tamil Nadu', 'Chennai', 'site_288', 'Velachery Res. Area, Chennai', 'CPCB', nan, nan], ['Tamil Nadu', 'Coimbatore', 'site_5094', 'SIDCO Kurichi, Coimbatore', 'TNPCB', nan, nan], ['Telangana', 'Hyderabad', 'site_199', 'Bollaram Industrial Area, Hyderabad', 'TSPCB', nan, nan], ['Telangana', 'Hyderabad', 'site_262', 'Central University, Hyderabad', 'TSPCB', nan, nan], ['Telangana', 'Hyderabad', 'site_251', 'ICRISAT Patancheru, Hyderabad', 'TSPCB', nan, nan], ['Telangana', 'Hyderabad', 'site_275', 'IDA Pashamylaram, Hyderabad', 'TSPCB', nan, nan], ['Telangana', 'Hyderabad', 'site_294', 'Sanathnagar, Hyderabad', 'TSPCB', nan, nan], ['Telangana', 'Hyderabad', 'site_298', 'Zoo Park, Hyderabad', 'TSPCB', nan, nan], ['Uttar Pradesh', 'Agra', 'site_307', 'Sanjay Palace, Agra', 'UPPCB', nan, nan], ['Uttar Pradesh', 'Baghpat', 'site_1569', 'New Collectorate, Baghpat', 'UPPCB', nan, nan], ['Uttar Pradesh', 'Bulandshahr', 'site_1542', 'Yamunapuram, Bulandshahr', 'UPPCB', nan, nan], ['Uttar Pradesh', 'Ghaziabad', 'site_5082', 'Indirapuram, Ghaziabad', 'UPPCB', nan, nan], ['Uttar Pradesh', 'Ghaziabad', 'site_5083', 'Loni, Ghaziabad', 'UPPCB', nan, nan], ['Uttar Pradesh', 'Ghaziabad', 'site_5081', 'Sanjay Nagar, Ghaziabad', 'UPPCB', nan, nan], ['Uttar Pradesh', 'Ghaziabad', 'site_144', 'Vasundhara, Ghaziabad', 'UPPCB', nan, nan], ['Uttar Pradesh', 'Greater Noida', 'site_1541', 'Knowledge Park - III, Greater Noida', 'UPPCB', nan, nan], ['Uttar Pradesh', 'Greater Noida', 'site_5121', 'Knowledge Park - V, Greater Noida', 'UPPCB', nan, nan], ['Uttar Pradesh', 'Hapur', 'site_5023', 'Anand Vihar, Hapur', 'UPPCB', nan, nan], ['Uttar Pradesh', 'Kanpur', 'site_276', 'Nehru Nagar, Kanpur', 'UPPCB', nan, nan], ['Uttar Pradesh', 'Lucknow', 'site_272', 'Central School, Lucknow', 'CPCB', nan, nan], ['Uttar Pradesh', 'Lucknow', 'site_5128', 'Gomti Nagar, Lucknow', 'UPPCB', nan, nan], ['Uttar Pradesh', 'Lucknow', 'site_277', 'Lalbagh, Lucknow', 'CPCB', nan, nan], ['Uttar Pradesh', 'Lucknow', 'site_279', 'Talkatora District Industries Center, Lucknow', 'CPCB', nan, nan], ['Uttar Pradesh', 'Meerut', 'site_5258', 'Ganga Nagar, Meerut', 'UPPCB', nan, nan], ['Uttar Pradesh', 'Meerut', 'site_5109', 'Jai Bhim Nagar, Meerut', 'UPPCB', nan, nan], ['Uttar Pradesh', 'Meerut', 'site_5257', 'Pallavpuram Phase 2, Meerut', 'UPPCB', nan, nan], ['Uttar Pradesh', 'Moradabad', 'site_1398', 'Lajpat Nagar, Moradabad', 'UPPCB', nan, nan], ['Uttar Pradesh', 'Muzaffarnagar', 'site_1550', 'New Mandi, Muzaffarnagar', 'UPPCB', nan, nan], ['Uttar Pradesh', 'Noida', 'site_153', 'Sector - 125, Noida', 'UPPCB', nan, nan], ['Uttar Pradesh', 'Noida', 'site_111', 'Sector - 62, Noida', 'IMD', nan, nan], ['Uttar Pradesh', 'Noida', 'site_5123', 'Sector-1, Noida', 'UPPCB', nan, nan], ['Uttar Pradesh', 'Noida', 'site_5122', 'Sector-116, Noida', 'UPPCB', nan, nan], ['Uttar Pradesh', 'Varanasi', 'site_273', 'Ardhali Bazar, Varanasi', 'UPPCB', nan, nan], ['West Bengal', 'Asansol', 'site_1418', 'Asansol Court Area, Asansol', 'WBPCB', nan, nan], ['West Bengal', 'Howrah', 'site_5101', 'Belur Math, Howrah', 'WBPCB', nan, nan], ['West Bengal', 'Howrah', 'site_274', 'Ghusuri, Howrah', 'WBPCB', nan, nan], ['West Bengal', 'Howrah', 'site_1416', 'Padmapukur, Howrah', 'WBPCB', nan, nan], ['West Bengal', 'Kolkata', 'site_5238', 'Ballygunge, Kolkata', 'WBPCB', nan, nan], ['West Bengal', 'Kolkata', 'site_5129', 'Bidhannagar, Kolkata', 'WBPCB', nan, nan], ['West Bengal', 'Kolkata', 'site_5110', 'Fort William, Kolkata', 'WBPCB', nan, nan], ['West Bengal', 'Kolkata', 'site_5111', 'Jadavpur, Kolkata', 'WBPCB', nan, nan], ['West Bengal', 'Kolkata', 'site_296', 'Rabindra Bharati University, Kolkata', 'WBPCB', nan, nan], ['West Bengal', 'Kolkata', 'site_5126', 'Rabindra Sarobar, Kolkata', 'WBPCB', nan, nan], ['West Bengal', 'Kolkata', 'site_309', 'Victoria, Kolkata', 'WBPCB', nan, nan], ['West Bengal', 'Siliguri', 'site_1419', 'Ward-32 Bapupara, Siliguri', 'WBPCB', nan, nan]]\n"
     ]
    }
   ],
   "source": [
    "# Create an empty list \n",
    "Row_list =[] \n",
    "  \n",
    "# Iterate over each row \n",
    "for index, rows in df.iterrows(): \n",
    "    # Create list for the current row \n",
    "    my_list =[rows.States, rows.City, rows.st_Code, rows.st_Name, rows.Board, rows.Latitude, rows.Longitude] \n",
    "    # append the list to the final list \n",
    "    Row_list.append(my_list) \n",
    "print(Row_list) "
   ]
  },
  {
   "cell_type": "code",
   "execution_count": 179,
   "metadata": {},
   "outputs": [
    {
     "name": "stdout",
     "output_type": "stream",
     "text": [
      "No error\n"
     ]
    }
   ],
   "source": [
    "x = 0\n",
    "for i in range(226):\n",
    "    if Row_list[i][0] == df['States'][i]:\n",
    "        x = 1\n",
    "    else:\n",
    "        x = 2\n",
    "        break\n",
    "        \n",
    "if (x == 2):\n",
    "    print('error')\n",
    "\n",
    "if (x ==1):\n",
    "    print('No error')\n",
    "    "
   ]
  },
  {
   "cell_type": "code",
   "execution_count": 188,
   "metadata": {},
   "outputs": [
    {
     "name": "stderr",
     "output_type": "stream",
     "text": [
      "[WDM] - Current google-chrome version is 85.0.4183\n",
      "[WDM] - Get LATEST driver version for 85.0.4183\n"
     ]
    },
    {
     "name": "stdout",
     "output_type": "stream",
     "text": [
      "opening chrome....\n",
      " \n"
     ]
    },
    {
     "name": "stderr",
     "output_type": "stream",
     "text": [
      "[WDM] - Driver [C:\\Users\\acer\\.wdm\\drivers\\chromedriver\\win32\\85.0.4183.87\\chromedriver.exe] found in cache\n"
     ]
    },
    {
     "name": "stdout",
     "output_type": "stream",
     "text": [
      "16.515083,80.518167&z=11&t=m&hl=en-US&gl=US&mapclient=apiv3\n",
      "Changed for 1 entry\n",
      "------------------------------\n"
     ]
    },
    {
     "name": "stderr",
     "output_type": "stream",
     "text": [
      "[WDM] - Current google-chrome version is 85.0.4183\n",
      "[WDM] - Get LATEST driver version for 85.0.4183\n",
      "[WDM] - Driver [C:\\Users\\acer\\.wdm\\drivers\\chromedriver\\win32\\85.0.4183.87\\chromedriver.exe] found in cache\n"
     ]
    },
    {
     "name": "stdout",
     "output_type": "stream",
     "text": [
      "opening chrome....\n",
      " \n",
      "16.987287,81.736318&z=11&t=m&hl=en-US&gl=US&mapclient=apiv3\n",
      "Changed for 2 entry\n",
      "------------------------------\n"
     ]
    },
    {
     "name": "stderr",
     "output_type": "stream",
     "text": [
      "[WDM] - Current google-chrome version is 85.0.4183\n",
      "[WDM] - Get LATEST driver version for 85.0.4183\n",
      "[WDM] - Driver [C:\\Users\\acer\\.wdm\\drivers\\chromedriver\\win32\\85.0.4183.87\\chromedriver.exe] found in cache\n"
     ]
    },
    {
     "name": "stdout",
     "output_type": "stream",
     "text": [
      "opening chrome....\n",
      " \n",
      "13.67,79.35&z=11&t=m&hl=en-US&gl=US&mapclient=apiv3\n",
      "Changed for 3 entry\n",
      "------------------------------\n"
     ]
    },
    {
     "name": "stderr",
     "output_type": "stream",
     "text": [
      "[WDM] - Current google-chrome version is 85.0.4183\n",
      "[WDM] - Get LATEST driver version for 85.0.4183\n",
      "[WDM] - Driver [C:\\Users\\acer\\.wdm\\drivers\\chromedriver\\win32\\85.0.4183.87\\chromedriver.exe] found in cache\n"
     ]
    },
    {
     "name": "stdout",
     "output_type": "stream",
     "text": [
      "opening chrome....\n",
      " \n",
      "17.72,83.3&z=11&t=m&hl=en-US&gl=US&mapclient=apiv3\n",
      "Changed for 4 entry\n",
      "------------------------------\n"
     ]
    },
    {
     "name": "stderr",
     "output_type": "stream",
     "text": [
      "[WDM] - Current google-chrome version is 85.0.4183\n",
      "[WDM] - Get LATEST driver version for 85.0.4183\n",
      "[WDM] - Driver [C:\\Users\\acer\\.wdm\\drivers\\chromedriver\\win32\\85.0.4183.87\\chromedriver.exe] found in cache\n"
     ]
    },
    {
     "name": "stdout",
     "output_type": "stream",
     "text": [
      "opening chrome....\n",
      " \n",
      "26.181742,91.78063&z=11&t=m&hl=en-US&gl=US&mapclient=apiv3\n",
      "Changed for 5 entry\n",
      "------------------------------\n"
     ]
    },
    {
     "name": "stderr",
     "output_type": "stream",
     "text": [
      "[WDM] - Current google-chrome version is 85.0.4183\n",
      "[WDM] - Get LATEST driver version for 85.0.4183\n",
      "[WDM] - Driver [C:\\Users\\acer\\.wdm\\drivers\\chromedriver\\win32\\85.0.4183.87\\chromedriver.exe] found in cache\n"
     ]
    },
    {
     "name": "stdout",
     "output_type": "stream",
     "text": [
      "opening chrome....\n",
      " \n",
      "24.7955,84.9994&z=11&t=m&hl=en-US&gl=US&mapclient=apiv3\n",
      "Changed for 6 entry\n",
      "------------------------------\n"
     ]
    },
    {
     "name": "stderr",
     "output_type": "stream",
     "text": [
      "[WDM] - Current google-chrome version is 85.0.4183\n",
      "[WDM] - Get LATEST driver version for 85.0.4183\n",
      "[WDM] - Driver [C:\\Users\\acer\\.wdm\\drivers\\chromedriver\\win32\\85.0.4183.87\\chromedriver.exe] found in cache\n"
     ]
    },
    {
     "name": "stdout",
     "output_type": "stream",
     "text": [
      "opening chrome....\n",
      " \n",
      "Problem encountered for Bihar, Gaya, SFTI Kusdihra, Gaya\n",
      "------------------------------\n"
     ]
    },
    {
     "name": "stderr",
     "output_type": "stream",
     "text": [
      "[WDM] - Current google-chrome version is 85.0.4183\n",
      "[WDM] - Get LATEST driver version for 85.0.4183\n",
      "[WDM] - Driver [C:\\Users\\acer\\.wdm\\drivers\\chromedriver\\win32\\85.0.4183.87\\chromedriver.exe] found in cache\n"
     ]
    },
    {
     "name": "stdout",
     "output_type": "stream",
     "text": [
      "opening chrome....\n",
      " \n",
      "25.697189,85.2459&z=11&t=m&hl=en-US&gl=US&mapclient=apiv3\n",
      "Changed for 8 entry\n",
      "------------------------------\n"
     ]
    },
    {
     "name": "stderr",
     "output_type": "stream",
     "text": [
      "[WDM] - Current google-chrome version is 85.0.4183\n",
      "[WDM] - Get LATEST driver version for 85.0.4183\n",
      "[WDM] - Driver [C:\\Users\\acer\\.wdm\\drivers\\chromedriver\\win32\\85.0.4183.87\\chromedriver.exe] found in cache\n"
     ]
    },
    {
     "name": "stdout",
     "output_type": "stream",
     "text": [
      "opening chrome....\n",
      " \n",
      "26.11442,85.39813&z=11&t=m&hl=en-US&gl=US&mapclient=apiv3\n",
      "Changed for 9 entry\n",
      "------------------------------\n"
     ]
    },
    {
     "name": "stderr",
     "output_type": "stream",
     "text": [
      "[WDM] - Current google-chrome version is 85.0.4183\n",
      "[WDM] - Get LATEST driver version for 85.0.4183\n",
      "[WDM] - Driver [C:\\Users\\acer\\.wdm\\drivers\\chromedriver\\win32\\85.0.4183.87\\chromedriver.exe] found in cache\n"
     ]
    },
    {
     "name": "stdout",
     "output_type": "stream",
     "text": [
      "opening chrome....\n",
      " \n",
      "26.1209,85.3647&z=11&t=m&hl=en-US&gl=US&mapclient=apiv3\n",
      "Changed for 10 entry\n",
      "------------------------------\n"
     ]
    },
    {
     "name": "stderr",
     "output_type": "stream",
     "text": [
      "[WDM] - Current google-chrome version is 85.0.4183\n",
      "[WDM] - Get LATEST driver version for 85.0.4183\n",
      "[WDM] - Driver [C:\\Users\\acer\\.wdm\\drivers\\chromedriver\\win32\\85.0.4183.87\\chromedriver.exe] found in cache\n"
     ]
    },
    {
     "name": "stdout",
     "output_type": "stream",
     "text": [
      "opening chrome....\n",
      " \n",
      "25.586562,85.043586&z=11&t=m&hl=en-US&gl=US&mapclient=apiv3\n",
      "Changed for 11 entry\n",
      "------------------------------\n"
     ]
    },
    {
     "name": "stderr",
     "output_type": "stream",
     "text": [
      "[WDM] - Current google-chrome version is 85.0.4183\n",
      "[WDM] - Get LATEST driver version for 85.0.4183\n",
      "[WDM] - Driver [C:\\Users\\acer\\.wdm\\drivers\\chromedriver\\win32\\85.0.4183.87\\chromedriver.exe] found in cache\n"
     ]
    },
    {
     "name": "stdout",
     "output_type": "stream",
     "text": [
      "opening chrome....\n",
      " \n",
      "25.592539,85.227158&z=11&t=m&hl=en-US&gl=US&mapclient=apiv3\n",
      "Changed for 12 entry\n",
      "------------------------------\n"
     ]
    },
    {
     "name": "stderr",
     "output_type": "stream",
     "text": [
      "[WDM] - Current google-chrome version is 85.0.4183\n",
      "[WDM] - Get LATEST driver version for 85.0.4183\n",
      "[WDM] - Driver [C:\\Users\\acer\\.wdm\\drivers\\chromedriver\\win32\\85.0.4183.87\\chromedriver.exe] found in cache\n"
     ]
    },
    {
     "name": "stdout",
     "output_type": "stream",
     "text": [
      "opening chrome....\n",
      " \n",
      "25.5941,85.1376&z=11&t=m&hl=en-US&gl=US&mapclient=apiv3\n",
      "Changed for 13 entry\n",
      "------------------------------\n"
     ]
    },
    {
     "name": "stderr",
     "output_type": "stream",
     "text": [
      "[WDM] - Current google-chrome version is 85.0.4183\n",
      "[WDM] - Get LATEST driver version for 85.0.4183\n",
      "[WDM] - Driver [C:\\Users\\acer\\.wdm\\drivers\\chromedriver\\win32\\85.0.4183.87\\chromedriver.exe] found in cache\n"
     ]
    },
    {
     "name": "stdout",
     "output_type": "stream",
     "text": [
      "opening chrome....\n",
      " \n",
      "25.619651,85.147382&z=11&t=m&hl=en-US&gl=US&mapclient=apiv3\n",
      "Changed for 14 entry\n",
      "------------------------------\n"
     ]
    },
    {
     "name": "stderr",
     "output_type": "stream",
     "text": [
      "[WDM] - Current google-chrome version is 85.0.4183\n",
      "[WDM] - Get LATEST driver version for 85.0.4183\n",
      "[WDM] - Driver [C:\\Users\\acer\\.wdm\\drivers\\chromedriver\\win32\\85.0.4183.87\\chromedriver.exe] found in cache\n"
     ]
    },
    {
     "name": "stdout",
     "output_type": "stream",
     "text": [
      "opening chrome....\n",
      " \n",
      "25.599486,85.113666&z=11&t=m&hl=en-US&gl=US&mapclient=apiv3\n",
      "Changed for 15 entry\n",
      "------------------------------\n"
     ]
    },
    {
     "name": "stderr",
     "output_type": "stream",
     "text": [
      "[WDM] - Current google-chrome version is 85.0.4183\n",
      "[WDM] - Get LATEST driver version for 85.0.4183\n",
      "[WDM] - Driver [C:\\Users\\acer\\.wdm\\drivers\\chromedriver\\win32\\85.0.4183.87\\chromedriver.exe] found in cache\n"
     ]
    },
    {
     "name": "stdout",
     "output_type": "stream",
     "text": [
      "opening chrome....\n",
      " \n",
      "25.596727,85.085624&z=11&t=m&hl=en-US&gl=US&mapclient=apiv3\n",
      "Changed for 16 entry\n",
      "------------------------------\n"
     ]
    },
    {
     "name": "stderr",
     "output_type": "stream",
     "text": [
      "[WDM] - Current google-chrome version is 85.0.4183\n",
      "[WDM] - Get LATEST driver version for 85.0.4183\n",
      "[WDM] - Driver [C:\\Users\\acer\\.wdm\\drivers\\chromedriver\\win32\\85.0.4183.87\\chromedriver.exe] found in cache\n"
     ]
    },
    {
     "name": "stdout",
     "output_type": "stream",
     "text": [
      "opening chrome....\n",
      " \n",
      "30.751462,76.762879&z=11&t=m&hl=en-US&gl=US&mapclient=apiv3\n",
      "Changed for 17 entry\n",
      "------------------------------\n"
     ]
    },
    {
     "name": "stderr",
     "output_type": "stream",
     "text": [
      "[WDM] - Current google-chrome version is 85.0.4183\n",
      "[WDM] - Get LATEST driver version for 85.0.4183\n",
      "[WDM] - Driver [C:\\Users\\acer\\.wdm\\drivers\\chromedriver\\win32\\85.0.4183.87\\chromedriver.exe] found in cache\n"
     ]
    },
    {
     "name": "stdout",
     "output_type": "stream",
     "text": [
      "opening chrome....\n",
      " \n",
      "28.815329,77.15301&z=11&t=m&hl=en-US&gl=US&mapclient=apiv3\n",
      "Changed for 18 entry\n",
      "------------------------------\n"
     ]
    },
    {
     "name": "stderr",
     "output_type": "stream",
     "text": [
      "[WDM] - Current google-chrome version is 85.0.4183\n",
      "[WDM] - Get LATEST driver version for 85.0.4183\n",
      "[WDM] - Driver [C:\\Users\\acer\\.wdm\\drivers\\chromedriver\\win32\\85.0.4183.87\\chromedriver.exe] found in cache\n"
     ]
    },
    {
     "name": "stdout",
     "output_type": "stream",
     "text": [
      "opening chrome....\n",
      " \n",
      "28.646835,77.316032&z=11&t=m&hl=en-US&gl=US&mapclient=apiv3\n",
      "Changed for 19 entry\n",
      "------------------------------\n"
     ]
    },
    {
     "name": "stderr",
     "output_type": "stream",
     "text": [
      "[WDM] - Current google-chrome version is 85.0.4183\n",
      "[WDM] - Get LATEST driver version for 85.0.4183\n",
      "[WDM] - Driver [C:\\Users\\acer\\.wdm\\drivers\\chromedriver\\win32\\85.0.4183.87\\chromedriver.exe] found in cache\n"
     ]
    },
    {
     "name": "stdout",
     "output_type": "stream",
     "text": [
      "opening chrome....\n",
      " \n",
      "28.695381,77.181665&z=11&t=m&hl=en-US&gl=US&mapclient=apiv3\n",
      "Changed for 20 entry\n",
      "------------------------------\n"
     ]
    },
    {
     "name": "stderr",
     "output_type": "stream",
     "text": [
      "[WDM] - Current google-chrome version is 85.0.4183\n",
      "[WDM] - Get LATEST driver version for 85.0.4183\n",
      "[WDM] - Driver [C:\\Users\\acer\\.wdm\\drivers\\chromedriver\\win32\\85.0.4183.87\\chromedriver.exe] found in cache\n"
     ]
    },
    {
     "name": "stdout",
     "output_type": "stream",
     "text": [
      "opening chrome....\n",
      " \n",
      "28.470691,77.109936&z=11&t=m&hl=en-US&gl=US&mapclient=apiv3\n",
      "Changed for 21 entry\n",
      "------------------------------\n"
     ]
    },
    {
     "name": "stderr",
     "output_type": "stream",
     "text": [
      "[WDM] - Current google-chrome version is 85.0.4183\n",
      "[WDM] - Get LATEST driver version for 85.0.4183\n",
      "[WDM] - Driver [C:\\Users\\acer\\.wdm\\drivers\\chromedriver\\win32\\85.0.4183.87\\chromedriver.exe] found in cache\n"
     ]
    },
    {
     "name": "stdout",
     "output_type": "stream",
     "text": [
      "opening chrome....\n",
      " \n",
      "28.7762,77.051074&z=11&t=m&hl=en-US&gl=US&mapclient=apiv3\n",
      "Changed for 22 entry\n",
      "------------------------------\n"
     ]
    },
    {
     "name": "stderr",
     "output_type": "stream",
     "text": [
      "[WDM] - Current google-chrome version is 85.0.4183\n",
      "[WDM] - Get LATEST driver version for 85.0.4183\n",
      "[WDM] - Driver [C:\\Users\\acer\\.wdm\\drivers\\chromedriver\\win32\\85.0.4183.87\\chromedriver.exe] found in cache\n"
     ]
    },
    {
     "name": "stdout",
     "output_type": "stream",
     "text": [
      "opening chrome....\n",
      " \n",
      "28.551201,77.273574&z=11&t=m&hl=en-US&gl=US&mapclient=apiv3\n",
      "Changed for 23 entry\n",
      "------------------------------\n"
     ]
    },
    {
     "name": "stderr",
     "output_type": "stream",
     "text": [
      "[WDM] - Current google-chrome version is 85.0.4183\n",
      "[WDM] - Get LATEST driver version for 85.0.4183\n",
      "[WDM] - Driver [C:\\Users\\acer\\.wdm\\drivers\\chromedriver\\win32\\85.0.4183.87\\chromedriver.exe] found in cache\n"
     ]
    },
    {
     "name": "stdout",
     "output_type": "stream",
     "text": [
      "opening chrome....\n",
      " \n",
      "28.75005,77.111261&z=11&t=m&hl=en-US&gl=US&mapclient=apiv3\n",
      "Changed for 24 entry\n",
      "------------------------------\n"
     ]
    },
    {
     "name": "stderr",
     "output_type": "stream",
     "text": [
      "[WDM] - Current google-chrome version is 85.0.4183\n",
      "[WDM] - Get LATEST driver version for 85.0.4183\n",
      "[WDM] - Driver [C:\\Users\\acer\\.wdm\\drivers\\chromedriver\\win32\\85.0.4183.87\\chromedriver.exe] found in cache\n"
     ]
    },
    {
     "name": "stdout",
     "output_type": "stream",
     "text": [
      "opening chrome....\n",
      " \n",
      "28.498571,77.26484&z=11&t=m&hl=en-US&gl=US&mapclient=apiv3\n",
      "Changed for 25 entry\n",
      "------------------------------\n"
     ]
    },
    {
     "name": "stderr",
     "output_type": "stream",
     "text": [
      "[WDM] - Current google-chrome version is 85.0.4183\n",
      "[WDM] - Get LATEST driver version for 85.0.4183\n",
      "[WDM] - Driver [C:\\Users\\acer\\.wdm\\drivers\\chromedriver\\win32\\85.0.4183.87\\chromedriver.exe] found in cache\n"
     ]
    },
    {
     "name": "stdout",
     "output_type": "stream",
     "text": [
      "opening chrome....\n",
      " \n",
      "28.571027,77.071901&z=11&t=m&hl=en-US&gl=US&mapclient=apiv3\n",
      "Changed for 26 entry\n",
      "------------------------------\n"
     ]
    },
    {
     "name": "stderr",
     "output_type": "stream",
     "text": [
      "[WDM] - Current google-chrome version is 85.0.4183\n",
      "[WDM] - Get LATEST driver version for 85.0.4183\n",
      "[WDM] - Driver [C:\\Users\\acer\\.wdm\\drivers\\chromedriver\\win32\\85.0.4183.87\\chromedriver.exe] found in cache\n"
     ]
    },
    {
     "name": "stdout",
     "output_type": "stream",
     "text": [
      "opening chrome....\n",
      " \n",
      "28.562776,77.118005&z=11&t=m&hl=en-US&gl=US&mapclient=apiv3\n",
      "Changed for 27 entry\n",
      "------------------------------\n"
     ]
    },
    {
     "name": "stderr",
     "output_type": "stream",
     "text": [
      "[WDM] - Current google-chrome version is 85.0.4183\n",
      "[WDM] - Get LATEST driver version for 85.0.4183\n",
      "[WDM] - Driver [C:\\Users\\acer\\.wdm\\drivers\\chromedriver\\win32\\85.0.4183.87\\chromedriver.exe] found in cache\n"
     ]
    },
    {
     "name": "stdout",
     "output_type": "stream",
     "text": [
      "opening chrome....\n",
      " \n",
      "28.681174,77.302523&z=11&t=m&hl=en-US&gl=US&mapclient=apiv3\n",
      "Changed for 28 entry\n",
      "------------------------------\n"
     ]
    },
    {
     "name": "stderr",
     "output_type": "stream",
     "text": [
      "[WDM] - Current google-chrome version is 85.0.4183\n",
      "[WDM] - Get LATEST driver version for 85.0.4183\n",
      "[WDM] - Driver [C:\\Users\\acer\\.wdm\\drivers\\chromedriver\\win32\\85.0.4183.87\\chromedriver.exe] found in cache\n"
     ]
    },
    {
     "name": "stdout",
     "output_type": "stream",
     "text": [
      "opening chrome....\n",
      " \n",
      "28.628624,77.24106&z=11&t=m&hl=en-US&gl=US&mapclient=apiv3\n",
      "Changed for 29 entry\n",
      "------------------------------\n"
     ]
    },
    {
     "name": "stderr",
     "output_type": "stream",
     "text": [
      "[WDM] - Current google-chrome version is 85.0.4183\n",
      "[WDM] - Get LATEST driver version for 85.0.4183\n",
      "[WDM] - Driver [C:\\Users\\acer\\.wdm\\drivers\\chromedriver\\win32\\85.0.4183.87\\chromedriver.exe] found in cache\n"
     ]
    },
    {
     "name": "stdout",
     "output_type": "stream",
     "text": [
      "opening chrome....\n",
      " \n",
      "28.73282,77.170633&z=11&t=m&hl=en-US&gl=US&mapclient=apiv3\n",
      "Changed for 30 entry\n",
      "------------------------------\n"
     ]
    },
    {
     "name": "stderr",
     "output_type": "stream",
     "text": [
      "[WDM] - Current google-chrome version is 85.0.4183\n",
      "[WDM] - Get LATEST driver version for 85.0.4183\n",
      "[WDM] - Driver [C:\\Users\\acer\\.wdm\\drivers\\chromedriver\\win32\\85.0.4183.87\\chromedriver.exe] found in cache\n"
     ]
    },
    {
     "name": "stdout",
     "output_type": "stream",
     "text": [
      "opening chrome....\n",
      " \n",
      "28.58028,77.233829&z=11&t=m&hl=en-US&gl=US&mapclient=apiv3\n",
      "Changed for 31 entry\n",
      "------------------------------\n"
     ]
    },
    {
     "name": "stderr",
     "output_type": "stream",
     "text": [
      "[WDM] - Current google-chrome version is 85.0.4183\n",
      "[WDM] - Get LATEST driver version for 85.0.4183\n",
      "[WDM] - Driver [C:\\Users\\acer\\.wdm\\drivers\\chromedriver\\win32\\85.0.4183.87\\chromedriver.exe] found in cache\n"
     ]
    },
    {
     "name": "stdout",
     "output_type": "stream",
     "text": [
      "opening chrome....\n",
      " \n",
      "28.591825,77.227307&z=11&t=m&hl=en-US&gl=US&mapclient=apiv3\n",
      "Changed for 32 entry\n",
      "------------------------------\n"
     ]
    },
    {
     "name": "stderr",
     "output_type": "stream",
     "text": [
      "[WDM] - Current google-chrome version is 85.0.4183\n",
      "[WDM] - Get LATEST driver version for 85.0.4183\n",
      "[WDM] - Driver [C:\\Users\\acer\\.wdm\\drivers\\chromedriver\\win32\\85.0.4183.87\\chromedriver.exe] found in cache\n"
     ]
    },
    {
     "name": "stdout",
     "output_type": "stream",
     "text": [
      "opening chrome....\n",
      " \n",
      "28.611281,77.237738&z=11&t=m&hl=en-US&gl=US&mapclient=apiv3\n",
      "Changed for 33 entry\n",
      "------------------------------\n"
     ]
    },
    {
     "name": "stderr",
     "output_type": "stream",
     "text": [
      "[WDM] - Current google-chrome version is 85.0.4183\n",
      "[WDM] - Get LATEST driver version for 85.0.4183\n",
      "[WDM] - Driver [C:\\Users\\acer\\.wdm\\drivers\\chromedriver\\win32\\85.0.4183.87\\chromedriver.exe] found in cache\n"
     ]
    },
    {
     "name": "stdout",
     "output_type": "stream",
     "text": [
      "opening chrome....\n",
      " \n",
      "28.636429,77.201067&z=11&t=m&hl=en-US&gl=US&mapclient=apiv3\n",
      "Changed for 34 entry\n",
      "------------------------------\n"
     ]
    },
    {
     "name": "stderr",
     "output_type": "stream",
     "text": [
      "[WDM] - Current google-chrome version is 85.0.4183\n",
      "[WDM] - Get LATEST driver version for 85.0.4183\n"
     ]
    },
    {
     "name": "stdout",
     "output_type": "stream",
     "text": [
      "opening chrome....\n",
      " \n"
     ]
    },
    {
     "name": "stderr",
     "output_type": "stream",
     "text": [
      "[WDM] - Driver [C:\\Users\\acer\\.wdm\\drivers\\chromedriver\\win32\\85.0.4183.87\\chromedriver.exe] found in cache\n"
     ]
    },
    {
     "name": "stdout",
     "output_type": "stream",
     "text": [
      "28.684678,77.076574&z=11&t=m&hl=en-US&gl=US&mapclient=apiv3\n",
      "Changed for 35 entry\n",
      "------------------------------\n"
     ]
    },
    {
     "name": "stderr",
     "output_type": "stream",
     "text": [
      "[WDM] - Current google-chrome version is 85.0.4183\n",
      "[WDM] - Get LATEST driver version for 85.0.4183\n",
      "[WDM] - Driver [C:\\Users\\acer\\.wdm\\drivers\\chromedriver\\win32\\85.0.4183.87\\chromedriver.exe] found in cache\n"
     ]
    },
    {
     "name": "stdout",
     "output_type": "stream",
     "text": [
      "opening chrome....\n",
      " \n",
      "28.60909,77.032541&z=11&t=m&hl=en-US&gl=US&mapclient=apiv3\n",
      "Changed for 36 entry\n",
      "------------------------------\n"
     ]
    },
    {
     "name": "stderr",
     "output_type": "stream",
     "text": [
      "[WDM] - Current google-chrome version is 85.0.4183\n",
      "[WDM] - Get LATEST driver version for 85.0.4183\n",
      "[WDM] - Driver [C:\\Users\\acer\\.wdm\\drivers\\chromedriver\\win32\\85.0.4183.87\\chromedriver.exe] found in cache\n"
     ]
    },
    {
     "name": "stdout",
     "output_type": "stream",
     "text": [
      "opening chrome....\n",
      " \n",
      "28.570173,76.933762&z=11&t=m&hl=en-US&gl=US&mapclient=apiv3\n",
      "Changed for 37 entry\n",
      "------------------------------\n"
     ]
    },
    {
     "name": "stderr",
     "output_type": "stream",
     "text": [
      "[WDM] - Current google-chrome version is 85.0.4183\n",
      "[WDM] - Get LATEST driver version for 85.0.4183\n",
      "[WDM] - Driver [C:\\Users\\acer\\.wdm\\drivers\\chromedriver\\win32\\85.0.4183.87\\chromedriver.exe] found in cache\n"
     ]
    },
    {
     "name": "stdout",
     "output_type": "stream",
     "text": [
      "opening chrome....\n",
      " \n",
      "28.822836,77.101981&z=11&t=m&hl=en-US&gl=US&mapclient=apiv3\n",
      "Changed for 38 entry\n",
      "------------------------------\n"
     ]
    },
    {
     "name": "stderr",
     "output_type": "stream",
     "text": [
      "[WDM] - Current google-chrome version is 85.0.4183\n",
      "[WDM] - Get LATEST driver version for 85.0.4183\n",
      "[WDM] - Driver [C:\\Users\\acer\\.wdm\\drivers\\chromedriver\\win32\\85.0.4183.87\\chromedriver.exe] found in cache\n"
     ]
    },
    {
     "name": "stdout",
     "output_type": "stream",
     "text": [
      "opening chrome....\n",
      " \n",
      "28.56789,77.250515&z=11&t=m&hl=en-US&gl=US&mapclient=apiv3\n",
      "Changed for 39 entry\n",
      "------------------------------\n"
     ]
    },
    {
     "name": "stderr",
     "output_type": "stream",
     "text": [
      "[WDM] - Current google-chrome version is 85.0.4183\n",
      "[WDM] - Get LATEST driver version for 85.0.4183\n",
      "[WDM] - Driver [C:\\Users\\acer\\.wdm\\drivers\\chromedriver\\win32\\85.0.4183.87\\chromedriver.exe] found in cache\n"
     ]
    },
    {
     "name": "stdout",
     "output_type": "stream",
     "text": [
      "opening chrome....\n",
      " \n",
      "28.657381,77.158545&z=11&t=m&hl=en-US&gl=US&mapclient=apiv3\n",
      "Changed for 40 entry\n",
      "------------------------------\n"
     ]
    },
    {
     "name": "stderr",
     "output_type": "stream",
     "text": [
      "[WDM] - Current google-chrome version is 85.0.4183\n",
      "[WDM] - Get LATEST driver version for 85.0.4183\n",
      "[WDM] - Driver [C:\\Users\\acer\\.wdm\\drivers\\chromedriver\\win32\\85.0.4183.87\\chromedriver.exe] found in cache\n"
     ]
    },
    {
     "name": "stdout",
     "output_type": "stream",
     "text": [
      "opening chrome....\n",
      " \n",
      "28.530785,77.271255&z=11&t=m&hl=en-US&gl=US&mapclient=apiv3\n",
      "Changed for 41 entry\n",
      "------------------------------\n"
     ]
    },
    {
     "name": "stderr",
     "output_type": "stream",
     "text": [
      "[WDM] - Current google-chrome version is 85.0.4183\n",
      "[WDM] - Get LATEST driver version for 85.0.4183\n",
      "[WDM] - Driver [C:\\Users\\acer\\.wdm\\drivers\\chromedriver\\win32\\85.0.4183.87\\chromedriver.exe] found in cache\n"
     ]
    },
    {
     "name": "stdout",
     "output_type": "stream",
     "text": [
      "opening chrome....\n",
      " \n",
      "28.623748,77.287205&z=11&t=m&hl=en-US&gl=US&mapclient=apiv3\n",
      "Changed for 42 entry\n",
      "------------------------------\n"
     ]
    },
    {
     "name": "stderr",
     "output_type": "stream",
     "text": [
      "[WDM] - Current google-chrome version is 85.0.4183\n",
      "[WDM] - Get LATEST driver version for 85.0.4183\n",
      "[WDM] - Driver [C:\\Users\\acer\\.wdm\\drivers\\chromedriver\\win32\\85.0.4183.87\\chromedriver.exe] found in cache\n"
     ]
    },
    {
     "name": "stdout",
     "output_type": "stream",
     "text": [
      "opening chrome....\n",
      " \n",
      "28.674045,77.131023&z=11&t=m&hl=en-US&gl=US&mapclient=apiv3\n",
      "Changed for 43 entry\n",
      "------------------------------\n"
     ]
    },
    {
     "name": "stderr",
     "output_type": "stream",
     "text": [
      "[WDM] - Current google-chrome version is 85.0.4183\n",
      "[WDM] - Get LATEST driver version for 85.0.4183\n",
      "[WDM] - Driver [C:\\Users\\acer\\.wdm\\drivers\\chromedriver\\win32\\85.0.4183.87\\chromedriver.exe] found in cache\n"
     ]
    },
    {
     "name": "stdout",
     "output_type": "stream",
     "text": [
      "opening chrome....\n",
      " \n",
      "28.639645,77.146262&z=11&t=m&hl=en-US&gl=US&mapclient=apiv3\n",
      "Changed for 44 entry\n",
      "------------------------------\n"
     ]
    },
    {
     "name": "stderr",
     "output_type": "stream",
     "text": [
      "[WDM] - Current google-chrome version is 85.0.4183\n",
      "[WDM] - Get LATEST driver version for 85.0.4183\n",
      "[WDM] - Driver [C:\\Users\\acer\\.wdm\\drivers\\chromedriver\\win32\\85.0.4183.87\\chromedriver.exe] found in cache\n"
     ]
    },
    {
     "name": "stdout",
     "output_type": "stream",
     "text": [
      "opening chrome....\n",
      " \n",
      "28.639645,77.146263&z=11&t=m&hl=en-US&gl=US&mapclient=apiv3\n",
      "Changed for 45 entry\n",
      "------------------------------\n"
     ]
    },
    {
     "name": "stderr",
     "output_type": "stream",
     "text": [
      "[WDM] - Current google-chrome version is 85.0.4183\n",
      "[WDM] - Get LATEST driver version for 85.0.4183\n",
      "[WDM] - Driver [C:\\Users\\acer\\.wdm\\drivers\\chromedriver\\win32\\85.0.4183.87\\chromedriver.exe] found in cache\n"
     ]
    },
    {
     "name": "stdout",
     "output_type": "stream",
     "text": [
      "opening chrome....\n",
      " \n",
      "28.563262,77.186937&z=11&t=m&hl=en-US&gl=US&mapclient=apiv3\n",
      "Changed for 46 entry\n",
      "------------------------------\n"
     ]
    },
    {
     "name": "stderr",
     "output_type": "stream",
     "text": [
      "[WDM] - Current google-chrome version is 85.0.4183\n",
      "[WDM] - Get LATEST driver version for 85.0.4183\n",
      "[WDM] - Driver [C:\\Users\\acer\\.wdm\\drivers\\chromedriver\\win32\\85.0.4183.87\\chromedriver.exe] found in cache\n"
     ]
    },
    {
     "name": "stdout",
     "output_type": "stream",
     "text": [
      "opening chrome....\n",
      " \n",
      "28.732528,77.11992&z=11&t=m&hl=en-US&gl=US&mapclient=apiv3\n",
      "Changed for 47 entry\n",
      "------------------------------\n"
     ]
    },
    {
     "name": "stderr",
     "output_type": "stream",
     "text": [
      "[WDM] - Current google-chrome version is 85.0.4183\n",
      "[WDM] - Get LATEST driver version for 85.0.4183\n",
      "[WDM] - Driver [C:\\Users\\acer\\.wdm\\drivers\\chromedriver\\win32\\85.0.4183.87\\chromedriver.exe] found in cache\n"
     ]
    },
    {
     "name": "stdout",
     "output_type": "stream",
     "text": [
      "opening chrome....\n",
      " \n",
      "28.651478,77.147311&z=11&t=m&hl=en-US&gl=US&mapclient=apiv3\n",
      "Changed for 48 entry\n",
      "------------------------------\n"
     ]
    },
    {
     "name": "stderr",
     "output_type": "stream",
     "text": [
      "[WDM] - Current google-chrome version is 85.0.4183\n",
      "[WDM] - Get LATEST driver version for 85.0.4183\n",
      "[WDM] - Driver [C:\\Users\\acer\\.wdm\\drivers\\chromedriver\\win32\\85.0.4183.87\\chromedriver.exe] found in cache\n"
     ]
    },
    {
     "name": "stdout",
     "output_type": "stream",
     "text": [
      "opening chrome....\n",
      " \n",
      "28.550425,77.215938&z=11&t=m&hl=en-US&gl=US&mapclient=apiv3\n",
      "Changed for 49 entry\n",
      "------------------------------\n"
     ]
    },
    {
     "name": "stderr",
     "output_type": "stream",
     "text": [
      "[WDM] - Current google-chrome version is 85.0.4183\n",
      "[WDM] - Get LATEST driver version for 85.0.4183\n",
      "[WDM] - Driver [C:\\Users\\acer\\.wdm\\drivers\\chromedriver\\win32\\85.0.4183.87\\chromedriver.exe] found in cache\n"
     ]
    },
    {
     "name": "stdout",
     "output_type": "stream",
     "text": [
      "opening chrome....\n",
      " \n",
      "28.710508,77.249485&z=11&t=m&hl=en-US&gl=US&mapclient=apiv3\n",
      "Changed for 50 entry\n",
      "------------------------------\n"
     ]
    },
    {
     "name": "stderr",
     "output_type": "stream",
     "text": [
      "[WDM] - Current google-chrome version is 85.0.4183\n",
      "[WDM] - Get LATEST driver version for 85.0.4183\n",
      "[WDM] - Driver [C:\\Users\\acer\\.wdm\\drivers\\chromedriver\\win32\\85.0.4183.87\\chromedriver.exe] found in cache\n"
     ]
    },
    {
     "name": "stdout",
     "output_type": "stream",
     "text": [
      "opening chrome....\n",
      " \n",
      "28.531346,77.190156&z=11&t=m&hl=en-US&gl=US&mapclient=apiv3\n",
      "Changed for 51 entry\n",
      "------------------------------\n"
     ]
    },
    {
     "name": "stderr",
     "output_type": "stream",
     "text": [
      "[WDM] - Current google-chrome version is 85.0.4183\n",
      "[WDM] - Get LATEST driver version for 85.0.4183\n",
      "[WDM] - Driver [C:\\Users\\acer\\.wdm\\drivers\\chromedriver\\win32\\85.0.4183.87\\chromedriver.exe] found in cache\n"
     ]
    },
    {
     "name": "stdout",
     "output_type": "stream",
     "text": [
      "opening chrome....\n",
      " \n",
      "28.672342,77.31526&z=11&t=m&hl=en-US&gl=US&mapclient=apiv3\n",
      "Changed for 52 entry\n",
      "------------------------------\n"
     ]
    },
    {
     "name": "stderr",
     "output_type": "stream",
     "text": [
      "[WDM] - Current google-chrome version is 85.0.4183\n",
      "[WDM] - Get LATEST driver version for 85.0.4183\n",
      "[WDM] - Driver [C:\\Users\\acer\\.wdm\\drivers\\chromedriver\\win32\\85.0.4183.87\\chromedriver.exe] found in cache\n"
     ]
    },
    {
     "name": "stdout",
     "output_type": "stream",
     "text": [
      "opening chrome....\n",
      " \n",
      "28.699793,77.165453&z=11&t=m&hl=en-US&gl=US&mapclient=apiv3\n",
      "Changed for 53 entry\n",
      "------------------------------\n"
     ]
    },
    {
     "name": "stderr",
     "output_type": "stream",
     "text": [
      "[WDM] - Current google-chrome version is 85.0.4183\n",
      "[WDM] - Get LATEST driver version for 85.0.4183\n",
      "[WDM] - Driver [C:\\Users\\acer\\.wdm\\drivers\\chromedriver\\win32\\85.0.4183.87\\chromedriver.exe] found in cache\n"
     ]
    },
    {
     "name": "stdout",
     "output_type": "stream",
     "text": [
      "opening chrome....\n",
      " \n",
      "23.002657,72.591912&z=11&t=m&hl=en-US&gl=US&mapclient=apiv3\n",
      "Changed for 54 entry\n",
      "------------------------------\n"
     ]
    },
    {
     "name": "stderr",
     "output_type": "stream",
     "text": [
      "[WDM] - Current google-chrome version is 85.0.4183\n",
      "[WDM] - Get LATEST driver version for 85.0.4183\n",
      "[WDM] - Driver [C:\\Users\\acer\\.wdm\\drivers\\chromedriver\\win32\\85.0.4183.87\\chromedriver.exe] found in cache\n"
     ]
    },
    {
     "name": "stdout",
     "output_type": "stream",
     "text": [
      "opening chrome....\n",
      " \n",
      "21.613267,73.010555&z=11&t=m&hl=en-US&gl=US&mapclient=apiv3\n",
      "Changed for 55 entry\n",
      "------------------------------\n"
     ]
    },
    {
     "name": "stderr",
     "output_type": "stream",
     "text": [
      "[WDM] - Current google-chrome version is 85.0.4183\n",
      "[WDM] - Get LATEST driver version for 85.0.4183\n",
      "[WDM] - Driver [C:\\Users\\acer\\.wdm\\drivers\\chromedriver\\win32\\85.0.4183.87\\chromedriver.exe] found in cache\n"
     ]
    },
    {
     "name": "stdout",
     "output_type": "stream",
     "text": [
      "opening chrome....\n",
      " \n",
      "23.221714,72.654328&z=11&t=m&hl=en-US&gl=US&mapclient=apiv3\n",
      "Changed for 56 entry\n",
      "------------------------------\n"
     ]
    },
    {
     "name": "stderr",
     "output_type": "stream",
     "text": [
      "[WDM] - Current google-chrome version is 85.0.4183\n",
      "[WDM] - Get LATEST driver version for 85.0.4183\n",
      "[WDM] - Driver [C:\\Users\\acer\\.wdm\\drivers\\chromedriver\\win32\\85.0.4183.87\\chromedriver.exe] found in cache\n"
     ]
    },
    {
     "name": "stdout",
     "output_type": "stream",
     "text": [
      "opening chrome....\n",
      " \n",
      "22.410802,73.097923&z=11&t=m&hl=en-US&gl=US&mapclient=apiv3\n",
      "Changed for 57 entry\n",
      "------------------------------\n"
     ]
    },
    {
     "name": "stderr",
     "output_type": "stream",
     "text": [
      "[WDM] - Current google-chrome version is 85.0.4183\n",
      "[WDM] - Get LATEST driver version for 85.0.4183\n",
      "[WDM] - Driver [C:\\Users\\acer\\.wdm\\drivers\\chromedriver\\win32\\85.0.4183.87\\chromedriver.exe] found in cache\n"
     ]
    },
    {
     "name": "stdout",
     "output_type": "stream",
     "text": [
      "opening chrome....\n",
      " \n",
      "20.362421,72.918013&z=11&t=m&hl=en-US&gl=US&mapclient=apiv3\n",
      "Changed for 58 entry\n",
      "------------------------------\n"
     ]
    },
    {
     "name": "stderr",
     "output_type": "stream",
     "text": [
      "[WDM] - Current google-chrome version is 85.0.4183\n",
      "[WDM] - Get LATEST driver version for 85.0.4183\n",
      "[WDM] - Driver [C:\\Users\\acer\\.wdm\\drivers\\chromedriver\\win32\\85.0.4183.87\\chromedriver.exe] found in cache\n"
     ]
    },
    {
     "name": "stdout",
     "output_type": "stream",
     "text": [
      "opening chrome....\n",
      " \n",
      "22.969611,72.6435&z=11&t=m&hl=en-US&gl=US&mapclient=apiv3\n",
      "Changed for 59 entry\n",
      "------------------------------\n"
     ]
    },
    {
     "name": "stderr",
     "output_type": "stream",
     "text": [
      "[WDM] - Current google-chrome version is 85.0.4183\n",
      "[WDM] - Get LATEST driver version for 85.0.4183\n",
      "[WDM] - Driver [C:\\Users\\acer\\.wdm\\drivers\\chromedriver\\win32\\85.0.4183.87\\chromedriver.exe] found in cache\n"
     ]
    },
    {
     "name": "stdout",
     "output_type": "stream",
     "text": [
      "opening chrome....\n",
      " \n",
      "Problem encountered for Haryana, Ambala  , Patti Mehar, Ambala\n",
      "------------------------------\n"
     ]
    },
    {
     "name": "stderr",
     "output_type": "stream",
     "text": [
      "[WDM] - Current google-chrome version is 85.0.4183\n",
      "[WDM] - Get LATEST driver version for 85.0.4183\n",
      "[WDM] - Driver [C:\\Users\\acer\\.wdm\\drivers\\chromedriver\\win32\\85.0.4183.87\\chromedriver.exe] found in cache\n"
     ]
    },
    {
     "name": "stdout",
     "output_type": "stream",
     "text": [
      "opening chrome....\n",
      " \n",
      "28.6701,76.9254&z=11&t=m&hl=en-US&gl=US&mapclient=apiv3\n",
      "Changed for 61 entry\n",
      "------------------------------\n"
     ]
    },
    {
     "name": "stderr",
     "output_type": "stream",
     "text": [
      "[WDM] - Current google-chrome version is 85.0.4183\n",
      "[WDM] - Get LATEST driver version for 85.0.4183\n",
      "[WDM] - Driver [C:\\Users\\acer\\.wdm\\drivers\\chromedriver\\win32\\85.0.4183.87\\chromedriver.exe] found in cache\n"
     ]
    },
    {
     "name": "stdout",
     "output_type": "stream",
     "text": [
      "opening chrome....\n",
      " \n",
      "28.341925,77.319699&z=11&t=m&hl=en-US&gl=US&mapclient=apiv3\n",
      "Changed for 62 entry\n",
      "------------------------------\n"
     ]
    },
    {
     "name": "stderr",
     "output_type": "stream",
     "text": [
      "[WDM] - Current google-chrome version is 85.0.4183\n",
      "[WDM] - Get LATEST driver version for 85.0.4183\n",
      "[WDM] - Driver [C:\\Users\\acer\\.wdm\\drivers\\chromedriver\\win32\\85.0.4183.87\\chromedriver.exe] found in cache\n"
     ]
    },
    {
     "name": "stdout",
     "output_type": "stream",
     "text": [
      "opening chrome....\n",
      " \n",
      "28.806223,76.141105&z=11&t=m&hl=en-US&gl=US&mapclient=apiv3\n",
      "Changed for 63 entry\n",
      "------------------------------\n"
     ]
    },
    {
     "name": "stderr",
     "output_type": "stream",
     "text": [
      "[WDM] - Current google-chrome version is 85.0.4183\n",
      "[WDM] - Get LATEST driver version for 85.0.4183\n",
      "[WDM] - Driver [C:\\Users\\acer\\.wdm\\drivers\\chromedriver\\win32\\85.0.4183.87\\chromedriver.exe] found in cache\n"
     ]
    },
    {
     "name": "stdout",
     "output_type": "stream",
     "text": [
      "opening chrome....\n",
      " \n",
      "28.593883,76.270653&z=11&t=m&hl=en-US&gl=US&mapclient=apiv3\n",
      "Changed for 64 entry\n",
      "------------------------------\n"
     ]
    },
    {
     "name": "stderr",
     "output_type": "stream",
     "text": [
      "[WDM] - Current google-chrome version is 85.0.4183\n",
      "[WDM] - Get LATEST driver version for 85.0.4183\n",
      "[WDM] - Driver [C:\\Users\\acer\\.wdm\\drivers\\chromedriver\\win32\\85.0.4183.87\\chromedriver.exe] found in cache\n"
     ]
    },
    {
     "name": "stdout",
     "output_type": "stream",
     "text": [
      "opening chrome....\n",
      " \n",
      "28.2068,76.7997&z=11&t=m&hl=en-US&gl=US&mapclient=apiv3\n",
      "Changed for 65 entry\n",
      "------------------------------\n"
     ]
    },
    {
     "name": "stderr",
     "output_type": "stream",
     "text": [
      "[WDM] - Current google-chrome version is 85.0.4183\n",
      "[WDM] - Get LATEST driver version for 85.0.4183\n",
      "[WDM] - Driver [C:\\Users\\acer\\.wdm\\drivers\\chromedriver\\win32\\85.0.4183.87\\chromedriver.exe] found in cache\n"
     ]
    },
    {
     "name": "stdout",
     "output_type": "stream",
     "text": [
      "opening chrome....\n",
      " \n",
      "28.39072,77.30059&z=11&t=m&hl=en-US&gl=US&mapclient=apiv3\n",
      "Changed for 66 entry\n",
      "------------------------------\n"
     ]
    },
    {
     "name": "stderr",
     "output_type": "stream",
     "text": [
      "[WDM] - Current google-chrome version is 85.0.4183\n",
      "[WDM] - Get LATEST driver version for 85.0.4183\n",
      "[WDM] - Driver [C:\\Users\\acer\\.wdm\\drivers\\chromedriver\\win32\\85.0.4183.87\\chromedriver.exe] found in cache\n"
     ]
    },
    {
     "name": "stdout",
     "output_type": "stream",
     "text": [
      "opening chrome....\n",
      " \n",
      "28.376058,77.315741&z=11&t=m&hl=en-US&gl=US&mapclient=apiv3\n",
      "Changed for 67 entry\n",
      "------------------------------\n"
     ]
    },
    {
     "name": "stderr",
     "output_type": "stream",
     "text": [
      "[WDM] - Current google-chrome version is 85.0.4183\n",
      "[WDM] - Get LATEST driver version for 85.0.4183\n",
      "[WDM] - Driver [C:\\Users\\acer\\.wdm\\drivers\\chromedriver\\win32\\85.0.4183.87\\chromedriver.exe] found in cache\n"
     ]
    },
    {
     "name": "stdout",
     "output_type": "stream",
     "text": [
      "opening chrome....\n",
      " \n",
      "28.4417,77.3217&z=11&t=m&hl=en-US&gl=US&mapclient=apiv3\n",
      "Changed for 68 entry\n",
      "------------------------------\n"
     ]
    },
    {
     "name": "stderr",
     "output_type": "stream",
     "text": [
      "[WDM] - Current google-chrome version is 85.0.4183\n",
      "[WDM] - Get LATEST driver version for 85.0.4183\n",
      "[WDM] - Driver [C:\\Users\\acer\\.wdm\\drivers\\chromedriver\\win32\\85.0.4183.87\\chromedriver.exe] found in cache\n"
     ]
    },
    {
     "name": "stdout",
     "output_type": "stream",
     "text": [
      "opening chrome....\n",
      " \n",
      "28.408842,77.309908&z=11&t=m&hl=en-US&gl=US&mapclient=apiv3\n",
      "Changed for 69 entry\n",
      "------------------------------\n"
     ]
    },
    {
     "name": "stderr",
     "output_type": "stream",
     "text": [
      "[WDM] - Current google-chrome version is 85.0.4183\n",
      "[WDM] - Get LATEST driver version for 85.0.4183\n",
      "[WDM] - Driver [C:\\Users\\acer\\.wdm\\drivers\\chromedriver\\win32\\85.0.4183.87\\chromedriver.exe] found in cache\n"
     ]
    },
    {
     "name": "stdout",
     "output_type": "stream",
     "text": [
      "opening chrome....\n",
      " \n",
      "29.503664,75.467934&z=11&t=m&hl=en-US&gl=US&mapclient=apiv3\n",
      "Changed for 70 entry\n",
      "------------------------------\n"
     ]
    },
    {
     "name": "stderr",
     "output_type": "stream",
     "text": [
      "[WDM] - Current google-chrome version is 85.0.4183\n",
      "[WDM] - Get LATEST driver version for 85.0.4183\n",
      "[WDM] - Driver [C:\\Users\\acer\\.wdm\\drivers\\chromedriver\\win32\\85.0.4183.87\\chromedriver.exe] found in cache\n"
     ]
    },
    {
     "name": "stdout",
     "output_type": "stream",
     "text": [
      "opening chrome....\n",
      " \n",
      "28.422681,77.148944&z=11&t=m&hl=en-US&gl=US&mapclient=apiv3\n",
      "Changed for 71 entry\n",
      "------------------------------\n"
     ]
    },
    {
     "name": "stderr",
     "output_type": "stream",
     "text": [
      "[WDM] - Current google-chrome version is 85.0.4183\n",
      "[WDM] - Get LATEST driver version for 85.0.4183\n",
      "[WDM] - Driver [C:\\Users\\acer\\.wdm\\drivers\\chromedriver\\win32\\85.0.4183.87\\chromedriver.exe] found in cache\n"
     ]
    },
    {
     "name": "stdout",
     "output_type": "stream",
     "text": [
      "opening chrome....\n",
      " \n",
      "28.4227,77.0667&z=11&t=m&hl=en-US&gl=US&mapclient=apiv3\n",
      "Changed for 72 entry\n",
      "------------------------------\n"
     ]
    },
    {
     "name": "stderr",
     "output_type": "stream",
     "text": [
      "[WDM] - Current google-chrome version is 85.0.4183\n",
      "[WDM] - Get LATEST driver version for 85.0.4183\n",
      "[WDM] - Driver [C:\\Users\\acer\\.wdm\\drivers\\chromedriver\\win32\\85.0.4183.87\\chromedriver.exe] found in cache\n"
     ]
    },
    {
     "name": "stdout",
     "output_type": "stream",
     "text": [
      "opening chrome....\n",
      " \n",
      "Problem encountered for Haryana, Gurugram, Teri Gram, Gurugram\n",
      "------------------------------\n"
     ]
    },
    {
     "name": "stderr",
     "output_type": "stream",
     "text": [
      "[WDM] - Current google-chrome version is 85.0.4183\n",
      "[WDM] - Get LATEST driver version for 85.0.4183\n",
      "[WDM] - Driver [C:\\Users\\acer\\.wdm\\drivers\\chromedriver\\win32\\85.0.4183.87\\chromedriver.exe] found in cache\n"
     ]
    },
    {
     "name": "stdout",
     "output_type": "stream",
     "text": [
      "opening chrome....\n",
      " \n",
      "Problem encountered for Haryana, Gurugram, Vikas Sadan, Gurugram\n",
      "------------------------------\n"
     ]
    },
    {
     "name": "stderr",
     "output_type": "stream",
     "text": [
      "[WDM] - Current google-chrome version is 85.0.4183\n",
      "[WDM] - Get LATEST driver version for 85.0.4183\n",
      "[WDM] - Driver [C:\\Users\\acer\\.wdm\\drivers\\chromedriver\\win32\\85.0.4183.87\\chromedriver.exe] found in cache\n"
     ]
    },
    {
     "name": "stdout",
     "output_type": "stream",
     "text": [
      "opening chrome....\n",
      " \n",
      "Problem encountered for Haryana, Hisar, Urban Estate-II, Hisar\n",
      "------------------------------\n"
     ]
    },
    {
     "name": "stderr",
     "output_type": "stream",
     "text": [
      "[WDM] - Current google-chrome version is 85.0.4183\n",
      "[WDM] - Get LATEST driver version for 85.0.4183\n",
      "[WDM] - Driver [C:\\Users\\acer\\.wdm\\drivers\\chromedriver\\win32\\85.0.4183.87\\chromedriver.exe] found in cache\n"
     ]
    },
    {
     "name": "stdout",
     "output_type": "stream",
     "text": [
      "opening chrome....\n",
      " \n",
      "Problem encountered for Haryana, Jind, Police Lines, Jind\n",
      "------------------------------\n"
     ]
    },
    {
     "name": "stderr",
     "output_type": "stream",
     "text": [
      "[WDM] - Current google-chrome version is 85.0.4183\n",
      "[WDM] - Get LATEST driver version for 85.0.4183\n",
      "[WDM] - Driver [C:\\Users\\acer\\.wdm\\drivers\\chromedriver\\win32\\85.0.4183.87\\chromedriver.exe] found in cache\n"
     ]
    },
    {
     "name": "stdout",
     "output_type": "stream",
     "text": [
      "opening chrome....\n",
      " \n",
      "Problem encountered for Haryana, Kaithal, Rishi Nagar, Kaithal\n",
      "------------------------------\n"
     ]
    },
    {
     "name": "stderr",
     "output_type": "stream",
     "text": [
      "[WDM] - Current google-chrome version is 85.0.4183\n",
      "[WDM] - Get LATEST driver version for 85.0.4183\n",
      "[WDM] - Driver [C:\\Users\\acer\\.wdm\\drivers\\chromedriver\\win32\\85.0.4183.87\\chromedriver.exe] found in cache\n"
     ]
    },
    {
     "name": "stdout",
     "output_type": "stream",
     "text": [
      "opening chrome....\n",
      " \n",
      "Problem encountered for Haryana, Karnal, Sector-12, Karnal\n",
      "------------------------------\n"
     ]
    },
    {
     "name": "stderr",
     "output_type": "stream",
     "text": [
      "[WDM] - Current google-chrome version is 85.0.4183\n",
      "[WDM] - Get LATEST driver version for 85.0.4183\n",
      "[WDM] - Driver [C:\\Users\\acer\\.wdm\\drivers\\chromedriver\\win32\\85.0.4183.87\\chromedriver.exe] found in cache\n"
     ]
    },
    {
     "name": "stdout",
     "output_type": "stream",
     "text": [
      "opening chrome....\n",
      " \n",
      "Problem encountered for Haryana, Kurukshetra , Sector-7, Kurukshetra\n",
      "------------------------------\n"
     ]
    },
    {
     "name": "stderr",
     "output_type": "stream",
     "text": [
      "[WDM] - Current google-chrome version is 85.0.4183\n",
      "[WDM] - Get LATEST driver version for 85.0.4183\n",
      "[WDM] - Driver [C:\\Users\\acer\\.wdm\\drivers\\chromedriver\\win32\\85.0.4183.87\\chromedriver.exe] found in cache\n"
     ]
    },
    {
     "name": "stdout",
     "output_type": "stream",
     "text": [
      "opening chrome....\n",
      " \n",
      "Problem encountered for Haryana, Mandikhera, General Hospital, Mandikhera\n",
      "------------------------------\n"
     ]
    },
    {
     "name": "stderr",
     "output_type": "stream",
     "text": [
      "[WDM] - Current google-chrome version is 85.0.4183\n",
      "[WDM] - Get LATEST driver version for 85.0.4183\n",
      "[WDM] - Driver [C:\\Users\\acer\\.wdm\\drivers\\chromedriver\\win32\\85.0.4183.87\\chromedriver.exe] found in cache\n"
     ]
    },
    {
     "name": "stdout",
     "output_type": "stream",
     "text": [
      "opening chrome....\n",
      " \n",
      "Problem encountered for Haryana, Manesar , Sector-2 IMT, Manesar\n",
      "------------------------------\n"
     ]
    },
    {
     "name": "stderr",
     "output_type": "stream",
     "text": [
      "[WDM] - Current google-chrome version is 85.0.4183\n",
      "[WDM] - Get LATEST driver version for 85.0.4183\n",
      "[WDM] - Driver [C:\\Users\\acer\\.wdm\\drivers\\chromedriver\\win32\\85.0.4183.87\\chromedriver.exe] found in cache\n"
     ]
    },
    {
     "name": "stdout",
     "output_type": "stream",
     "text": [
      "opening chrome....\n",
      " \n",
      "Problem encountered for Haryana, Narnaul, Shastri Nagar, Narnaul\n",
      "------------------------------\n"
     ]
    },
    {
     "name": "stderr",
     "output_type": "stream",
     "text": [
      "[WDM] - Current google-chrome version is 85.0.4183\n",
      "[WDM] - Get LATEST driver version for 85.0.4183\n",
      "[WDM] - Driver [C:\\Users\\acer\\.wdm\\drivers\\chromedriver\\win32\\85.0.4183.87\\chromedriver.exe] found in cache\n"
     ]
    },
    {
     "name": "stdout",
     "output_type": "stream",
     "text": [
      "opening chrome....\n",
      " \n",
      "Problem encountered for Haryana, Palwal , Shyam Nagar, Palwal\n",
      "------------------------------\n"
     ]
    },
    {
     "name": "stderr",
     "output_type": "stream",
     "text": [
      "[WDM] - Current google-chrome version is 85.0.4183\n",
      "[WDM] - Get LATEST driver version for 85.0.4183\n",
      "[WDM] - Driver [C:\\Users\\acer\\.wdm\\drivers\\chromedriver\\win32\\85.0.4183.87\\chromedriver.exe] found in cache\n"
     ]
    },
    {
     "name": "stdout",
     "output_type": "stream",
     "text": [
      "opening chrome....\n",
      " \n",
      "Problem encountered for Haryana, Panchkula, Sector-6, Panchkula\n",
      "------------------------------\n"
     ]
    },
    {
     "name": "stderr",
     "output_type": "stream",
     "text": [
      "[WDM] - Current google-chrome version is 85.0.4183\n",
      "[WDM] - Get LATEST driver version for 85.0.4183\n",
      "[WDM] - Driver [C:\\Users\\acer\\.wdm\\drivers\\chromedriver\\win32\\85.0.4183.87\\chromedriver.exe] found in cache\n"
     ]
    },
    {
     "name": "stdout",
     "output_type": "stream",
     "text": [
      "opening chrome....\n",
      " \n",
      "Problem encountered for Haryana, Panipat, Sector-18, Panipat\n",
      "------------------------------\n"
     ]
    },
    {
     "name": "stderr",
     "output_type": "stream",
     "text": [
      "[WDM] - Current google-chrome version is 85.0.4183\n",
      "[WDM] - Get LATEST driver version for 85.0.4183\n",
      "[WDM] - Driver [C:\\Users\\acer\\.wdm\\drivers\\chromedriver\\win32\\85.0.4183.87\\chromedriver.exe] found in cache\n"
     ]
    },
    {
     "name": "stdout",
     "output_type": "stream",
     "text": [
      "opening chrome....\n",
      " \n",
      "Problem encountered for Haryana, Rohtak, MD University, Rohtak\n",
      "------------------------------\n"
     ]
    },
    {
     "name": "stderr",
     "output_type": "stream",
     "text": [
      "[WDM] - Current google-chrome version is 85.0.4183\n",
      "[WDM] - Get LATEST driver version for 85.0.4183\n",
      "[WDM] - Driver [C:\\Users\\acer\\.wdm\\drivers\\chromedriver\\win32\\85.0.4183.87\\chromedriver.exe] found in cache\n"
     ]
    },
    {
     "name": "stdout",
     "output_type": "stream",
     "text": [
      "opening chrome....\n",
      " \n",
      "Problem encountered for Haryana, Sirsa , F-Block, Sirsa\n",
      "------------------------------\n"
     ]
    },
    {
     "name": "stderr",
     "output_type": "stream",
     "text": [
      "[WDM] - Current google-chrome version is 85.0.4183\n",
      "[WDM] - Get LATEST driver version for 85.0.4183\n",
      "[WDM] - Driver [C:\\Users\\acer\\.wdm\\drivers\\chromedriver\\win32\\85.0.4183.87\\chromedriver.exe] found in cache\n"
     ]
    },
    {
     "name": "stdout",
     "output_type": "stream",
     "text": [
      "opening chrome....\n",
      " \n",
      "Problem encountered for Haryana, Sonipat, Murthal, Sonipat\n",
      "------------------------------\n"
     ]
    },
    {
     "name": "stderr",
     "output_type": "stream",
     "text": [
      "[WDM] - Current google-chrome version is 85.0.4183\n",
      "[WDM] - Get LATEST driver version for 85.0.4183\n",
      "[WDM] - Driver [C:\\Users\\acer\\.wdm\\drivers\\chromedriver\\win32\\85.0.4183.87\\chromedriver.exe] found in cache\n"
     ]
    },
    {
     "name": "stdout",
     "output_type": "stream",
     "text": [
      "opening chrome....\n",
      " \n",
      "30.148057,77.289347&z=11&t=m&hl=en-US&gl=US&mapclient=apiv3\n",
      "Changed for 89 entry\n",
      "------------------------------\n"
     ]
    },
    {
     "name": "stderr",
     "output_type": "stream",
     "text": [
      "[WDM] - Current google-chrome version is 85.0.4183\n",
      "[WDM] - Get LATEST driver version for 85.0.4183\n",
      "[WDM] - Driver [C:\\Users\\acer\\.wdm\\drivers\\chromedriver\\win32\\85.0.4183.87\\chromedriver.exe] found in cache\n"
     ]
    },
    {
     "name": "stdout",
     "output_type": "stream",
     "text": [
      "opening chrome....\n",
      " \n",
      "23.707909,86.41467&z=11&t=m&hl=en-US&gl=US&mapclient=apiv3\n",
      "Changed for 90 entry\n",
      "------------------------------\n"
     ]
    },
    {
     "name": "stderr",
     "output_type": "stream",
     "text": [
      "[WDM] - Current google-chrome version is 85.0.4183\n",
      "[WDM] - Get LATEST driver version for 85.0.4183\n",
      "[WDM] - Driver [C:\\Users\\acer\\.wdm\\drivers\\chromedriver\\win32\\85.0.4183.87\\chromedriver.exe] found in cache\n"
     ]
    },
    {
     "name": "stdout",
     "output_type": "stream",
     "text": [
      "opening chrome....\n",
      " \n",
      "16.172806,75.659694&z=11&t=m&hl=en-US&gl=US&mapclient=apiv3\n",
      "Changed for 91 entry\n",
      "------------------------------\n"
     ]
    },
    {
     "name": "stderr",
     "output_type": "stream",
     "text": [
      "[WDM] - Current google-chrome version is 85.0.4183\n",
      "[WDM] - Get LATEST driver version for 85.0.4183\n",
      "[WDM] - Driver [C:\\Users\\acer\\.wdm\\drivers\\chromedriver\\win32\\85.0.4183.87\\chromedriver.exe] found in cache\n"
     ]
    },
    {
     "name": "stdout",
     "output_type": "stream",
     "text": [
      "opening chrome....\n",
      " \n",
      "12.913522,77.59508&z=11&t=m&hl=en-US&gl=US&mapclient=apiv3\n",
      "Changed for 92 entry\n",
      "------------------------------\n"
     ]
    },
    {
     "name": "stderr",
     "output_type": "stream",
     "text": [
      "[WDM] - Current google-chrome version is 85.0.4183\n",
      "[WDM] - Get LATEST driver version for 85.0.4183\n",
      "[WDM] - Driver [C:\\Users\\acer\\.wdm\\drivers\\chromedriver\\win32\\85.0.4183.87\\chromedriver.exe] found in cache\n"
     ]
    },
    {
     "name": "stdout",
     "output_type": "stream",
     "text": [
      "opening chrome....\n",
      " \n",
      "12.935205,77.681449&z=11&t=m&hl=en-US&gl=US&mapclient=apiv3\n",
      "Changed for 93 entry\n",
      "------------------------------\n"
     ]
    },
    {
     "name": "stderr",
     "output_type": "stream",
     "text": [
      "[WDM] - Current google-chrome version is 85.0.4183\n",
      "[WDM] - Get LATEST driver version for 85.0.4183\n",
      "[WDM] - Driver [C:\\Users\\acer\\.wdm\\drivers\\chromedriver\\win32\\85.0.4183.87\\chromedriver.exe] found in cache\n"
     ]
    },
    {
     "name": "stdout",
     "output_type": "stream",
     "text": [
      "opening chrome....\n",
      " \n",
      "12.951913,77.539784&z=11&t=m&hl=en-US&gl=US&mapclient=apiv3\n",
      "Changed for 94 entry\n",
      "------------------------------\n"
     ]
    },
    {
     "name": "stderr",
     "output_type": "stream",
     "text": [
      "[WDM] - Current google-chrome version is 85.0.4183\n",
      "[WDM] - Get LATEST driver version for 85.0.4183\n",
      "[WDM] - Driver [C:\\Users\\acer\\.wdm\\drivers\\chromedriver\\win32\\85.0.4183.87\\chromedriver.exe] found in cache\n"
     ]
    },
    {
     "name": "stdout",
     "output_type": "stream",
     "text": [
      "opening chrome....\n",
      " \n",
      "12.975684,77.566075&z=11&t=m&hl=en-US&gl=US&mapclient=apiv3\n",
      "Changed for 95 entry\n",
      "------------------------------\n"
     ]
    },
    {
     "name": "stderr",
     "output_type": "stream",
     "text": [
      "[WDM] - Current google-chrome version is 85.0.4183\n",
      "[WDM] - Get LATEST driver version for 85.0.4183\n",
      "[WDM] - Driver [C:\\Users\\acer\\.wdm\\drivers\\chromedriver\\win32\\85.0.4183.87\\chromedriver.exe] found in cache\n"
     ]
    },
    {
     "name": "stdout",
     "output_type": "stream",
     "text": [
      "opening chrome....\n",
      " \n",
      "13.029152,77.585901&z=11&t=m&hl=en-US&gl=US&mapclient=apiv3\n",
      "Changed for 96 entry\n",
      "------------------------------\n"
     ]
    },
    {
     "name": "stderr",
     "output_type": "stream",
     "text": [
      "[WDM] - Current google-chrome version is 85.0.4183\n",
      "[WDM] - Get LATEST driver version for 85.0.4183\n",
      "[WDM] - Driver [C:\\Users\\acer\\.wdm\\drivers\\chromedriver\\win32\\85.0.4183.87\\chromedriver.exe] found in cache\n"
     ]
    },
    {
     "name": "stdout",
     "output_type": "stream",
     "text": [
      "opening chrome....\n",
      " \n",
      "12.938539,77.5901&z=11&t=m&hl=en-US&gl=US&mapclient=apiv3\n",
      "Changed for 97 entry\n",
      "------------------------------\n"
     ]
    },
    {
     "name": "stderr",
     "output_type": "stream",
     "text": [
      "[WDM] - Current google-chrome version is 85.0.4183\n",
      "[WDM] - Get LATEST driver version for 85.0.4183\n",
      "[WDM] - Driver [C:\\Users\\acer\\.wdm\\drivers\\chromedriver\\win32\\85.0.4183.87\\chromedriver.exe] found in cache\n"
     ]
    },
    {
     "name": "stdout",
     "output_type": "stream",
     "text": [
      "opening chrome....\n",
      " \n",
      "12.920984,77.584908&z=11&t=m&hl=en-US&gl=US&mapclient=apiv3\n",
      "Changed for 98 entry\n",
      "------------------------------\n"
     ]
    },
    {
     "name": "stderr",
     "output_type": "stream",
     "text": [
      "[WDM] - Current google-chrome version is 85.0.4183\n",
      "[WDM] - Get LATEST driver version for 85.0.4183\n",
      "[WDM] - Driver [C:\\Users\\acer\\.wdm\\drivers\\chromedriver\\win32\\85.0.4183.87\\chromedriver.exe] found in cache\n"
     ]
    },
    {
     "name": "stdout",
     "output_type": "stream",
     "text": [
      "opening chrome....\n",
      " \n",
      "13.02702,77.494094&z=11&t=m&hl=en-US&gl=US&mapclient=apiv3\n",
      "Changed for 99 entry\n",
      "------------------------------\n"
     ]
    },
    {
     "name": "stderr",
     "output_type": "stream",
     "text": [
      "[WDM] - Current google-chrome version is 85.0.4183\n",
      "[WDM] - Get LATEST driver version for 85.0.4183\n",
      "[WDM] - Driver [C:\\Users\\acer\\.wdm\\drivers\\chromedriver\\win32\\85.0.4183.87\\chromedriver.exe] found in cache\n"
     ]
    },
    {
     "name": "stdout",
     "output_type": "stream",
     "text": [
      "opening chrome....\n",
      " \n",
      "12.990328,77.543139&z=11&t=m&hl=en-US&gl=US&mapclient=apiv3\n",
      "Changed for 100 entry\n",
      "------------------------------\n"
     ]
    },
    {
     "name": "stderr",
     "output_type": "stream",
     "text": [
      "[WDM] - Current google-chrome version is 85.0.4183\n",
      "[WDM] - Get LATEST driver version for 85.0.4183\n",
      "[WDM] - Driver [C:\\Users\\acer\\.wdm\\drivers\\chromedriver\\win32\\85.0.4183.87\\chromedriver.exe] found in cache\n"
     ]
    },
    {
     "name": "stdout",
     "output_type": "stream",
     "text": [
      "opening chrome....\n",
      " \n",
      "12.917348,77.622813&z=11&t=m&hl=en-US&gl=US&mapclient=apiv3\n",
      "Changed for 101 entry\n",
      "------------------------------\n"
     ]
    },
    {
     "name": "stderr",
     "output_type": "stream",
     "text": [
      "[WDM] - Current google-chrome version is 85.0.4183\n",
      "[WDM] - Get LATEST driver version for 85.0.4183\n",
      "[WDM] - Driver [C:\\Users\\acer\\.wdm\\drivers\\chromedriver\\win32\\85.0.4183.87\\chromedriver.exe] found in cache\n"
     ]
    },
    {
     "name": "stdout",
     "output_type": "stream",
     "text": [
      "opening chrome....\n",
      " \n",
      "13.428828,77.731418&z=11&t=m&hl=en-US&gl=US&mapclient=apiv3\n",
      "Changed for 102 entry\n",
      "------------------------------\n"
     ]
    },
    {
     "name": "stderr",
     "output_type": "stream",
     "text": [
      "[WDM] - Current google-chrome version is 85.0.4183\n",
      "[WDM] - Get LATEST driver version for 85.0.4183\n",
      "[WDM] - Driver [C:\\Users\\acer\\.wdm\\drivers\\chromedriver\\win32\\85.0.4183.87\\chromedriver.exe] found in cache\n"
     ]
    },
    {
     "name": "stdout",
     "output_type": "stream",
     "text": [
      "opening chrome....\n",
      " \n",
      "13.328028,75.797056&z=11&t=m&hl=en-US&gl=US&mapclient=apiv3\n",
      "Changed for 103 entry\n",
      "------------------------------\n"
     ]
    },
    {
     "name": "stderr",
     "output_type": "stream",
     "text": [
      "[WDM] - Current google-chrome version is 85.0.4183\n",
      "[WDM] - Get LATEST driver version for 85.0.4183\n",
      "[WDM] - Driver [C:\\Users\\acer\\.wdm\\drivers\\chromedriver\\win32\\85.0.4183.87\\chromedriver.exe] found in cache\n"
     ]
    },
    {
     "name": "stdout",
     "output_type": "stream",
     "text": [
      "opening chrome....\n",
      " \n",
      "15.351773,75.140726&z=11&t=m&hl=en-US&gl=US&mapclient=apiv3\n",
      "Changed for 104 entry\n",
      "------------------------------\n"
     ]
    },
    {
     "name": "stderr",
     "output_type": "stream",
     "text": [
      "[WDM] - Current google-chrome version is 85.0.4183\n",
      "[WDM] - Get LATEST driver version for 85.0.4183\n",
      "[WDM] - Driver [C:\\Users\\acer\\.wdm\\drivers\\chromedriver\\win32\\85.0.4183.87\\chromedriver.exe] found in cache\n"
     ]
    },
    {
     "name": "stdout",
     "output_type": "stream",
     "text": [
      "opening chrome....\n",
      " \n",
      "17.321993,76.822628&z=11&t=m&hl=en-US&gl=US&mapclient=apiv3\n",
      "Changed for 105 entry\n",
      "------------------------------\n"
     ]
    },
    {
     "name": "stderr",
     "output_type": "stream",
     "text": [
      "[WDM] - Current google-chrome version is 85.0.4183\n",
      "[WDM] - Get LATEST driver version for 85.0.4183\n",
      "[WDM] - Driver [C:\\Users\\acer\\.wdm\\drivers\\chromedriver\\win32\\85.0.4183.87\\chromedriver.exe] found in cache\n"
     ]
    },
    {
     "name": "stdout",
     "output_type": "stream",
     "text": [
      "opening chrome....\n",
      " \n",
      "12.21041,76.37376&z=11&t=m&hl=en-US&gl=US&mapclient=apiv3\n",
      "Changed for 106 entry\n",
      "------------------------------\n"
     ]
    },
    {
     "name": "stderr",
     "output_type": "stream",
     "text": [
      "[WDM] - Current google-chrome version is 85.0.4183\n",
      "[WDM] - Get LATEST driver version for 85.0.4183\n",
      "[WDM] - Driver [C:\\Users\\acer\\.wdm\\drivers\\chromedriver\\win32\\85.0.4183.87\\chromedriver.exe] found in cache\n"
     ]
    },
    {
     "name": "stdout",
     "output_type": "stream",
     "text": [
      "opening chrome....\n",
      " \n",
      "12.733409,77.298051&z=11&t=m&hl=en-US&gl=US&mapclient=apiv3\n",
      "Changed for 107 entry\n",
      "------------------------------\n"
     ]
    },
    {
     "name": "stderr",
     "output_type": "stream",
     "text": [
      "[WDM] - Current google-chrome version is 85.0.4183\n",
      "[WDM] - Get LATEST driver version for 85.0.4183\n",
      "[WDM] - Driver [C:\\Users\\acer\\.wdm\\drivers\\chromedriver\\win32\\85.0.4183.87\\chromedriver.exe] found in cache\n"
     ]
    },
    {
     "name": "stdout",
     "output_type": "stream",
     "text": [
      "opening chrome....\n",
      " \n",
      "16.802639,75.722694&z=11&t=m&hl=en-US&gl=US&mapclient=apiv3\n",
      "Changed for 108 entry\n",
      "------------------------------\n"
     ]
    },
    {
     "name": "stderr",
     "output_type": "stream",
     "text": [
      "[WDM] - Current google-chrome version is 85.0.4183\n",
      "[WDM] - Get LATEST driver version for 85.0.4183\n",
      "[WDM] - Driver [C:\\Users\\acer\\.wdm\\drivers\\chromedriver\\win32\\85.0.4183.87\\chromedriver.exe] found in cache\n"
     ]
    },
    {
     "name": "stdout",
     "output_type": "stream",
     "text": [
      "opening chrome....\n",
      " \n",
      "16.7602,77.1428&z=11&t=m&hl=en-US&gl=US&mapclient=apiv3\n",
      "Changed for 109 entry\n",
      "------------------------------\n"
     ]
    },
    {
     "name": "stderr",
     "output_type": "stream",
     "text": [
      "[WDM] - Current google-chrome version is 85.0.4183\n",
      "[WDM] - Get LATEST driver version for 85.0.4183\n",
      "[WDM] - Driver [C:\\Users\\acer\\.wdm\\drivers\\chromedriver\\win32\\85.0.4183.87\\chromedriver.exe] found in cache\n"
     ]
    },
    {
     "name": "stdout",
     "output_type": "stream",
     "text": [
      "opening chrome....\n",
      " \n",
      "10.073232,76.302765&z=11&t=m&hl=en-US&gl=US&mapclient=apiv3\n",
      "Changed for 110 entry\n",
      "------------------------------\n"
     ]
    },
    {
     "name": "stderr",
     "output_type": "stream",
     "text": [
      "[WDM] - Current google-chrome version is 85.0.4183\n",
      "[WDM] - Get LATEST driver version for 85.0.4183\n",
      "[WDM] - Driver [C:\\Users\\acer\\.wdm\\drivers\\chromedriver\\win32\\85.0.4183.87\\chromedriver.exe] found in cache\n"
     ]
    },
    {
     "name": "stdout",
     "output_type": "stream",
     "text": [
      "opening chrome....\n",
      " \n",
      "9.985653,76.281342&z=11&t=m&hl=en-US&gl=US&mapclient=apiv3\n",
      "Changed for 111 entry\n",
      "------------------------------\n"
     ]
    },
    {
     "name": "stderr",
     "output_type": "stream",
     "text": [
      "[WDM] - Current google-chrome version is 85.0.4183\n",
      "[WDM] - Get LATEST driver version for 85.0.4183\n",
      "[WDM] - Driver [C:\\Users\\acer\\.wdm\\drivers\\chromedriver\\win32\\85.0.4183.87\\chromedriver.exe] found in cache\n"
     ]
    },
    {
     "name": "stdout",
     "output_type": "stream",
     "text": [
      "opening chrome....\n",
      " \n",
      "11.875,75.3732&z=11&t=m&hl=en-US&gl=US&mapclient=apiv3\n",
      "Changed for 112 entry\n",
      "------------------------------\n"
     ]
    },
    {
     "name": "stderr",
     "output_type": "stream",
     "text": [
      "[WDM] - Current google-chrome version is 85.0.4183\n",
      "[WDM] - Get LATEST driver version for 85.0.4183\n",
      "[WDM] - Driver [C:\\Users\\acer\\.wdm\\drivers\\chromedriver\\win32\\85.0.4183.87\\chromedriver.exe] found in cache\n"
     ]
    },
    {
     "name": "stdout",
     "output_type": "stream",
     "text": [
      "opening chrome....\n",
      " \n",
      "9.969447,76.321186&z=11&t=m&hl=en-US&gl=US&mapclient=apiv3\n",
      "Changed for 113 entry\n",
      "------------------------------\n"
     ]
    },
    {
     "name": "stderr",
     "output_type": "stream",
     "text": [
      "[WDM] - Current google-chrome version is 85.0.4183\n",
      "[WDM] - Get LATEST driver version for 85.0.4183\n",
      "[WDM] - Driver [C:\\Users\\acer\\.wdm\\drivers\\chromedriver\\win32\\85.0.4183.87\\chromedriver.exe] found in cache\n"
     ]
    },
    {
     "name": "stdout",
     "output_type": "stream",
     "text": [
      "opening chrome....\n",
      " \n",
      "8.8787,76.6073&z=11&t=m&hl=en-US&gl=US&mapclient=apiv3\n",
      "Changed for 114 entry\n",
      "------------------------------\n"
     ]
    },
    {
     "name": "stderr",
     "output_type": "stream",
     "text": [
      "[WDM] - Current google-chrome version is 85.0.4183\n",
      "[WDM] - Get LATEST driver version for 85.0.4183\n",
      "[WDM] - Driver [C:\\Users\\acer\\.wdm\\drivers\\chromedriver\\win32\\85.0.4183.87\\chromedriver.exe] found in cache\n"
     ]
    },
    {
     "name": "stdout",
     "output_type": "stream",
     "text": [
      "opening chrome....\n",
      " \n",
      "11.249077,75.784371&z=11&t=m&hl=en-US&gl=US&mapclient=apiv3\n",
      "Changed for 115 entry\n",
      "------------------------------\n"
     ]
    },
    {
     "name": "stderr",
     "output_type": "stream",
     "text": [
      "[WDM] - Current google-chrome version is 85.0.4183\n",
      "[WDM] - Get LATEST driver version for 85.0.4183\n",
      "[WDM] - Driver [C:\\Users\\acer\\.wdm\\drivers\\chromedriver\\win32\\85.0.4183.87\\chromedriver.exe] found in cache\n"
     ]
    },
    {
     "name": "stdout",
     "output_type": "stream",
     "text": [
      "opening chrome....\n",
      " \n",
      "8.5637,76.8865&z=11&t=m&hl=en-US&gl=US&mapclient=apiv3\n",
      "Changed for 116 entry\n",
      "------------------------------\n"
     ]
    },
    {
     "name": "stderr",
     "output_type": "stream",
     "text": [
      "[WDM] - Current google-chrome version is 85.0.4183\n",
      "[WDM] - Get LATEST driver version for 85.0.4183\n",
      "[WDM] - Driver [C:\\Users\\acer\\.wdm\\drivers\\chromedriver\\win32\\85.0.4183.87\\chromedriver.exe] found in cache\n"
     ]
    },
    {
     "name": "stdout",
     "output_type": "stream",
     "text": [
      "opening chrome....\n",
      " \n",
      "8.514909,76.943588&z=11&t=m&hl=en-US&gl=US&mapclient=apiv3\n",
      "Changed for 117 entry\n",
      "------------------------------\n"
     ]
    },
    {
     "name": "stderr",
     "output_type": "stream",
     "text": [
      "[WDM] - Current google-chrome version is 85.0.4183\n",
      "[WDM] - Get LATEST driver version for 85.0.4183\n",
      "[WDM] - Driver [C:\\Users\\acer\\.wdm\\drivers\\chromedriver\\win32\\85.0.4183.87\\chromedriver.exe] found in cache\n"
     ]
    },
    {
     "name": "stdout",
     "output_type": "stream",
     "text": [
      "opening chrome....\n",
      " \n",
      "23.233584,77.400574&z=11&t=m&hl=en-US&gl=US&mapclient=apiv3\n",
      "Changed for 118 entry\n",
      "------------------------------\n"
     ]
    },
    {
     "name": "stderr",
     "output_type": "stream",
     "text": [
      "[WDM] - Current google-chrome version is 85.0.4183\n",
      "[WDM] - Get LATEST driver version for 85.0.4183\n",
      "[WDM] - Driver [C:\\Users\\acer\\.wdm\\drivers\\chromedriver\\win32\\85.0.4183.87\\chromedriver.exe] found in cache\n"
     ]
    },
    {
     "name": "stdout",
     "output_type": "stream",
     "text": [
      "opening chrome....\n",
      " \n",
      "23.817487,79.446246&z=11&t=m&hl=en-US&gl=US&mapclient=apiv3\n",
      "Changed for 119 entry\n",
      "------------------------------\n"
     ]
    },
    {
     "name": "stderr",
     "output_type": "stream",
     "text": [
      "[WDM] - Current google-chrome version is 85.0.4183\n",
      "[WDM] - Get LATEST driver version for 85.0.4183\n",
      "[WDM] - Driver [C:\\Users\\acer\\.wdm\\drivers\\chromedriver\\win32\\85.0.4183.87\\chromedriver.exe] found in cache\n"
     ]
    },
    {
     "name": "stdout",
     "output_type": "stream",
     "text": [
      "opening chrome....\n",
      " \n",
      "22.968259,76.064118&z=11&t=m&hl=en-US&gl=US&mapclient=apiv3\n",
      "Changed for 120 entry\n",
      "------------------------------\n"
     ]
    },
    {
     "name": "stderr",
     "output_type": "stream",
     "text": [
      "[WDM] - Current google-chrome version is 85.0.4183\n",
      "[WDM] - Get LATEST driver version for 85.0.4183\n",
      "[WDM] - Driver [C:\\Users\\acer\\.wdm\\drivers\\chromedriver\\win32\\85.0.4183.87\\chromedriver.exe] found in cache\n"
     ]
    },
    {
     "name": "stdout",
     "output_type": "stream",
     "text": [
      "opening chrome....\n",
      " \n",
      "26.203442,78.193251&z=11&t=m&hl=en-US&gl=US&mapclient=apiv3\n",
      "Changed for 121 entry\n",
      "------------------------------\n"
     ]
    },
    {
     "name": "stderr",
     "output_type": "stream",
     "text": [
      "[WDM] - Current google-chrome version is 85.0.4183\n",
      "[WDM] - Get LATEST driver version for 85.0.4183\n",
      "[WDM] - Driver [C:\\Users\\acer\\.wdm\\drivers\\chromedriver\\win32\\85.0.4183.87\\chromedriver.exe] found in cache\n"
     ]
    },
    {
     "name": "stdout",
     "output_type": "stream",
     "text": [
      "opening chrome....\n",
      " \n",
      "26.210536,78.171&z=11&t=m&hl=en-US&gl=US&mapclient=apiv3\n",
      "Changed for 122 entry\n",
      "------------------------------\n"
     ]
    },
    {
     "name": "stderr",
     "output_type": "stream",
     "text": [
      "[WDM] - Current google-chrome version is 85.0.4183\n",
      "[WDM] - Get LATEST driver version for 85.0.4183\n",
      "[WDM] - Driver [C:\\Users\\acer\\.wdm\\drivers\\chromedriver\\win32\\85.0.4183.87\\chromedriver.exe] found in cache\n"
     ]
    },
    {
     "name": "stdout",
     "output_type": "stream",
     "text": [
      "opening chrome....\n",
      " \n",
      "22.431,75.5213&z=11&t=m&hl=en-US&gl=US&mapclient=apiv3\n",
      "Changed for 123 entry\n",
      "------------------------------\n"
     ]
    },
    {
     "name": "stderr",
     "output_type": "stream",
     "text": [
      "[WDM] - Current google-chrome version is 85.0.4183\n",
      "[WDM] - Get LATEST driver version for 85.0.4183\n",
      "[WDM] - Driver [C:\\Users\\acer\\.wdm\\drivers\\chromedriver\\win32\\85.0.4183.87\\chromedriver.exe] found in cache\n"
     ]
    },
    {
     "name": "stdout",
     "output_type": "stream",
     "text": [
      "opening chrome....\n",
      " \n",
      "23.168606,79.932247&z=11&t=m&hl=en-US&gl=US&mapclient=apiv3\n",
      "Changed for 124 entry\n",
      "------------------------------\n"
     ]
    },
    {
     "name": "stderr",
     "output_type": "stream",
     "text": [
      "[WDM] - Current google-chrome version is 85.0.4183\n",
      "[WDM] - Get LATEST driver version for 85.0.4183\n",
      "[WDM] - Driver [C:\\Users\\acer\\.wdm\\drivers\\chromedriver\\win32\\85.0.4183.87\\chromedriver.exe] found in cache\n"
     ]
    },
    {
     "name": "stdout",
     "output_type": "stream",
     "text": [
      "opening chrome....\n",
      " \n",
      "23.50016,80.23284&z=11&t=m&hl=en-US&gl=US&mapclient=apiv3\n",
      "Changed for 125 entry\n",
      "------------------------------\n"
     ]
    },
    {
     "name": "stderr",
     "output_type": "stream",
     "text": [
      "[WDM] - Current google-chrome version is 85.0.4183\n",
      "[WDM] - Get LATEST driver version for 85.0.4183\n",
      "[WDM] - Driver [C:\\Users\\acer\\.wdm\\drivers\\chromedriver\\win32\\85.0.4183.87\\chromedriver.exe] found in cache\n"
     ]
    },
    {
     "name": "stdout",
     "output_type": "stream",
     "text": [
      "opening chrome....\n",
      " \n",
      "24.261301,80.723178&z=11&t=m&hl=en-US&gl=US&mapclient=apiv3\n",
      "Changed for 126 entry\n",
      "------------------------------\n"
     ]
    },
    {
     "name": "stderr",
     "output_type": "stream",
     "text": [
      "[WDM] - Current google-chrome version is 85.0.4183\n",
      "[WDM] - Get LATEST driver version for 85.0.4183\n",
      "[WDM] - Driver [C:\\Users\\acer\\.wdm\\drivers\\chromedriver\\win32\\85.0.4183.87\\chromedriver.exe] found in cache\n"
     ]
    },
    {
     "name": "stdout",
     "output_type": "stream",
     "text": [
      "opening chrome....\n",
      " \n",
      "23.10844,77.511428&z=11&t=m&hl=en-US&gl=US&mapclient=apiv3\n",
      "Changed for 127 entry\n",
      "------------------------------\n"
     ]
    },
    {
     "name": "stderr",
     "output_type": "stream",
     "text": [
      "[WDM] - Current google-chrome version is 85.0.4183\n",
      "[WDM] - Get LATEST driver version for 85.0.4183\n",
      "[WDM] - Driver [C:\\Users\\acer\\.wdm\\drivers\\chromedriver\\win32\\85.0.4183.87\\chromedriver.exe] found in cache\n"
     ]
    },
    {
     "name": "stdout",
     "output_type": "stream",
     "text": [
      "opening chrome....\n",
      " \n",
      "22.624758,75.675238&z=11&t=m&hl=en-US&gl=US&mapclient=apiv3\n",
      "Changed for 128 entry\n",
      "------------------------------\n"
     ]
    },
    {
     "name": "stderr",
     "output_type": "stream",
     "text": [
      "[WDM] - Current google-chrome version is 85.0.4183\n",
      "[WDM] - Get LATEST driver version for 85.0.4183\n",
      "[WDM] - Driver [C:\\Users\\acer\\.wdm\\drivers\\chromedriver\\win32\\85.0.4183.87\\chromedriver.exe] found in cache\n"
     ]
    },
    {
     "name": "stdout",
     "output_type": "stream",
     "text": [
      "opening chrome....\n",
      " \n",
      "23.331731,75.045981&z=11&t=m&hl=en-US&gl=US&mapclient=apiv3\n",
      "Changed for 129 entry\n",
      "------------------------------\n"
     ]
    },
    {
     "name": "stderr",
     "output_type": "stream",
     "text": [
      "[WDM] - Current google-chrome version is 85.0.4183\n",
      "[WDM] - Get LATEST driver version for 85.0.4183\n",
      "[WDM] - Driver [C:\\Users\\acer\\.wdm\\drivers\\chromedriver\\win32\\85.0.4183.87\\chromedriver.exe] found in cache\n"
     ]
    },
    {
     "name": "stdout",
     "output_type": "stream",
     "text": [
      "opening chrome....\n",
      " \n",
      "23.864016,78.802893&z=11&t=m&hl=en-US&gl=US&mapclient=apiv3\n",
      "Changed for 130 entry\n",
      "------------------------------\n"
     ]
    },
    {
     "name": "stderr",
     "output_type": "stream",
     "text": [
      "[WDM] - Current google-chrome version is 85.0.4183\n",
      "[WDM] - Get LATEST driver version for 85.0.4183\n",
      "[WDM] - Driver [C:\\Users\\acer\\.wdm\\drivers\\chromedriver\\win32\\85.0.4183.87\\chromedriver.exe] found in cache\n"
     ]
    },
    {
     "name": "stdout",
     "output_type": "stream",
     "text": [
      "opening chrome....\n",
      " \n",
      "24.584344,80.854941&z=11&t=m&hl=en-US&gl=US&mapclient=apiv3\n",
      "Changed for 131 entry\n",
      "------------------------------\n"
     ]
    },
    {
     "name": "stderr",
     "output_type": "stream",
     "text": [
      "[WDM] - Current google-chrome version is 85.0.4183\n",
      "[WDM] - Get LATEST driver version for 85.0.4183\n",
      "[WDM] - Driver [C:\\Users\\acer\\.wdm\\drivers\\chromedriver\\win32\\85.0.4183.87\\chromedriver.exe] found in cache\n"
     ]
    },
    {
     "name": "stdout",
     "output_type": "stream",
     "text": [
      "opening chrome....\n",
      " \n",
      "24.10897,82.64558&z=11&t=m&hl=en-US&gl=US&mapclient=apiv3\n",
      "Changed for 132 entry\n",
      "------------------------------\n"
     ]
    },
    {
     "name": "stderr",
     "output_type": "stream",
     "text": [
      "[WDM] - Current google-chrome version is 85.0.4183\n",
      "[WDM] - Get LATEST driver version for 85.0.4183\n"
     ]
    },
    {
     "name": "stdout",
     "output_type": "stream",
     "text": [
      "opening chrome....\n",
      " \n"
     ]
    },
    {
     "name": "stderr",
     "output_type": "stream",
     "text": [
      "[WDM] - Driver [C:\\Users\\acer\\.wdm\\drivers\\chromedriver\\win32\\85.0.4183.87\\chromedriver.exe] found in cache\n"
     ]
    },
    {
     "name": "stdout",
     "output_type": "stream",
     "text": [
      "23.182719,75.768218&z=11&t=m&hl=en-US&gl=US&mapclient=apiv3\n",
      "Changed for 133 entry\n",
      "------------------------------\n"
     ]
    },
    {
     "name": "stderr",
     "output_type": "stream",
     "text": [
      "[WDM] - Current google-chrome version is 85.0.4183\n",
      "[WDM] - Get LATEST driver version for 85.0.4183\n",
      "[WDM] - Driver [C:\\Users\\acer\\.wdm\\drivers\\chromedriver\\win32\\85.0.4183.87\\chromedriver.exe] found in cache\n"
     ]
    },
    {
     "name": "stdout",
     "output_type": "stream",
     "text": [
      "opening chrome....\n",
      " \n",
      "19.838944,75.244448&z=11&t=m&hl=en-US&gl=US&mapclient=apiv3\n",
      "Changed for 134 entry\n",
      "------------------------------\n"
     ]
    },
    {
     "name": "stderr",
     "output_type": "stream",
     "text": [
      "[WDM] - Current google-chrome version is 85.0.4183\n",
      "[WDM] - Get LATEST driver version for 85.0.4183\n",
      "[WDM] - Driver [C:\\Users\\acer\\.wdm\\drivers\\chromedriver\\win32\\85.0.4183.87\\chromedriver.exe] found in cache\n"
     ]
    },
    {
     "name": "stdout",
     "output_type": "stream",
     "text": [
      "opening chrome....\n",
      " \n",
      "19.645324,77.634523&z=11&t=m&hl=en-US&gl=US&mapclient=apiv3\n",
      "Changed for 135 entry\n",
      "------------------------------\n"
     ]
    },
    {
     "name": "stderr",
     "output_type": "stream",
     "text": [
      "[WDM] - Current google-chrome version is 85.0.4183\n",
      "[WDM] - Get LATEST driver version for 85.0.4183\n",
      "[WDM] - Driver [C:\\Users\\acer\\.wdm\\drivers\\chromedriver\\win32\\85.0.4183.87\\chromedriver.exe] found in cache\n"
     ]
    },
    {
     "name": "stdout",
     "output_type": "stream",
     "text": [
      "opening chrome....\n",
      " \n",
      "19.97753,79.233709&z=11&t=m&hl=en-US&gl=US&mapclient=apiv3\n",
      "Changed for 136 entry\n",
      "------------------------------\n"
     ]
    },
    {
     "name": "stderr",
     "output_type": "stream",
     "text": [
      "[WDM] - Current google-chrome version is 85.0.4183\n",
      "[WDM] - Get LATEST driver version for 85.0.4183\n",
      "[WDM] - Driver [C:\\Users\\acer\\.wdm\\drivers\\chromedriver\\win32\\85.0.4183.87\\chromedriver.exe] found in cache\n"
     ]
    },
    {
     "name": "stdout",
     "output_type": "stream",
     "text": [
      "opening chrome....\n",
      " \n",
      "19.25292,73.142019&z=11&t=m&hl=en-US&gl=US&mapclient=apiv3\n",
      "Changed for 137 entry\n",
      "------------------------------\n"
     ]
    },
    {
     "name": "stderr",
     "output_type": "stream",
     "text": [
      "[WDM] - Current google-chrome version is 85.0.4183\n",
      "[WDM] - Get LATEST driver version for 85.0.4183\n",
      "[WDM] - Driver [C:\\Users\\acer\\.wdm\\drivers\\chromedriver\\win32\\85.0.4183.87\\chromedriver.exe] found in cache\n"
     ]
    },
    {
     "name": "stdout",
     "output_type": "stream",
     "text": [
      "opening chrome....\n",
      " \n",
      "19.0627,72.84614&z=11&t=m&hl=en-US&gl=US&mapclient=apiv3\n",
      "Changed for 138 entry\n",
      "------------------------------\n"
     ]
    },
    {
     "name": "stderr",
     "output_type": "stream",
     "text": [
      "[WDM] - Current google-chrome version is 85.0.4183\n",
      "[WDM] - Get LATEST driver version for 85.0.4183\n",
      "[WDM] - Driver [C:\\Users\\acer\\.wdm\\drivers\\chromedriver\\win32\\85.0.4183.87\\chromedriver.exe] found in cache\n"
     ]
    },
    {
     "name": "stdout",
     "output_type": "stream",
     "text": [
      "opening chrome....\n",
      " \n",
      "19.13276,72.52048&z=11&t=m&hl=en-US&gl=US&mapclient=apiv3\n",
      "Changed for 139 entry\n",
      "------------------------------\n"
     ]
    },
    {
     "name": "stderr",
     "output_type": "stream",
     "text": [
      "[WDM] - Current google-chrome version is 85.0.4183\n",
      "[WDM] - Get LATEST driver version for 85.0.4183\n",
      "[WDM] - Driver [C:\\Users\\acer\\.wdm\\drivers\\chromedriver\\win32\\85.0.4183.87\\chromedriver.exe] found in cache\n"
     ]
    },
    {
     "name": "stdout",
     "output_type": "stream",
     "text": [
      "opening chrome....\n",
      " \n",
      "19.10078,72.87462&z=11&t=m&hl=en-US&gl=US&mapclient=apiv3\n",
      "Changed for 140 entry\n",
      "------------------------------\n"
     ]
    },
    {
     "name": "stderr",
     "output_type": "stream",
     "text": [
      "[WDM] - Current google-chrome version is 85.0.4183\n",
      "[WDM] - Get LATEST driver version for 85.0.4183\n",
      "[WDM] - Driver [C:\\Users\\acer\\.wdm\\drivers\\chromedriver\\win32\\85.0.4183.87\\chromedriver.exe] found in cache\n"
     ]
    },
    {
     "name": "stdout",
     "output_type": "stream",
     "text": [
      "opening chrome....\n",
      " \n",
      "18.91,72.82&z=11&t=m&hl=en-US&gl=US&mapclient=apiv3\n",
      "Changed for 141 entry\n",
      "------------------------------\n"
     ]
    },
    {
     "name": "stderr",
     "output_type": "stream",
     "text": [
      "[WDM] - Current google-chrome version is 85.0.4183\n",
      "[WDM] - Get LATEST driver version for 85.0.4183\n",
      "[WDM] - Driver [C:\\Users\\acer\\.wdm\\drivers\\chromedriver\\win32\\85.0.4183.87\\chromedriver.exe] found in cache\n"
     ]
    },
    {
     "name": "stdout",
     "output_type": "stream",
     "text": [
      "opening chrome....\n",
      " \n",
      "19.0863,72.8888&z=11&t=m&hl=en-US&gl=US&mapclient=apiv3\n",
      "Changed for 142 entry\n",
      "------------------------------\n"
     ]
    },
    {
     "name": "stderr",
     "output_type": "stream",
     "text": [
      "[WDM] - Current google-chrome version is 85.0.4183\n",
      "[WDM] - Get LATEST driver version for 85.0.4183\n",
      "[WDM] - Driver [C:\\Users\\acer\\.wdm\\drivers\\chromedriver\\win32\\85.0.4183.87\\chromedriver.exe] found in cache\n"
     ]
    },
    {
     "name": "stdout",
     "output_type": "stream",
     "text": [
      "opening chrome....\n",
      " \n",
      "19.1375,72.915056&z=11&t=m&hl=en-US&gl=US&mapclient=apiv3\n",
      "Changed for 143 entry\n",
      "------------------------------\n"
     ]
    },
    {
     "name": "stderr",
     "output_type": "stream",
     "text": [
      "[WDM] - Current google-chrome version is 85.0.4183\n",
      "[WDM] - Get LATEST driver version for 85.0.4183\n",
      "[WDM] - Driver [C:\\Users\\acer\\.wdm\\drivers\\chromedriver\\win32\\85.0.4183.87\\chromedriver.exe] found in cache\n"
     ]
    },
    {
     "name": "stdout",
     "output_type": "stream",
     "text": [
      "opening chrome....\n",
      " \n",
      "19.047,72.8746&z=11&t=m&hl=en-US&gl=US&mapclient=apiv3\n",
      "Changed for 144 entry\n",
      "------------------------------\n"
     ]
    },
    {
     "name": "stderr",
     "output_type": "stream",
     "text": [
      "[WDM] - Current google-chrome version is 85.0.4183\n",
      "[WDM] - Get LATEST driver version for 85.0.4183\n",
      "[WDM] - Driver [C:\\Users\\acer\\.wdm\\drivers\\chromedriver\\win32\\85.0.4183.87\\chromedriver.exe] found in cache\n"
     ]
    },
    {
     "name": "stdout",
     "output_type": "stream",
     "text": [
      "opening chrome....\n",
      " \n",
      "19.3832,72.8204&z=11&t=m&hl=en-US&gl=US&mapclient=apiv3\n",
      "Changed for 145 entry\n",
      "------------------------------\n"
     ]
    },
    {
     "name": "stderr",
     "output_type": "stream",
     "text": [
      "[WDM] - Current google-chrome version is 85.0.4183\n",
      "[WDM] - Get LATEST driver version for 85.0.4183\n",
      "[WDM] - Driver [C:\\Users\\acer\\.wdm\\drivers\\chromedriver\\win32\\85.0.4183.87\\chromedriver.exe] found in cache\n"
     ]
    },
    {
     "name": "stdout",
     "output_type": "stream",
     "text": [
      "opening chrome....\n",
      " \n",
      "19.10861,72.83622&z=11&t=m&hl=en-US&gl=US&mapclient=apiv3\n",
      "Changed for 146 entry\n",
      "------------------------------\n"
     ]
    },
    {
     "name": "stderr",
     "output_type": "stream",
     "text": [
      "[WDM] - Current google-chrome version is 85.0.4183\n",
      "[WDM] - Get LATEST driver version for 85.0.4183\n",
      "[WDM] - Driver [C:\\Users\\acer\\.wdm\\drivers\\chromedriver\\win32\\85.0.4183.87\\chromedriver.exe] found in cache\n"
     ]
    },
    {
     "name": "stdout",
     "output_type": "stream",
     "text": [
      "opening chrome....\n",
      " \n",
      "18.993616,72.812811&z=11&t=m&hl=en-US&gl=US&mapclient=apiv3\n",
      "Changed for 147 entry\n",
      "------------------------------\n"
     ]
    },
    {
     "name": "stderr",
     "output_type": "stream",
     "text": [
      "[WDM] - Current google-chrome version is 85.0.4183\n",
      "[WDM] - Get LATEST driver version for 85.0.4183\n",
      "[WDM] - Driver [C:\\Users\\acer\\.wdm\\drivers\\chromedriver\\win32\\85.0.4183.87\\chromedriver.exe] found in cache\n"
     ]
    },
    {
     "name": "stdout",
     "output_type": "stream",
     "text": [
      "opening chrome....\n",
      " \n",
      "21.152875,79.051753&z=11&t=m&hl=en-US&gl=US&mapclient=apiv3\n",
      "Changed for 148 entry\n",
      "------------------------------\n"
     ]
    },
    {
     "name": "stderr",
     "output_type": "stream",
     "text": [
      "[WDM] - Current google-chrome version is 85.0.4183\n",
      "[WDM] - Get LATEST driver version for 85.0.4183\n",
      "[WDM] - Driver [C:\\Users\\acer\\.wdm\\drivers\\chromedriver\\win32\\85.0.4183.87\\chromedriver.exe] found in cache\n"
     ]
    },
    {
     "name": "stdout",
     "output_type": "stream",
     "text": [
      "opening chrome....\n",
      " \n",
      "20.007329,73.776243&z=11&t=m&hl=en-US&gl=US&mapclient=apiv3\n",
      "Changed for 149 entry\n",
      "------------------------------\n"
     ]
    },
    {
     "name": "stderr",
     "output_type": "stream",
     "text": [
      "[WDM] - Current google-chrome version is 85.0.4183\n",
      "[WDM] - Get LATEST driver version for 85.0.4183\n"
     ]
    },
    {
     "name": "stdout",
     "output_type": "stream",
     "text": [
      "opening chrome....\n",
      " \n"
     ]
    },
    {
     "name": "stderr",
     "output_type": "stream",
     "text": [
      "[WDM] - Driver [C:\\Users\\acer\\.wdm\\drivers\\chromedriver\\win32\\85.0.4183.87\\chromedriver.exe] found in cache\n"
     ]
    },
    {
     "name": "stdout",
     "output_type": "stream",
     "text": [
      "19.1494,72.9986&z=11&t=m&hl=en-US&gl=US&mapclient=apiv3\n",
      "Changed for 150 entry\n",
      "------------------------------\n"
     ]
    },
    {
     "name": "stderr",
     "output_type": "stream",
     "text": [
      "[WDM] - Current google-chrome version is 85.0.4183\n",
      "[WDM] - Get LATEST driver version for 85.0.4183\n",
      "[WDM] - Driver [C:\\Users\\acer\\.wdm\\drivers\\chromedriver\\win32\\85.0.4183.87\\chromedriver.exe] found in cache\n"
     ]
    },
    {
     "name": "stdout",
     "output_type": "stream",
     "text": [
      "opening chrome....\n",
      " \n",
      "19.113505,73.008978&z=11&t=m&hl=en-US&gl=US&mapclient=apiv3\n",
      "Changed for 151 entry\n",
      "------------------------------\n"
     ]
    },
    {
     "name": "stderr",
     "output_type": "stream",
     "text": [
      "[WDM] - Current google-chrome version is 85.0.4183\n",
      "[WDM] - Get LATEST driver version for 85.0.4183\n",
      "[WDM] - Driver [C:\\Users\\acer\\.wdm\\drivers\\chromedriver\\win32\\85.0.4183.87\\chromedriver.exe] found in cache\n"
     ]
    },
    {
     "name": "stdout",
     "output_type": "stream",
     "text": [
      "opening chrome....\n",
      " \n",
      "19.008751,73.01662&z=11&t=m&hl=en-US&gl=US&mapclient=apiv3\n",
      "Changed for 152 entry\n",
      "------------------------------\n"
     ]
    },
    {
     "name": "stderr",
     "output_type": "stream",
     "text": [
      "[WDM] - Current google-chrome version is 85.0.4183\n",
      "[WDM] - Get LATEST driver version for 85.0.4183\n",
      "[WDM] - Driver [C:\\Users\\acer\\.wdm\\drivers\\chromedriver\\win32\\85.0.4183.87\\chromedriver.exe] found in cache\n"
     ]
    },
    {
     "name": "stdout",
     "output_type": "stream",
     "text": [
      "opening chrome....\n",
      " \n",
      "18.501174,73.816553&z=11&t=m&hl=en-US&gl=US&mapclient=apiv3\n",
      "Changed for 153 entry\n",
      "------------------------------\n"
     ]
    },
    {
     "name": "stderr",
     "output_type": "stream",
     "text": [
      "[WDM] - Current google-chrome version is 85.0.4183\n",
      "[WDM] - Get LATEST driver version for 85.0.4183\n",
      "[WDM] - Driver [C:\\Users\\acer\\.wdm\\drivers\\chromedriver\\win32\\85.0.4183.87\\chromedriver.exe] found in cache\n"
     ]
    },
    {
     "name": "stdout",
     "output_type": "stream",
     "text": [
      "opening chrome....\n",
      " \n",
      "17.659919,75.906391&z=11&t=m&hl=en-US&gl=US&mapclient=apiv3\n",
      "Changed for 154 entry\n",
      "------------------------------\n"
     ]
    },
    {
     "name": "stderr",
     "output_type": "stream",
     "text": [
      "[WDM] - Current google-chrome version is 85.0.4183\n",
      "[WDM] - Get LATEST driver version for 85.0.4183\n",
      "[WDM] - Driver [C:\\Users\\acer\\.wdm\\drivers\\chromedriver\\win32\\85.0.4183.87\\chromedriver.exe] found in cache\n"
     ]
    },
    {
     "name": "stdout",
     "output_type": "stream",
     "text": [
      "opening chrome....\n",
      " \n",
      "19.192056,72.958519&z=11&t=m&hl=en-US&gl=US&mapclient=apiv3\n",
      "Changed for 155 entry\n",
      "------------------------------\n"
     ]
    },
    {
     "name": "stderr",
     "output_type": "stream",
     "text": [
      "[WDM] - Current google-chrome version is 85.0.4183\n",
      "[WDM] - Get LATEST driver version for 85.0.4183\n"
     ]
    },
    {
     "name": "stdout",
     "output_type": "stream",
     "text": [
      "opening chrome....\n",
      " \n"
     ]
    },
    {
     "name": "stderr",
     "output_type": "stream",
     "text": [
      "[WDM] - Driver [C:\\Users\\acer\\.wdm\\drivers\\chromedriver\\win32\\85.0.4183.87\\chromedriver.exe] found in cache\n"
     ]
    },
    {
     "name": "stdout",
     "output_type": "stream",
     "text": [
      "25.5586,91.8985&z=11&t=m&hl=en-US&gl=US&mapclient=apiv3\n",
      "Changed for 156 entry\n",
      "------------------------------\n"
     ]
    },
    {
     "name": "stderr",
     "output_type": "stream",
     "text": [
      "[WDM] - Current google-chrome version is 85.0.4183\n",
      "[WDM] - Get LATEST driver version for 85.0.4183\n",
      "[WDM] - Driver [C:\\Users\\acer\\.wdm\\drivers\\chromedriver\\win32\\85.0.4183.87\\chromedriver.exe] found in cache\n"
     ]
    },
    {
     "name": "stdout",
     "output_type": "stream",
     "text": [
      "opening chrome....\n",
      " \n",
      "23.717634,92.719284&z=11&t=m&hl=en-US&gl=US&mapclient=apiv3\n",
      "Changed for 157 entry\n",
      "------------------------------\n"
     ]
    },
    {
     "name": "stderr",
     "output_type": "stream",
     "text": [
      "[WDM] - Current google-chrome version is 85.0.4183\n",
      "[WDM] - Get LATEST driver version for 85.0.4183\n",
      "[WDM] - Driver [C:\\Users\\acer\\.wdm\\drivers\\chromedriver\\win32\\85.0.4183.87\\chromedriver.exe] found in cache\n"
     ]
    },
    {
     "name": "stdout",
     "output_type": "stream",
     "text": [
      "opening chrome....\n",
      " \n",
      "25.663541,94.098988&z=11&t=m&hl=en-US&gl=US&mapclient=apiv3\n",
      "Changed for 158 entry\n",
      "------------------------------\n"
     ]
    },
    {
     "name": "stderr",
     "output_type": "stream",
     "text": [
      "[WDM] - Current google-chrome version is 85.0.4183\n",
      "[WDM] - Get LATEST driver version for 85.0.4183\n",
      "[WDM] - Driver [C:\\Users\\acer\\.wdm\\drivers\\chromedriver\\win32\\85.0.4183.87\\chromedriver.exe] found in cache\n"
     ]
    },
    {
     "name": "stdout",
     "output_type": "stream",
     "text": [
      "opening chrome....\n",
      " \n",
      "21.8005,83.839698&z=11&t=m&hl=en-US&gl=US&mapclient=apiv3\n",
      "Changed for 159 entry\n",
      "------------------------------\n"
     ]
    },
    {
     "name": "stderr",
     "output_type": "stream",
     "text": [
      "[WDM] - Current google-chrome version is 85.0.4183\n",
      "[WDM] - Get LATEST driver version for 85.0.4183\n",
      "[WDM] - Driver [C:\\Users\\acer\\.wdm\\drivers\\chromedriver\\win32\\85.0.4183.87\\chromedriver.exe] found in cache\n"
     ]
    },
    {
     "name": "stdout",
     "output_type": "stream",
     "text": [
      "opening chrome....\n",
      " \n",
      "20.936071,85.170702&z=11&t=m&hl=en-US&gl=US&mapclient=apiv3\n",
      "Changed for 160 entry\n",
      "------------------------------\n"
     ]
    },
    {
     "name": "stderr",
     "output_type": "stream",
     "text": [
      "[WDM] - Current google-chrome version is 85.0.4183\n",
      "[WDM] - Get LATEST driver version for 85.0.4183\n",
      "[WDM] - Driver [C:\\Users\\acer\\.wdm\\drivers\\chromedriver\\win32\\85.0.4183.87\\chromedriver.exe] found in cache\n"
     ]
    },
    {
     "name": "stdout",
     "output_type": "stream",
     "text": [
      "opening chrome....\n",
      " \n",
      "31.62,74.876512&z=11&t=m&hl=en-US&gl=US&mapclient=apiv3\n",
      "Changed for 161 entry\n",
      "------------------------------\n"
     ]
    },
    {
     "name": "stderr",
     "output_type": "stream",
     "text": [
      "[WDM] - Current google-chrome version is 85.0.4183\n",
      "[WDM] - Get LATEST driver version for 85.0.4183\n",
      "[WDM] - Driver [C:\\Users\\acer\\.wdm\\drivers\\chromedriver\\win32\\85.0.4183.87\\chromedriver.exe] found in cache\n"
     ]
    },
    {
     "name": "stdout",
     "output_type": "stream",
     "text": [
      "opening chrome....\n",
      " \n",
      "Problem encountered for Punjab, Bathinda, Hardev Nagar, Bathinda\n",
      "------------------------------\n"
     ]
    },
    {
     "name": "stderr",
     "output_type": "stream",
     "text": [
      "[WDM] - Current google-chrome version is 85.0.4183\n",
      "[WDM] - Get LATEST driver version for 85.0.4183\n",
      "[WDM] - Driver [C:\\Users\\acer\\.wdm\\drivers\\chromedriver\\win32\\85.0.4183.87\\chromedriver.exe] found in cache\n"
     ]
    },
    {
     "name": "stdout",
     "output_type": "stream",
     "text": [
      "opening chrome....\n",
      " \n",
      "31.321907,75.578914&z=11&t=m&hl=en-US&gl=US&mapclient=apiv3\n",
      "Changed for 163 entry\n",
      "------------------------------\n"
     ]
    },
    {
     "name": "stderr",
     "output_type": "stream",
     "text": [
      "[WDM] - Current google-chrome version is 85.0.4183\n",
      "[WDM] - Get LATEST driver version for 85.0.4183\n",
      "[WDM] - Driver [C:\\Users\\acer\\.wdm\\drivers\\chromedriver\\win32\\85.0.4183.87\\chromedriver.exe] found in cache\n"
     ]
    },
    {
     "name": "stdout",
     "output_type": "stream",
     "text": [
      "opening chrome....\n",
      " \n",
      "30.736056,76.209694&z=11&t=m&hl=en-US&gl=US&mapclient=apiv3\n",
      "Changed for 164 entry\n",
      "------------------------------\n"
     ]
    },
    {
     "name": "stderr",
     "output_type": "stream",
     "text": [
      "[WDM] - Current google-chrome version is 85.0.4183\n",
      "[WDM] - Get LATEST driver version for 85.0.4183\n",
      "[WDM] - Driver [C:\\Users\\acer\\.wdm\\drivers\\chromedriver\\win32\\85.0.4183.87\\chromedriver.exe] found in cache\n"
     ]
    },
    {
     "name": "stdout",
     "output_type": "stream",
     "text": [
      "opening chrome....\n",
      " \n",
      "30.9028,75.8086&z=11&t=m&hl=en-US&gl=US&mapclient=apiv3\n",
      "Changed for 165 entry\n",
      "------------------------------\n"
     ]
    },
    {
     "name": "stderr",
     "output_type": "stream",
     "text": [
      "[WDM] - Current google-chrome version is 85.0.4183\n",
      "[WDM] - Get LATEST driver version for 85.0.4183\n",
      "[WDM] - Driver [C:\\Users\\acer\\.wdm\\drivers\\chromedriver\\win32\\85.0.4183.87\\chromedriver.exe] found in cache\n"
     ]
    },
    {
     "name": "stdout",
     "output_type": "stream",
     "text": [
      "opening chrome....\n",
      " \n",
      "30.649961,76.331442&z=11&t=m&hl=en-US&gl=US&mapclient=apiv3\n",
      "Changed for 166 entry\n",
      "------------------------------\n"
     ]
    },
    {
     "name": "stderr",
     "output_type": "stream",
     "text": [
      "[WDM] - Current google-chrome version is 85.0.4183\n",
      "[WDM] - Get LATEST driver version for 85.0.4183\n",
      "[WDM] - Driver [C:\\Users\\acer\\.wdm\\drivers\\chromedriver\\win32\\85.0.4183.87\\chromedriver.exe] found in cache\n"
     ]
    },
    {
     "name": "stdout",
     "output_type": "stream",
     "text": [
      "opening chrome....\n",
      " \n",
      "30.349388,76.366642&z=11&t=m&hl=en-US&gl=US&mapclient=apiv3\n",
      "Changed for 167 entry\n",
      "------------------------------\n"
     ]
    },
    {
     "name": "stderr",
     "output_type": "stream",
     "text": [
      "[WDM] - Current google-chrome version is 85.0.4183\n",
      "[WDM] - Get LATEST driver version for 85.0.4183\n",
      "[WDM] - Driver [C:\\Users\\acer\\.wdm\\drivers\\chromedriver\\win32\\85.0.4183.87\\chromedriver.exe] found in cache\n"
     ]
    },
    {
     "name": "stdout",
     "output_type": "stream",
     "text": [
      "opening chrome....\n",
      " \n",
      "30.032545,76.562305&z=11&t=m&hl=en-US&gl=US&mapclient=apiv3\n",
      "Changed for 168 entry\n",
      "------------------------------\n"
     ]
    },
    {
     "name": "stderr",
     "output_type": "stream",
     "text": [
      "[WDM] - Current google-chrome version is 85.0.4183\n",
      "[WDM] - Get LATEST driver version for 85.0.4183\n",
      "[WDM] - Driver [C:\\Users\\acer\\.wdm\\drivers\\chromedriver\\win32\\85.0.4183.87\\chromedriver.exe] found in cache\n"
     ]
    },
    {
     "name": "stdout",
     "output_type": "stream",
     "text": [
      "opening chrome....\n",
      " \n",
      "Problem encountered for Rajasthan, Alwar, Moti Doongri, Alwar\n",
      "------------------------------\n"
     ]
    },
    {
     "name": "stderr",
     "output_type": "stream",
     "text": [
      "[WDM] - Current google-chrome version is 85.0.4183\n",
      "[WDM] - Get LATEST driver version for 85.0.4183\n",
      "[WDM] - Driver [C:\\Users\\acer\\.wdm\\drivers\\chromedriver\\win32\\85.0.4183.87\\chromedriver.exe] found in cache\n"
     ]
    },
    {
     "name": "stdout",
     "output_type": "stream",
     "text": [
      "opening chrome....\n",
      " \n",
      "26.470859,74.646594&z=11&t=m&hl=en-US&gl=US&mapclient=apiv3\n",
      "Changed for 170 entry\n",
      "------------------------------\n"
     ]
    },
    {
     "name": "stderr",
     "output_type": "stream",
     "text": [
      "[WDM] - Current google-chrome version is 85.0.4183\n",
      "[WDM] - Get LATEST driver version for 85.0.4183\n",
      "[WDM] - Driver [C:\\Users\\acer\\.wdm\\drivers\\chromedriver\\win32\\85.0.4183.87\\chromedriver.exe] found in cache\n"
     ]
    },
    {
     "name": "stdout",
     "output_type": "stream",
     "text": [
      "opening chrome....\n",
      " \n",
      "28.194909,76.862296&z=11&t=m&hl=en-US&gl=US&mapclient=apiv3\n",
      "Changed for 171 entry\n",
      "------------------------------\n"
     ]
    },
    {
     "name": "stderr",
     "output_type": "stream",
     "text": [
      "[WDM] - Current google-chrome version is 85.0.4183\n",
      "[WDM] - Get LATEST driver version for 85.0.4183\n",
      "[WDM] - Driver [C:\\Users\\acer\\.wdm\\drivers\\chromedriver\\win32\\85.0.4183.87\\chromedriver.exe] found in cache\n"
     ]
    },
    {
     "name": "stdout",
     "output_type": "stream",
     "text": [
      "opening chrome....\n",
      " \n",
      "26.902909,75.836858&z=11&t=m&hl=en-US&gl=US&mapclient=apiv3\n",
      "Changed for 172 entry\n",
      "------------------------------\n"
     ]
    },
    {
     "name": "stderr",
     "output_type": "stream",
     "text": [
      "[WDM] - Current google-chrome version is 85.0.4183\n",
      "[WDM] - Get LATEST driver version for 85.0.4183\n",
      "[WDM] - Driver [C:\\Users\\acer\\.wdm\\drivers\\chromedriver\\win32\\85.0.4183.87\\chromedriver.exe] found in cache\n"
     ]
    },
    {
     "name": "stdout",
     "output_type": "stream",
     "text": [
      "opening chrome....\n",
      " \n",
      "26.916409,75.79949&z=11&t=m&hl=en-US&gl=US&mapclient=apiv3\n",
      "Changed for 173 entry\n",
      "------------------------------\n"
     ]
    },
    {
     "name": "stderr",
     "output_type": "stream",
     "text": [
      "[WDM] - Current google-chrome version is 85.0.4183\n",
      "[WDM] - Get LATEST driver version for 85.0.4183\n",
      "[WDM] - Driver [C:\\Users\\acer\\.wdm\\drivers\\chromedriver\\win32\\85.0.4183.87\\chromedriver.exe] found in cache\n"
     ]
    },
    {
     "name": "stdout",
     "output_type": "stream",
     "text": [
      "opening chrome....\n",
      " \n",
      "26.950293,75.730943&z=11&t=m&hl=en-US&gl=US&mapclient=apiv3\n",
      "Changed for 174 entry\n",
      "------------------------------\n"
     ]
    },
    {
     "name": "stderr",
     "output_type": "stream",
     "text": [
      "[WDM] - Current google-chrome version is 85.0.4183\n",
      "[WDM] - Get LATEST driver version for 85.0.4183\n",
      "[WDM] - Driver [C:\\Users\\acer\\.wdm\\drivers\\chromedriver\\win32\\85.0.4183.87\\chromedriver.exe] found in cache\n"
     ]
    },
    {
     "name": "stdout",
     "output_type": "stream",
     "text": [
      "opening chrome....\n",
      " \n",
      "26.268249,73.019385&z=11&t=m&hl=en-US&gl=US&mapclient=apiv3\n",
      "Changed for 175 entry\n",
      "------------------------------\n"
     ]
    },
    {
     "name": "stderr",
     "output_type": "stream",
     "text": [
      "[WDM] - Current google-chrome version is 85.0.4183\n",
      "[WDM] - Get LATEST driver version for 85.0.4183\n",
      "[WDM] - Driver [C:\\Users\\acer\\.wdm\\drivers\\chromedriver\\win32\\85.0.4183.87\\chromedriver.exe] found in cache\n"
     ]
    },
    {
     "name": "stdout",
     "output_type": "stream",
     "text": [
      "opening chrome....\n",
      " \n",
      "25.14389,75.821256&z=11&t=m&hl=en-US&gl=US&mapclient=apiv3\n",
      "Changed for 176 entry\n",
      "------------------------------\n"
     ]
    },
    {
     "name": "stderr",
     "output_type": "stream",
     "text": [
      "[WDM] - Current google-chrome version is 85.0.4183\n",
      "[WDM] - Get LATEST driver version for 85.0.4183\n",
      "[WDM] - Driver [C:\\Users\\acer\\.wdm\\drivers\\chromedriver\\win32\\85.0.4183.87\\chromedriver.exe] found in cache\n"
     ]
    },
    {
     "name": "stdout",
     "output_type": "stream",
     "text": [
      "opening chrome....\n",
      " \n",
      "25.771061,73.340227&z=11&t=m&hl=en-US&gl=US&mapclient=apiv3\n",
      "Changed for 177 entry\n",
      "------------------------------\n"
     ]
    },
    {
     "name": "stderr",
     "output_type": "stream",
     "text": [
      "[WDM] - Current google-chrome version is 85.0.4183\n",
      "[WDM] - Get LATEST driver version for 85.0.4183\n",
      "[WDM] - Driver [C:\\Users\\acer\\.wdm\\drivers\\chromedriver\\win32\\85.0.4183.87\\chromedriver.exe] found in cache\n"
     ]
    },
    {
     "name": "stdout",
     "output_type": "stream",
     "text": [
      "opening chrome....\n",
      " \n",
      "24.588617,73.63214&z=11&t=m&hl=en-US&gl=US&mapclient=apiv3\n",
      "Changed for 178 entry\n",
      "------------------------------\n"
     ]
    },
    {
     "name": "stderr",
     "output_type": "stream",
     "text": [
      "[WDM] - Current google-chrome version is 85.0.4183\n",
      "[WDM] - Get LATEST driver version for 85.0.4183\n",
      "[WDM] - Driver [C:\\Users\\acer\\.wdm\\drivers\\chromedriver\\win32\\85.0.4183.87\\chromedriver.exe] found in cache\n"
     ]
    },
    {
     "name": "stdout",
     "output_type": "stream",
     "text": [
      "opening chrome....\n",
      " \n",
      "12.909916,80.107654&z=11&t=m&hl=en-US&gl=US&mapclient=apiv3\n",
      "Changed for 179 entry\n",
      "------------------------------\n"
     ]
    },
    {
     "name": "stderr",
     "output_type": "stream",
     "text": [
      "[WDM] - Current google-chrome version is 85.0.4183\n",
      "[WDM] - Get LATEST driver version for 85.0.4183\n",
      "[WDM] - Driver [C:\\Users\\acer\\.wdm\\drivers\\chromedriver\\win32\\85.0.4183.87\\chromedriver.exe] found in cache\n"
     ]
    },
    {
     "name": "stdout",
     "output_type": "stream",
     "text": [
      "opening chrome....\n",
      " \n",
      "13.1662,80.2584&z=11&t=m&hl=en-US&gl=US&mapclient=apiv3\n",
      "Changed for 180 entry\n",
      "------------------------------\n"
     ]
    },
    {
     "name": "stderr",
     "output_type": "stream",
     "text": [
      "[WDM] - Current google-chrome version is 85.0.4183\n",
      "[WDM] - Get LATEST driver version for 85.0.4183\n",
      "[WDM] - Driver [C:\\Users\\acer\\.wdm\\drivers\\chromedriver\\win32\\85.0.4183.87\\chromedriver.exe] found in cache\n"
     ]
    },
    {
     "name": "stdout",
     "output_type": "stream",
     "text": [
      "opening chrome....\n",
      " \n",
      "13.164544,80.26285&z=11&t=m&hl=en-US&gl=US&mapclient=apiv3\n",
      "Changed for 181 entry\n",
      "------------------------------\n"
     ]
    },
    {
     "name": "stderr",
     "output_type": "stream",
     "text": [
      "[WDM] - Current google-chrome version is 85.0.4183\n",
      "[WDM] - Get LATEST driver version for 85.0.4183\n",
      "[WDM] - Driver [C:\\Users\\acer\\.wdm\\drivers\\chromedriver\\win32\\85.0.4183.87\\chromedriver.exe] found in cache\n"
     ]
    },
    {
     "name": "stdout",
     "output_type": "stream",
     "text": [
      "opening chrome....\n",
      " \n",
      "13.005219,80.239813&z=11&t=m&hl=en-US&gl=US&mapclient=apiv3\n",
      "Changed for 182 entry\n",
      "------------------------------\n"
     ]
    },
    {
     "name": "stderr",
     "output_type": "stream",
     "text": [
      "[WDM] - Current google-chrome version is 85.0.4183\n",
      "[WDM] - Get LATEST driver version for 85.0.4183\n",
      "[WDM] - Driver [C:\\Users\\acer\\.wdm\\drivers\\chromedriver\\win32\\85.0.4183.87\\chromedriver.exe] found in cache\n"
     ]
    },
    {
     "name": "stdout",
     "output_type": "stream",
     "text": [
      "opening chrome....\n",
      " \n",
      "10.942451,76.978996&z=11&t=m&hl=en-US&gl=US&mapclient=apiv3\n",
      "Changed for 183 entry\n",
      "------------------------------\n"
     ]
    },
    {
     "name": "stderr",
     "output_type": "stream",
     "text": [
      "[WDM] - Current google-chrome version is 85.0.4183\n",
      "[WDM] - Get LATEST driver version for 85.0.4183\n",
      "[WDM] - Driver [C:\\Users\\acer\\.wdm\\drivers\\chromedriver\\win32\\85.0.4183.87\\chromedriver.exe] found in cache\n"
     ]
    },
    {
     "name": "stdout",
     "output_type": "stream",
     "text": [
      "opening chrome....\n",
      " \n",
      "17.540891,78.358528&z=11&t=m&hl=en-US&gl=US&mapclient=apiv3\n",
      "Changed for 184 entry\n",
      "------------------------------\n"
     ]
    },
    {
     "name": "stderr",
     "output_type": "stream",
     "text": [
      "[WDM] - Current google-chrome version is 85.0.4183\n",
      "[WDM] - Get LATEST driver version for 85.0.4183\n",
      "[WDM] - Driver [C:\\Users\\acer\\.wdm\\drivers\\chromedriver\\win32\\85.0.4183.87\\chromedriver.exe] found in cache\n"
     ]
    },
    {
     "name": "stdout",
     "output_type": "stream",
     "text": [
      "opening chrome....\n",
      " \n",
      "17.460103,78.334361&z=11&t=m&hl=en-US&gl=US&mapclient=apiv3\n",
      "Changed for 185 entry\n",
      "------------------------------\n"
     ]
    },
    {
     "name": "stderr",
     "output_type": "stream",
     "text": [
      "[WDM] - Current google-chrome version is 85.0.4183\n",
      "[WDM] - Get LATEST driver version for 85.0.4183\n",
      "[WDM] - Driver [C:\\Users\\acer\\.wdm\\drivers\\chromedriver\\win32\\85.0.4183.87\\chromedriver.exe] found in cache\n"
     ]
    },
    {
     "name": "stdout",
     "output_type": "stream",
     "text": [
      "opening chrome....\n",
      " \n",
      "17.5184,78.278777&z=11&t=m&hl=en-US&gl=US&mapclient=apiv3\n",
      "Changed for 186 entry\n",
      "------------------------------\n"
     ]
    },
    {
     "name": "stderr",
     "output_type": "stream",
     "text": [
      "[WDM] - Current google-chrome version is 85.0.4183\n",
      "[WDM] - Get LATEST driver version for 85.0.4183\n",
      "[WDM] - Driver [C:\\Users\\acer\\.wdm\\drivers\\chromedriver\\win32\\85.0.4183.87\\chromedriver.exe] found in cache\n"
     ]
    },
    {
     "name": "stdout",
     "output_type": "stream",
     "text": [
      "opening chrome....\n",
      " \n",
      "17.53169,78.218939&z=11&t=m&hl=en-US&gl=US&mapclient=apiv3\n",
      "Changed for 187 entry\n",
      "------------------------------\n"
     ]
    },
    {
     "name": "stderr",
     "output_type": "stream",
     "text": [
      "[WDM] - Current google-chrome version is 85.0.4183\n",
      "[WDM] - Get LATEST driver version for 85.0.4183\n",
      "[WDM] - Driver [C:\\Users\\acer\\.wdm\\drivers\\chromedriver\\win32\\85.0.4183.87\\chromedriver.exe] found in cache\n"
     ]
    },
    {
     "name": "stdout",
     "output_type": "stream",
     "text": [
      "opening chrome....\n",
      " \n",
      "17.455946,78.433215&z=11&t=m&hl=en-US&gl=US&mapclient=apiv3\n",
      "Changed for 188 entry\n",
      "------------------------------\n"
     ]
    },
    {
     "name": "stderr",
     "output_type": "stream",
     "text": [
      "[WDM] - Current google-chrome version is 85.0.4183\n",
      "[WDM] - Get LATEST driver version for 85.0.4183\n",
      "[WDM] - Driver [C:\\Users\\acer\\.wdm\\drivers\\chromedriver\\win32\\85.0.4183.87\\chromedriver.exe] found in cache\n"
     ]
    },
    {
     "name": "stdout",
     "output_type": "stream",
     "text": [
      "opening chrome....\n",
      " \n",
      "17.349694,78.451437&z=11&t=m&hl=en-US&gl=US&mapclient=apiv3\n",
      "Changed for 189 entry\n",
      "------------------------------\n"
     ]
    },
    {
     "name": "stderr",
     "output_type": "stream",
     "text": [
      "[WDM] - Current google-chrome version is 85.0.4183\n",
      "[WDM] - Get LATEST driver version for 85.0.4183\n",
      "[WDM] - Driver [C:\\Users\\acer\\.wdm\\drivers\\chromedriver\\win32\\85.0.4183.87\\chromedriver.exe] found in cache\n"
     ]
    },
    {
     "name": "stdout",
     "output_type": "stream",
     "text": [
      "opening chrome....\n",
      " \n",
      "27.198658,78.005981&z=11&t=m&hl=en-US&gl=US&mapclient=apiv3\n",
      "Changed for 190 entry\n",
      "------------------------------\n"
     ]
    },
    {
     "name": "stderr",
     "output_type": "stream",
     "text": [
      "[WDM] - Current google-chrome version is 85.0.4183\n",
      "[WDM] - Get LATEST driver version for 85.0.4183\n",
      "[WDM] - Driver [C:\\Users\\acer\\.wdm\\drivers\\chromedriver\\win32\\85.0.4183.87\\chromedriver.exe] found in cache\n"
     ]
    },
    {
     "name": "stdout",
     "output_type": "stream",
     "text": [
      "opening chrome....\n",
      " \n",
      "28.974801,77.213357&z=11&t=m&hl=en-US&gl=US&mapclient=apiv3\n",
      "Changed for 191 entry\n",
      "------------------------------\n"
     ]
    },
    {
     "name": "stderr",
     "output_type": "stream",
     "text": [
      "[WDM] - Current google-chrome version is 85.0.4183\n",
      "[WDM] - Get LATEST driver version for 85.0.4183\n",
      "[WDM] - Driver [C:\\Users\\acer\\.wdm\\drivers\\chromedriver\\win32\\85.0.4183.87\\chromedriver.exe] found in cache\n"
     ]
    },
    {
     "name": "stdout",
     "output_type": "stream",
     "text": [
      "opening chrome....\n",
      " \n",
      "28.406963,77.849831&z=11&t=m&hl=en-US&gl=US&mapclient=apiv3\n",
      "Changed for 192 entry\n",
      "------------------------------\n"
     ]
    },
    {
     "name": "stderr",
     "output_type": "stream",
     "text": [
      "[WDM] - Current google-chrome version is 85.0.4183\n",
      "[WDM] - Get LATEST driver version for 85.0.4183\n",
      "[WDM] - Driver [C:\\Users\\acer\\.wdm\\drivers\\chromedriver\\win32\\85.0.4183.87\\chromedriver.exe] found in cache\n"
     ]
    },
    {
     "name": "stdout",
     "output_type": "stream",
     "text": [
      "opening chrome....\n",
      " \n",
      "28.646233,77.358075&z=11&t=m&hl=en-US&gl=US&mapclient=apiv3\n",
      "Changed for 193 entry\n",
      "------------------------------\n"
     ]
    },
    {
     "name": "stderr",
     "output_type": "stream",
     "text": [
      "[WDM] - Current google-chrome version is 85.0.4183\n",
      "[WDM] - Get LATEST driver version for 85.0.4183\n",
      "[WDM] - Driver [C:\\Users\\acer\\.wdm\\drivers\\chromedriver\\win32\\85.0.4183.87\\chromedriver.exe] found in cache\n"
     ]
    },
    {
     "name": "stdout",
     "output_type": "stream",
     "text": [
      "opening chrome....\n",
      " \n",
      "28.757294,77.278792&z=11&t=m&hl=en-US&gl=US&mapclient=apiv3\n",
      "Changed for 194 entry\n",
      "------------------------------\n"
     ]
    },
    {
     "name": "stderr",
     "output_type": "stream",
     "text": [
      "[WDM] - Current google-chrome version is 85.0.4183\n",
      "[WDM] - Get LATEST driver version for 85.0.4183\n",
      "[WDM] - Driver [C:\\Users\\acer\\.wdm\\drivers\\chromedriver\\win32\\85.0.4183.87\\chromedriver.exe] found in cache\n"
     ]
    },
    {
     "name": "stdout",
     "output_type": "stream",
     "text": [
      "opening chrome....\n",
      " \n",
      "28.685382,77.453839&z=11&t=m&hl=en-US&gl=US&mapclient=apiv3\n",
      "Changed for 195 entry\n",
      "------------------------------\n"
     ]
    },
    {
     "name": "stderr",
     "output_type": "stream",
     "text": [
      "[WDM] - Current google-chrome version is 85.0.4183\n",
      "[WDM] - Get LATEST driver version for 85.0.4183\n",
      "[WDM] - Driver [C:\\Users\\acer\\.wdm\\drivers\\chromedriver\\win32\\85.0.4183.87\\chromedriver.exe] found in cache\n"
     ]
    },
    {
     "name": "stdout",
     "output_type": "stream",
     "text": [
      "opening chrome....\n",
      " \n",
      "28.660335,77.357256&z=11&t=m&hl=en-US&gl=US&mapclient=apiv3\n",
      "Changed for 196 entry\n",
      "------------------------------\n"
     ]
    },
    {
     "name": "stderr",
     "output_type": "stream",
     "text": [
      "[WDM] - Current google-chrome version is 85.0.4183\n",
      "[WDM] - Get LATEST driver version for 85.0.4183\n"
     ]
    },
    {
     "name": "stdout",
     "output_type": "stream",
     "text": [
      "opening chrome....\n",
      " \n"
     ]
    },
    {
     "name": "stderr",
     "output_type": "stream",
     "text": [
      "[WDM] - Driver [C:\\Users\\acer\\.wdm\\drivers\\chromedriver\\win32\\85.0.4183.87\\chromedriver.exe] found in cache\n"
     ]
    },
    {
     "name": "stdout",
     "output_type": "stream",
     "text": [
      "28.47272,77.482&z=11&t=m&hl=en-US&gl=US&mapclient=apiv3\n",
      "Changed for 197 entry\n",
      "------------------------------\n"
     ]
    },
    {
     "name": "stderr",
     "output_type": "stream",
     "text": [
      "[WDM] - Current google-chrome version is 85.0.4183\n",
      "[WDM] - Get LATEST driver version for 85.0.4183\n",
      "[WDM] - Driver [C:\\Users\\acer\\.wdm\\drivers\\chromedriver\\win32\\85.0.4183.87\\chromedriver.exe] found in cache\n"
     ]
    },
    {
     "name": "stdout",
     "output_type": "stream",
     "text": [
      "opening chrome....\n",
      " \n",
      "28.557054,77.453663&z=11&t=m&hl=en-US&gl=US&mapclient=apiv3\n",
      "Changed for 198 entry\n",
      "------------------------------\n"
     ]
    },
    {
     "name": "stderr",
     "output_type": "stream",
     "text": [
      "[WDM] - Current google-chrome version is 85.0.4183\n",
      "[WDM] - Get LATEST driver version for 85.0.4183\n",
      "[WDM] - Driver [C:\\Users\\acer\\.wdm\\drivers\\chromedriver\\win32\\85.0.4183.87\\chromedriver.exe] found in cache\n"
     ]
    },
    {
     "name": "stdout",
     "output_type": "stream",
     "text": [
      "opening chrome....\n",
      " \n",
      "28.725645,77.749675&z=11&t=m&hl=en-US&gl=US&mapclient=apiv3\n",
      "Changed for 199 entry\n",
      "------------------------------\n"
     ]
    },
    {
     "name": "stderr",
     "output_type": "stream",
     "text": [
      "[WDM] - Current google-chrome version is 85.0.4183\n",
      "[WDM] - Get LATEST driver version for 85.0.4183\n",
      "[WDM] - Driver [C:\\Users\\acer\\.wdm\\drivers\\chromedriver\\win32\\85.0.4183.87\\chromedriver.exe] found in cache\n"
     ]
    },
    {
     "name": "stdout",
     "output_type": "stream",
     "text": [
      "opening chrome....\n",
      " \n",
      "26.470314,80.322986&z=11&t=m&hl=en-US&gl=US&mapclient=apiv3\n",
      "Changed for 200 entry\n",
      "------------------------------\n"
     ]
    },
    {
     "name": "stderr",
     "output_type": "stream",
     "text": [
      "[WDM] - Current google-chrome version is 85.0.4183\n",
      "[WDM] - Get LATEST driver version for 85.0.4183\n",
      "[WDM] - Driver [C:\\Users\\acer\\.wdm\\drivers\\chromedriver\\win32\\85.0.4183.87\\chromedriver.exe] found in cache\n"
     ]
    },
    {
     "name": "stdout",
     "output_type": "stream",
     "text": [
      "opening chrome....\n",
      " \n",
      "26.8821,80.930275&z=11&t=m&hl=en-US&gl=US&mapclient=apiv3\n",
      "Changed for 201 entry\n",
      "------------------------------\n"
     ]
    },
    {
     "name": "stderr",
     "output_type": "stream",
     "text": [
      "[WDM] - Current google-chrome version is 85.0.4183\n",
      "[WDM] - Get LATEST driver version for 85.0.4183\n"
     ]
    },
    {
     "name": "stdout",
     "output_type": "stream",
     "text": [
      "opening chrome....\n",
      " \n"
     ]
    },
    {
     "name": "stderr",
     "output_type": "stream",
     "text": [
      "[WDM] - Driver [C:\\Users\\acer\\.wdm\\drivers\\chromedriver\\win32\\85.0.4183.87\\chromedriver.exe] found in cache\n"
     ]
    },
    {
     "name": "stdout",
     "output_type": "stream",
     "text": [
      "26.86812,81.005119&z=11&t=m&hl=en-US&gl=US&mapclient=apiv3\n",
      "Changed for 202 entry\n",
      "------------------------------\n"
     ]
    },
    {
     "name": "stderr",
     "output_type": "stream",
     "text": [
      "[WDM] - Current google-chrome version is 85.0.4183\n",
      "[WDM] - Get LATEST driver version for 85.0.4183\n"
     ]
    },
    {
     "name": "stdout",
     "output_type": "stream",
     "text": [
      "opening chrome....\n",
      " \n"
     ]
    },
    {
     "name": "stderr",
     "output_type": "stream",
     "text": [
      "[WDM] - Driver [C:\\Users\\acer\\.wdm\\drivers\\chromedriver\\win32\\85.0.4183.87\\chromedriver.exe] found in cache\n"
     ]
    },
    {
     "name": "stdout",
     "output_type": "stream",
     "text": [
      "26.84588,80.936554&z=11&t=m&hl=en-US&gl=US&mapclient=apiv3\n",
      "Changed for 203 entry\n",
      "------------------------------\n"
     ]
    },
    {
     "name": "stderr",
     "output_type": "stream",
     "text": [
      "[WDM] - Current google-chrome version is 85.0.4183\n",
      "[WDM] - Get LATEST driver version for 85.0.4183\n",
      "[WDM] - Driver [C:\\Users\\acer\\.wdm\\drivers\\chromedriver\\win32\\85.0.4183.87\\chromedriver.exe] found in cache\n"
     ]
    },
    {
     "name": "stdout",
     "output_type": "stream",
     "text": [
      "opening chrome....\n",
      " \n",
      "Problem encountered for Uttar Pradesh, Lucknow, Talkatora District Industries Center, Lucknow\n",
      "------------------------------\n"
     ]
    },
    {
     "name": "stderr",
     "output_type": "stream",
     "text": [
      "[WDM] - Current google-chrome version is 85.0.4183\n",
      "[WDM] - Get LATEST driver version for 85.0.4183\n"
     ]
    },
    {
     "name": "stdout",
     "output_type": "stream",
     "text": [
      "opening chrome....\n",
      " \n"
     ]
    },
    {
     "name": "stderr",
     "output_type": "stream",
     "text": [
      "[WDM] - Driver [C:\\Users\\acer\\.wdm\\drivers\\chromedriver\\win32\\85.0.4183.87\\chromedriver.exe] found in cache\n"
     ]
    },
    {
     "name": "stdout",
     "output_type": "stream",
     "text": [
      "28.999264,77.759035&z=11&t=m&hl=en-US&gl=US&mapclient=apiv3\n",
      "Changed for 205 entry\n",
      "------------------------------\n"
     ]
    },
    {
     "name": "stderr",
     "output_type": "stream",
     "text": [
      "[WDM] - Current google-chrome version is 85.0.4183\n",
      "[WDM] - Get LATEST driver version for 85.0.4183\n",
      "[WDM] - Driver [C:\\Users\\acer\\.wdm\\drivers\\chromedriver\\win32\\85.0.4183.87\\chromedriver.exe] found in cache\n"
     ]
    },
    {
     "name": "stdout",
     "output_type": "stream",
     "text": [
      "opening chrome....\n",
      " \n",
      "28.953588,77.762294&z=11&t=m&hl=en-US&gl=US&mapclient=apiv3\n",
      "Changed for 206 entry\n",
      "------------------------------\n"
     ]
    },
    {
     "name": "stderr",
     "output_type": "stream",
     "text": [
      "[WDM] - Current google-chrome version is 85.0.4183\n",
      "[WDM] - Get LATEST driver version for 85.0.4183\n",
      "[WDM] - Driver [C:\\Users\\acer\\.wdm\\drivers\\chromedriver\\win32\\85.0.4183.87\\chromedriver.exe] found in cache\n"
     ]
    },
    {
     "name": "stdout",
     "output_type": "stream",
     "text": [
      "opening chrome....\n",
      " \n",
      "29.06351,77.709723&z=11&t=m&hl=en-US&gl=US&mapclient=apiv3\n",
      "Changed for 207 entry\n",
      "------------------------------\n"
     ]
    },
    {
     "name": "stderr",
     "output_type": "stream",
     "text": [
      "[WDM] - Current google-chrome version is 85.0.4183\n",
      "[WDM] - Get LATEST driver version for 85.0.4183\n",
      "[WDM] - Driver [C:\\Users\\acer\\.wdm\\drivers\\chromedriver\\win32\\85.0.4183.87\\chromedriver.exe] found in cache\n"
     ]
    },
    {
     "name": "stdout",
     "output_type": "stream",
     "text": [
      "opening chrome....\n",
      " \n",
      "28.825341,78.721301&z=11&t=m&hl=en-US&gl=US&mapclient=apiv3\n",
      "Changed for 208 entry\n",
      "------------------------------\n"
     ]
    },
    {
     "name": "stderr",
     "output_type": "stream",
     "text": [
      "[WDM] - Current google-chrome version is 85.0.4183\n",
      "[WDM] - Get LATEST driver version for 85.0.4183\n",
      "[WDM] - Driver [C:\\Users\\acer\\.wdm\\drivers\\chromedriver\\win32\\85.0.4183.87\\chromedriver.exe] found in cache\n"
     ]
    },
    {
     "name": "stdout",
     "output_type": "stream",
     "text": [
      "opening chrome....\n",
      " \n",
      "29.472351,77.719403&z=11&t=m&hl=en-US&gl=US&mapclient=apiv3\n",
      "Changed for 209 entry\n",
      "------------------------------\n"
     ]
    },
    {
     "name": "stderr",
     "output_type": "stream",
     "text": [
      "[WDM] - Current google-chrome version is 85.0.4183\n",
      "[WDM] - Get LATEST driver version for 85.0.4183\n",
      "[WDM] - Driver [C:\\Users\\acer\\.wdm\\drivers\\chromedriver\\win32\\85.0.4183.87\\chromedriver.exe] found in cache\n"
     ]
    },
    {
     "name": "stdout",
     "output_type": "stream",
     "text": [
      "opening chrome....\n",
      " \n",
      "28.544761,77.323126&z=11&t=m&hl=en-US&gl=US&mapclient=apiv3\n",
      "Changed for 210 entry\n",
      "------------------------------\n"
     ]
    },
    {
     "name": "stderr",
     "output_type": "stream",
     "text": [
      "[WDM] - Current google-chrome version is 85.0.4183\n",
      "[WDM] - Get LATEST driver version for 85.0.4183\n",
      "[WDM] - Driver [C:\\Users\\acer\\.wdm\\drivers\\chromedriver\\win32\\85.0.4183.87\\chromedriver.exe] found in cache\n"
     ]
    },
    {
     "name": "stdout",
     "output_type": "stream",
     "text": [
      "opening chrome....\n",
      " \n",
      "28.624548,77.35771&z=11&t=m&hl=en-US&gl=US&mapclient=apiv3\n",
      "Changed for 211 entry\n",
      "------------------------------\n"
     ]
    },
    {
     "name": "stderr",
     "output_type": "stream",
     "text": [
      "[WDM] - Current google-chrome version is 85.0.4183\n",
      "[WDM] - Get LATEST driver version for 85.0.4183\n",
      "[WDM] - Driver [C:\\Users\\acer\\.wdm\\drivers\\chromedriver\\win32\\85.0.4183.87\\chromedriver.exe] found in cache\n"
     ]
    },
    {
     "name": "stdout",
     "output_type": "stream",
     "text": [
      "opening chrome....\n",
      " \n",
      "28.5898,77.3101&z=11&t=m&hl=en-US&gl=US&mapclient=apiv3\n",
      "Changed for 212 entry\n",
      "------------------------------\n"
     ]
    },
    {
     "name": "stderr",
     "output_type": "stream",
     "text": [
      "[WDM] - Current google-chrome version is 85.0.4183\n",
      "[WDM] - Get LATEST driver version for 85.0.4183\n",
      "[WDM] - Driver [C:\\Users\\acer\\.wdm\\drivers\\chromedriver\\win32\\85.0.4183.87\\chromedriver.exe] found in cache\n"
     ]
    },
    {
     "name": "stdout",
     "output_type": "stream",
     "text": [
      "opening chrome....\n",
      " \n",
      "28.56923,77.393848&z=11&t=m&hl=en-US&gl=US&mapclient=apiv3\n",
      "Changed for 213 entry\n",
      "------------------------------\n"
     ]
    },
    {
     "name": "stderr",
     "output_type": "stream",
     "text": [
      "[WDM] - Current google-chrome version is 85.0.4183\n",
      "[WDM] - Get LATEST driver version for 85.0.4183\n",
      "[WDM] - Driver [C:\\Users\\acer\\.wdm\\drivers\\chromedriver\\win32\\85.0.4183.87\\chromedriver.exe] found in cache\n"
     ]
    },
    {
     "name": "stdout",
     "output_type": "stream",
     "text": [
      "opening chrome....\n",
      " \n",
      "25.350599,82.908307&z=11&t=m&hl=en-US&gl=US&mapclient=apiv3\n",
      "Changed for 214 entry\n",
      "------------------------------\n"
     ]
    },
    {
     "name": "stderr",
     "output_type": "stream",
     "text": [
      "[WDM] - Current google-chrome version is 85.0.4183\n",
      "[WDM] - Get LATEST driver version for 85.0.4183\n",
      "[WDM] - Driver [C:\\Users\\acer\\.wdm\\drivers\\chromedriver\\win32\\85.0.4183.87\\chromedriver.exe] found in cache\n"
     ]
    },
    {
     "name": "stdout",
     "output_type": "stream",
     "text": [
      "opening chrome....\n",
      " \n",
      "23.685297,86.945968&z=11&t=m&hl=en-US&gl=US&mapclient=apiv3\n",
      "Changed for 215 entry\n",
      "------------------------------\n"
     ]
    },
    {
     "name": "stderr",
     "output_type": "stream",
     "text": [
      "[WDM] - Current google-chrome version is 85.0.4183\n",
      "[WDM] - Get LATEST driver version for 85.0.4183\n",
      "[WDM] - Driver [C:\\Users\\acer\\.wdm\\drivers\\chromedriver\\win32\\85.0.4183.87\\chromedriver.exe] found in cache\n"
     ]
    },
    {
     "name": "stdout",
     "output_type": "stream",
     "text": [
      "opening chrome....\n",
      " \n",
      "22.629801,88.352017&z=11&t=m&hl=en-US&gl=US&mapclient=apiv3\n",
      "Changed for 216 entry\n",
      "------------------------------\n"
     ]
    },
    {
     "name": "stderr",
     "output_type": "stream",
     "text": [
      "[WDM] - Current google-chrome version is 85.0.4183\n",
      "[WDM] - Get LATEST driver version for 85.0.4183\n",
      "[WDM] - Driver [C:\\Users\\acer\\.wdm\\drivers\\chromedriver\\win32\\85.0.4183.87\\chromedriver.exe] found in cache\n"
     ]
    },
    {
     "name": "stdout",
     "output_type": "stream",
     "text": [
      "opening chrome....\n",
      " \n",
      "22.611968,88.347422&z=11&t=m&hl=en-US&gl=US&mapclient=apiv3\n",
      "Changed for 217 entry\n",
      "------------------------------\n"
     ]
    },
    {
     "name": "stderr",
     "output_type": "stream",
     "text": [
      "[WDM] - Current google-chrome version is 85.0.4183\n",
      "[WDM] - Get LATEST driver version for 85.0.4183\n",
      "[WDM] - Driver [C:\\Users\\acer\\.wdm\\drivers\\chromedriver\\win32\\85.0.4183.87\\chromedriver.exe] found in cache\n"
     ]
    },
    {
     "name": "stdout",
     "output_type": "stream",
     "text": [
      "opening chrome....\n",
      " \n",
      "22.568732,88.279728&z=11&t=m&hl=en-US&gl=US&mapclient=apiv3\n",
      "Changed for 218 entry\n",
      "------------------------------\n"
     ]
    },
    {
     "name": "stderr",
     "output_type": "stream",
     "text": [
      "[WDM] - Current google-chrome version is 85.0.4183\n",
      "[WDM] - Get LATEST driver version for 85.0.4183\n"
     ]
    },
    {
     "name": "stdout",
     "output_type": "stream",
     "text": [
      "opening chrome....\n",
      " \n"
     ]
    },
    {
     "name": "stderr",
     "output_type": "stream",
     "text": [
      "[WDM] - Driver [C:\\Users\\acer\\.wdm\\drivers\\chromedriver\\win32\\85.0.4183.87\\chromedriver.exe] found in cache\n"
     ]
    },
    {
     "name": "stdout",
     "output_type": "stream",
     "text": [
      "22.536751,88.363802&z=11&t=m&hl=en-US&gl=US&mapclient=apiv3\n",
      "Changed for 219 entry\n",
      "------------------------------\n"
     ]
    },
    {
     "name": "stderr",
     "output_type": "stream",
     "text": [
      "[WDM] - Current google-chrome version is 85.0.4183\n",
      "[WDM] - Get LATEST driver version for 85.0.4183\n",
      "[WDM] - Driver [C:\\Users\\acer\\.wdm\\drivers\\chromedriver\\win32\\85.0.4183.87\\chromedriver.exe] found in cache\n"
     ]
    },
    {
     "name": "stdout",
     "output_type": "stream",
     "text": [
      "opening chrome....\n",
      " \n",
      "22.58157,88.410025&z=11&t=m&hl=en-US&gl=US&mapclient=apiv3\n",
      "Changed for 220 entry\n",
      "------------------------------\n"
     ]
    },
    {
     "name": "stderr",
     "output_type": "stream",
     "text": [
      "[WDM] - Current google-chrome version is 85.0.4183\n",
      "[WDM] - Get LATEST driver version for 85.0.4183\n",
      "[WDM] - Driver [C:\\Users\\acer\\.wdm\\drivers\\chromedriver\\win32\\85.0.4183.87\\chromedriver.exe] found in cache\n"
     ]
    },
    {
     "name": "stdout",
     "output_type": "stream",
     "text": [
      "opening chrome....\n",
      " \n",
      "22.55664,88.342674&z=11&t=m&hl=en-US&gl=US&mapclient=apiv3\n",
      "Changed for 221 entry\n",
      "------------------------------\n"
     ]
    },
    {
     "name": "stderr",
     "output_type": "stream",
     "text": [
      "[WDM] - Current google-chrome version is 85.0.4183\n",
      "[WDM] - Get LATEST driver version for 85.0.4183\n",
      "[WDM] - Driver [C:\\Users\\acer\\.wdm\\drivers\\chromedriver\\win32\\85.0.4183.87\\chromedriver.exe] found in cache\n"
     ]
    },
    {
     "name": "stdout",
     "output_type": "stream",
     "text": [
      "opening chrome....\n",
      " \n",
      "22.49929,88.36917&z=11&t=m&hl=en-US&gl=US&mapclient=apiv3\n",
      "Changed for 222 entry\n",
      "------------------------------\n"
     ]
    },
    {
     "name": "stderr",
     "output_type": "stream",
     "text": [
      "[WDM] - Current google-chrome version is 85.0.4183\n",
      "[WDM] - Get LATEST driver version for 85.0.4183\n",
      "[WDM] - Driver [C:\\Users\\acer\\.wdm\\drivers\\chromedriver\\win32\\85.0.4183.87\\chromedriver.exe] found in cache\n"
     ]
    },
    {
     "name": "stdout",
     "output_type": "stream",
     "text": [
      "opening chrome....\n",
      " \n",
      "22.627847,88.380669&z=11&t=m&hl=en-US&gl=US&mapclient=apiv3\n",
      "Changed for 223 entry\n",
      "------------------------------\n"
     ]
    },
    {
     "name": "stderr",
     "output_type": "stream",
     "text": [
      "[WDM] - Current google-chrome version is 85.0.4183\n",
      "[WDM] - Get LATEST driver version for 85.0.4183\n",
      "[WDM] - Driver [C:\\Users\\acer\\.wdm\\drivers\\chromedriver\\win32\\85.0.4183.87\\chromedriver.exe] found in cache\n"
     ]
    },
    {
     "name": "stdout",
     "output_type": "stream",
     "text": [
      "opening chrome....\n",
      " \n",
      "22.51106,88.35142&z=11&t=m&hl=en-US&gl=US&mapclient=apiv3\n",
      "Changed for 224 entry\n",
      "------------------------------\n"
     ]
    },
    {
     "name": "stderr",
     "output_type": "stream",
     "text": [
      "[WDM] - Current google-chrome version is 85.0.4183\n",
      "[WDM] - Get LATEST driver version for 85.0.4183\n",
      "[WDM] - Driver [C:\\Users\\acer\\.wdm\\drivers\\chromedriver\\win32\\85.0.4183.87\\chromedriver.exe] found in cache\n"
     ]
    },
    {
     "name": "stdout",
     "output_type": "stream",
     "text": [
      "opening chrome....\n",
      " \n",
      "22.544808,88.340369&z=11&t=m&hl=en-US&gl=US&mapclient=apiv3\n",
      "Changed for 225 entry\n",
      "------------------------------\n"
     ]
    },
    {
     "name": "stderr",
     "output_type": "stream",
     "text": [
      "[WDM] - Current google-chrome version is 85.0.4183\n",
      "[WDM] - Get LATEST driver version for 85.0.4183\n",
      "[WDM] - Driver [C:\\Users\\acer\\.wdm\\drivers\\chromedriver\\win32\\85.0.4183.87\\chromedriver.exe] found in cache\n"
     ]
    },
    {
     "name": "stdout",
     "output_type": "stream",
     "text": [
      "opening chrome....\n",
      " \n",
      "Problem encountered for West Bengal, Siliguri, Ward-32 Bapupara, Siliguri\n",
      "------------------------------\n"
     ]
    }
   ],
   "source": [
    "from selenium import webdriver\n",
    "from selenium.webdriver.support.ui import Select\n",
    "from selenium.webdriver.common.by import By\n",
    "from selenium.common.exceptions import NoSuchElementException\n",
    "import csv\n",
    "import time\n",
    "import csv\n",
    "import pandas as pd\n",
    "import warnings\n",
    "warnings.filterwarnings('ignore')\n",
    "\n",
    "\n",
    "for i in range(len(Row_list)):\n",
    "    cnt = 0\n",
    "    try: \n",
    "        print (\"opening chrome....\")  \n",
    "        driver = webdriver.Chrome(ChromeDriverManager().install())\n",
    "        url = 'https://app.cpcbccr.com/AQI_India/'\n",
    "        driver.get(url)\n",
    "\n",
    "        time.sleep(3)\n",
    "\n",
    "        State = Select(driver.find_element_by_id(\"states\"))\n",
    "        for state in driver.find_elements(By.XPATH, '//*[@id=\"states\"]'):\n",
    "#                 if(state.get_property(\"value\") == Row_list[i][0]):\n",
    "#                     State.select_by_value(Row_list[i][0])\n",
    "# #                 if state.get_property(\"value\") == Row_list[i][0] + ' ' :\n",
    "#                 Row_list[i][0] = Row_list[i][0] + ' '\n",
    "            State.select_by_value(Row_list[i][0])\n",
    "\n",
    "            state.click()\n",
    "            time.sleep(1)\n",
    "            City = Select(driver.find_element_by_id(\"cities\"))\n",
    "            for city in driver.find_elements(By.XPATH, '//*[@id=\"cities\"]'):\n",
    "#                     if(city.get_property(\"value\") == Row_list[i][1]):\n",
    "#                         City.select_by_value(Row_list[i][1])\n",
    "#                     if city.get_property(\"value\") == Row_list[i][1] + ' ':\n",
    "#                         Row_list[i][1] = Row_list[i][1] + ' '\n",
    "                City.select_by_value(Row_list[i][1])\n",
    "\n",
    "                city.click()\n",
    "                time.sleep(0)\n",
    "                StatCode = Select(driver.find_element_by_id(\"stations\"))\n",
    "                for statCode in driver.find_elements(By.XPATH, '//*[@id=\"stations\"]'):\n",
    "                    StatCode.select_by_value(Row_list[i][2])\n",
    "                    statCode.click()\n",
    "                    time.sleep(1)\n",
    "                    continue_link = driver.find_element_by_tag_name('a')\n",
    "                    elems = driver.find_elements_by_xpath(\"//*[@href]\")\n",
    "\n",
    "                    try:\n",
    "\n",
    "                        for elem in elems:\n",
    "                            api = elem.get_attribute(\"href\")\n",
    "                            if 'https://www.google.com/maps/@' in api:\n",
    "                                apikey = api.split(\"@\")[1]\n",
    "                                lat = apikey.split(\",\")[0] \n",
    "                                long = apikey.split(\",\")[1]\n",
    "                                break\n",
    "                            if 'https://maps.google.com/maps?ll=' in api:\n",
    "                                apikey = api.split(\"?ll=\")[1]\n",
    "                                lat = apikey.split(\",\")[0] \n",
    "                                lon = apikey.split(\",\")[1]\n",
    "                                long = lon.split(\"&\")[0]\n",
    "                                break\n",
    "                            else: \n",
    "                                cnt = cnt + 1\n",
    "                        \n",
    "                        print(apikey)\n",
    "\n",
    "                        latitude = float(lat)\n",
    "                        longitude = float(long)\n",
    "\n",
    "                        df['Latitude'][i] = latitude\n",
    "                        df['Longitude'][i] = longitude\n",
    "\n",
    "                        print(\"Changed for {} entry\".format(i+1))\n",
    "                        print(\"------------------------------\")\n",
    "\n",
    "                    except IndexError:\n",
    "                        print(apikey)\n",
    "                        continue\n",
    "        driver.quit()\n",
    "\n",
    "    except NoSuchElementException:\n",
    "        print(\"Problem encountered for {}, {}, {}\".format(Row_list[i][0], Row_list[i][1], Row_list[i][3]))\n",
    "        print(\"------------------------------\")\n",
    "        driver.quit()\n",
    "        continue"
   ]
  },
  {
   "cell_type": "code",
   "execution_count": 189,
   "metadata": {},
   "outputs": [],
   "source": [
    "df.to_csv('../Data/AllSitesLocations.csv')"
   ]
  },
  {
   "cell_type": "code",
   "execution_count": null,
   "metadata": {},
   "outputs": [],
   "source": []
  }
 ],
 "metadata": {
  "kernelspec": {
   "display_name": "Python 3",
   "language": "python",
   "name": "python3"
  },
  "language_info": {
   "codemirror_mode": {
    "name": "ipython",
    "version": 3
   },
   "file_extension": ".py",
   "mimetype": "text/x-python",
   "name": "python",
   "nbconvert_exporter": "python",
   "pygments_lexer": "ipython3",
   "version": "3.7.3"
  }
 },
 "nbformat": 4,
 "nbformat_minor": 2
}
